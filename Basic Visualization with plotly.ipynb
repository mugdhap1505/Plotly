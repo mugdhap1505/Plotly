{
 "cells": [
  {
   "cell_type": "markdown",
   "metadata": {},
   "source": [
    "# <center>Working With Plotly</center>"
   ]
  },
  {
   "cell_type": "markdown",
   "metadata": {},
   "source": [
    "## Import necessary libraries"
   ]
  },
  {
   "cell_type": "code",
   "execution_count": 9,
   "metadata": {},
   "outputs": [
    {
     "name": "stdout",
     "output_type": "stream",
     "text": [
      "4.8.1\n"
     ]
    }
   ],
   "source": [
    "import plotly\n",
    "from plotly import __version__\n",
    "print (__version__)\n",
    "from plotly.offline import download_plotlyjs, init_notebook_mode, plot, iplot"
   ]
  },
  {
   "cell_type": "code",
   "execution_count": 10,
   "metadata": {},
   "outputs": [
    {
     "data": {
      "text/html": [
       "        <script type=\"text/javascript\">\n",
       "        window.PlotlyConfig = {MathJaxConfig: 'local'};\n",
       "        if (window.MathJax) {MathJax.Hub.Config({SVG: {font: \"STIX-Web\"}});}\n",
       "        if (typeof require !== 'undefined') {\n",
       "        require.undef(\"plotly\");\n",
       "        requirejs.config({\n",
       "            paths: {\n",
       "                'plotly': ['https://cdn.plot.ly/plotly-latest.min']\n",
       "            }\n",
       "        });\n",
       "        require(['plotly'], function(Plotly) {\n",
       "            window._Plotly = Plotly;\n",
       "        });\n",
       "        }\n",
       "        </script>\n",
       "        "
      ]
     },
     "metadata": {},
     "output_type": "display_data"
    }
   ],
   "source": [
    "#Jupyter setup\n",
    "init_notebook_mode(connected=True)"
   ]
  },
  {
   "cell_type": "code",
   "execution_count": 11,
   "metadata": {},
   "outputs": [
    {
     "data": {
      "application/vnd.plotly.v1+json": {
       "config": {
        "linkText": "Export to plot.ly",
        "plotlyServerURL": "https://plot.ly",
        "showLink": false
       },
       "data": [
        {
         "type": "scatter",
         "x": [
          1,
          2,
          3,
          4,
          5
         ],
         "y": [
          2,
          6,
          5,
          8,
          1
         ]
        }
       ],
       "layout": {
        "template": {
         "data": {
          "bar": [
           {
            "error_x": {
             "color": "#2a3f5f"
            },
            "error_y": {
             "color": "#2a3f5f"
            },
            "marker": {
             "line": {
              "color": "#E5ECF6",
              "width": 0.5
             }
            },
            "type": "bar"
           }
          ],
          "barpolar": [
           {
            "marker": {
             "line": {
              "color": "#E5ECF6",
              "width": 0.5
             }
            },
            "type": "barpolar"
           }
          ],
          "carpet": [
           {
            "aaxis": {
             "endlinecolor": "#2a3f5f",
             "gridcolor": "white",
             "linecolor": "white",
             "minorgridcolor": "white",
             "startlinecolor": "#2a3f5f"
            },
            "baxis": {
             "endlinecolor": "#2a3f5f",
             "gridcolor": "white",
             "linecolor": "white",
             "minorgridcolor": "white",
             "startlinecolor": "#2a3f5f"
            },
            "type": "carpet"
           }
          ],
          "choropleth": [
           {
            "colorbar": {
             "outlinewidth": 0,
             "ticks": ""
            },
            "type": "choropleth"
           }
          ],
          "contour": [
           {
            "colorbar": {
             "outlinewidth": 0,
             "ticks": ""
            },
            "colorscale": [
             [
              0,
              "#0d0887"
             ],
             [
              0.1111111111111111,
              "#46039f"
             ],
             [
              0.2222222222222222,
              "#7201a8"
             ],
             [
              0.3333333333333333,
              "#9c179e"
             ],
             [
              0.4444444444444444,
              "#bd3786"
             ],
             [
              0.5555555555555556,
              "#d8576b"
             ],
             [
              0.6666666666666666,
              "#ed7953"
             ],
             [
              0.7777777777777778,
              "#fb9f3a"
             ],
             [
              0.8888888888888888,
              "#fdca26"
             ],
             [
              1,
              "#f0f921"
             ]
            ],
            "type": "contour"
           }
          ],
          "contourcarpet": [
           {
            "colorbar": {
             "outlinewidth": 0,
             "ticks": ""
            },
            "type": "contourcarpet"
           }
          ],
          "heatmap": [
           {
            "colorbar": {
             "outlinewidth": 0,
             "ticks": ""
            },
            "colorscale": [
             [
              0,
              "#0d0887"
             ],
             [
              0.1111111111111111,
              "#46039f"
             ],
             [
              0.2222222222222222,
              "#7201a8"
             ],
             [
              0.3333333333333333,
              "#9c179e"
             ],
             [
              0.4444444444444444,
              "#bd3786"
             ],
             [
              0.5555555555555556,
              "#d8576b"
             ],
             [
              0.6666666666666666,
              "#ed7953"
             ],
             [
              0.7777777777777778,
              "#fb9f3a"
             ],
             [
              0.8888888888888888,
              "#fdca26"
             ],
             [
              1,
              "#f0f921"
             ]
            ],
            "type": "heatmap"
           }
          ],
          "heatmapgl": [
           {
            "colorbar": {
             "outlinewidth": 0,
             "ticks": ""
            },
            "colorscale": [
             [
              0,
              "#0d0887"
             ],
             [
              0.1111111111111111,
              "#46039f"
             ],
             [
              0.2222222222222222,
              "#7201a8"
             ],
             [
              0.3333333333333333,
              "#9c179e"
             ],
             [
              0.4444444444444444,
              "#bd3786"
             ],
             [
              0.5555555555555556,
              "#d8576b"
             ],
             [
              0.6666666666666666,
              "#ed7953"
             ],
             [
              0.7777777777777778,
              "#fb9f3a"
             ],
             [
              0.8888888888888888,
              "#fdca26"
             ],
             [
              1,
              "#f0f921"
             ]
            ],
            "type": "heatmapgl"
           }
          ],
          "histogram": [
           {
            "marker": {
             "colorbar": {
              "outlinewidth": 0,
              "ticks": ""
             }
            },
            "type": "histogram"
           }
          ],
          "histogram2d": [
           {
            "colorbar": {
             "outlinewidth": 0,
             "ticks": ""
            },
            "colorscale": [
             [
              0,
              "#0d0887"
             ],
             [
              0.1111111111111111,
              "#46039f"
             ],
             [
              0.2222222222222222,
              "#7201a8"
             ],
             [
              0.3333333333333333,
              "#9c179e"
             ],
             [
              0.4444444444444444,
              "#bd3786"
             ],
             [
              0.5555555555555556,
              "#d8576b"
             ],
             [
              0.6666666666666666,
              "#ed7953"
             ],
             [
              0.7777777777777778,
              "#fb9f3a"
             ],
             [
              0.8888888888888888,
              "#fdca26"
             ],
             [
              1,
              "#f0f921"
             ]
            ],
            "type": "histogram2d"
           }
          ],
          "histogram2dcontour": [
           {
            "colorbar": {
             "outlinewidth": 0,
             "ticks": ""
            },
            "colorscale": [
             [
              0,
              "#0d0887"
             ],
             [
              0.1111111111111111,
              "#46039f"
             ],
             [
              0.2222222222222222,
              "#7201a8"
             ],
             [
              0.3333333333333333,
              "#9c179e"
             ],
             [
              0.4444444444444444,
              "#bd3786"
             ],
             [
              0.5555555555555556,
              "#d8576b"
             ],
             [
              0.6666666666666666,
              "#ed7953"
             ],
             [
              0.7777777777777778,
              "#fb9f3a"
             ],
             [
              0.8888888888888888,
              "#fdca26"
             ],
             [
              1,
              "#f0f921"
             ]
            ],
            "type": "histogram2dcontour"
           }
          ],
          "mesh3d": [
           {
            "colorbar": {
             "outlinewidth": 0,
             "ticks": ""
            },
            "type": "mesh3d"
           }
          ],
          "parcoords": [
           {
            "line": {
             "colorbar": {
              "outlinewidth": 0,
              "ticks": ""
             }
            },
            "type": "parcoords"
           }
          ],
          "pie": [
           {
            "automargin": true,
            "type": "pie"
           }
          ],
          "scatter": [
           {
            "marker": {
             "colorbar": {
              "outlinewidth": 0,
              "ticks": ""
             }
            },
            "type": "scatter"
           }
          ],
          "scatter3d": [
           {
            "line": {
             "colorbar": {
              "outlinewidth": 0,
              "ticks": ""
             }
            },
            "marker": {
             "colorbar": {
              "outlinewidth": 0,
              "ticks": ""
             }
            },
            "type": "scatter3d"
           }
          ],
          "scattercarpet": [
           {
            "marker": {
             "colorbar": {
              "outlinewidth": 0,
              "ticks": ""
             }
            },
            "type": "scattercarpet"
           }
          ],
          "scattergeo": [
           {
            "marker": {
             "colorbar": {
              "outlinewidth": 0,
              "ticks": ""
             }
            },
            "type": "scattergeo"
           }
          ],
          "scattergl": [
           {
            "marker": {
             "colorbar": {
              "outlinewidth": 0,
              "ticks": ""
             }
            },
            "type": "scattergl"
           }
          ],
          "scattermapbox": [
           {
            "marker": {
             "colorbar": {
              "outlinewidth": 0,
              "ticks": ""
             }
            },
            "type": "scattermapbox"
           }
          ],
          "scatterpolar": [
           {
            "marker": {
             "colorbar": {
              "outlinewidth": 0,
              "ticks": ""
             }
            },
            "type": "scatterpolar"
           }
          ],
          "scatterpolargl": [
           {
            "marker": {
             "colorbar": {
              "outlinewidth": 0,
              "ticks": ""
             }
            },
            "type": "scatterpolargl"
           }
          ],
          "scatterternary": [
           {
            "marker": {
             "colorbar": {
              "outlinewidth": 0,
              "ticks": ""
             }
            },
            "type": "scatterternary"
           }
          ],
          "surface": [
           {
            "colorbar": {
             "outlinewidth": 0,
             "ticks": ""
            },
            "colorscale": [
             [
              0,
              "#0d0887"
             ],
             [
              0.1111111111111111,
              "#46039f"
             ],
             [
              0.2222222222222222,
              "#7201a8"
             ],
             [
              0.3333333333333333,
              "#9c179e"
             ],
             [
              0.4444444444444444,
              "#bd3786"
             ],
             [
              0.5555555555555556,
              "#d8576b"
             ],
             [
              0.6666666666666666,
              "#ed7953"
             ],
             [
              0.7777777777777778,
              "#fb9f3a"
             ],
             [
              0.8888888888888888,
              "#fdca26"
             ],
             [
              1,
              "#f0f921"
             ]
            ],
            "type": "surface"
           }
          ],
          "table": [
           {
            "cells": {
             "fill": {
              "color": "#EBF0F8"
             },
             "line": {
              "color": "white"
             }
            },
            "header": {
             "fill": {
              "color": "#C8D4E3"
             },
             "line": {
              "color": "white"
             }
            },
            "type": "table"
           }
          ]
         },
         "layout": {
          "annotationdefaults": {
           "arrowcolor": "#2a3f5f",
           "arrowhead": 0,
           "arrowwidth": 1
          },
          "coloraxis": {
           "colorbar": {
            "outlinewidth": 0,
            "ticks": ""
           }
          },
          "colorscale": {
           "diverging": [
            [
             0,
             "#8e0152"
            ],
            [
             0.1,
             "#c51b7d"
            ],
            [
             0.2,
             "#de77ae"
            ],
            [
             0.3,
             "#f1b6da"
            ],
            [
             0.4,
             "#fde0ef"
            ],
            [
             0.5,
             "#f7f7f7"
            ],
            [
             0.6,
             "#e6f5d0"
            ],
            [
             0.7,
             "#b8e186"
            ],
            [
             0.8,
             "#7fbc41"
            ],
            [
             0.9,
             "#4d9221"
            ],
            [
             1,
             "#276419"
            ]
           ],
           "sequential": [
            [
             0,
             "#0d0887"
            ],
            [
             0.1111111111111111,
             "#46039f"
            ],
            [
             0.2222222222222222,
             "#7201a8"
            ],
            [
             0.3333333333333333,
             "#9c179e"
            ],
            [
             0.4444444444444444,
             "#bd3786"
            ],
            [
             0.5555555555555556,
             "#d8576b"
            ],
            [
             0.6666666666666666,
             "#ed7953"
            ],
            [
             0.7777777777777778,
             "#fb9f3a"
            ],
            [
             0.8888888888888888,
             "#fdca26"
            ],
            [
             1,
             "#f0f921"
            ]
           ],
           "sequentialminus": [
            [
             0,
             "#0d0887"
            ],
            [
             0.1111111111111111,
             "#46039f"
            ],
            [
             0.2222222222222222,
             "#7201a8"
            ],
            [
             0.3333333333333333,
             "#9c179e"
            ],
            [
             0.4444444444444444,
             "#bd3786"
            ],
            [
             0.5555555555555556,
             "#d8576b"
            ],
            [
             0.6666666666666666,
             "#ed7953"
            ],
            [
             0.7777777777777778,
             "#fb9f3a"
            ],
            [
             0.8888888888888888,
             "#fdca26"
            ],
            [
             1,
             "#f0f921"
            ]
           ]
          },
          "colorway": [
           "#636efa",
           "#EF553B",
           "#00cc96",
           "#ab63fa",
           "#FFA15A",
           "#19d3f3",
           "#FF6692",
           "#B6E880",
           "#FF97FF",
           "#FECB52"
          ],
          "font": {
           "color": "#2a3f5f"
          },
          "geo": {
           "bgcolor": "white",
           "lakecolor": "white",
           "landcolor": "#E5ECF6",
           "showlakes": true,
           "showland": true,
           "subunitcolor": "white"
          },
          "hoverlabel": {
           "align": "left"
          },
          "hovermode": "closest",
          "mapbox": {
           "style": "light"
          },
          "paper_bgcolor": "white",
          "plot_bgcolor": "#E5ECF6",
          "polar": {
           "angularaxis": {
            "gridcolor": "white",
            "linecolor": "white",
            "ticks": ""
           },
           "bgcolor": "#E5ECF6",
           "radialaxis": {
            "gridcolor": "white",
            "linecolor": "white",
            "ticks": ""
           }
          },
          "scene": {
           "xaxis": {
            "backgroundcolor": "#E5ECF6",
            "gridcolor": "white",
            "gridwidth": 2,
            "linecolor": "white",
            "showbackground": true,
            "ticks": "",
            "zerolinecolor": "white"
           },
           "yaxis": {
            "backgroundcolor": "#E5ECF6",
            "gridcolor": "white",
            "gridwidth": 2,
            "linecolor": "white",
            "showbackground": true,
            "ticks": "",
            "zerolinecolor": "white"
           },
           "zaxis": {
            "backgroundcolor": "#E5ECF6",
            "gridcolor": "white",
            "gridwidth": 2,
            "linecolor": "white",
            "showbackground": true,
            "ticks": "",
            "zerolinecolor": "white"
           }
          },
          "shapedefaults": {
           "line": {
            "color": "#2a3f5f"
           }
          },
          "ternary": {
           "aaxis": {
            "gridcolor": "white",
            "linecolor": "white",
            "ticks": ""
           },
           "baxis": {
            "gridcolor": "white",
            "linecolor": "white",
            "ticks": ""
           },
           "bgcolor": "#E5ECF6",
           "caxis": {
            "gridcolor": "white",
            "linecolor": "white",
            "ticks": ""
           }
          },
          "title": {
           "x": 0.05
          },
          "xaxis": {
           "automargin": true,
           "gridcolor": "white",
           "linecolor": "white",
           "ticks": "",
           "title": {
            "standoff": 15
           },
           "zerolinecolor": "white",
           "zerolinewidth": 2
          },
          "yaxis": {
           "automargin": true,
           "gridcolor": "white",
           "linecolor": "white",
           "ticks": "",
           "title": {
            "standoff": 15
           },
           "zerolinecolor": "white",
           "zerolinewidth": 2
          }
         }
        }
       }
      },
      "text/html": [
       "<div>\n",
       "        \n",
       "        \n",
       "            <div id=\"922334cf-a1f1-407f-aeca-c44fecd2fa1c\" class=\"plotly-graph-div\" style=\"height:525px; width:100%;\"></div>\n",
       "            <script type=\"text/javascript\">\n",
       "                require([\"plotly\"], function(Plotly) {\n",
       "                    window.PLOTLYENV=window.PLOTLYENV || {};\n",
       "                    \n",
       "                if (document.getElementById(\"922334cf-a1f1-407f-aeca-c44fecd2fa1c\")) {\n",
       "                    Plotly.newPlot(\n",
       "                        '922334cf-a1f1-407f-aeca-c44fecd2fa1c',\n",
       "                        [{\"type\": \"scatter\", \"x\": [1, 2, 3, 4, 5], \"y\": [2, 6, 5, 8, 1]}],\n",
       "                        {\"template\": {\"data\": {\"bar\": [{\"error_x\": {\"color\": \"#2a3f5f\"}, \"error_y\": {\"color\": \"#2a3f5f\"}, \"marker\": {\"line\": {\"color\": \"#E5ECF6\", \"width\": 0.5}}, \"type\": \"bar\"}], \"barpolar\": [{\"marker\": {\"line\": {\"color\": \"#E5ECF6\", \"width\": 0.5}}, \"type\": \"barpolar\"}], \"carpet\": [{\"aaxis\": {\"endlinecolor\": \"#2a3f5f\", \"gridcolor\": \"white\", \"linecolor\": \"white\", \"minorgridcolor\": \"white\", \"startlinecolor\": \"#2a3f5f\"}, \"baxis\": {\"endlinecolor\": \"#2a3f5f\", \"gridcolor\": \"white\", \"linecolor\": \"white\", \"minorgridcolor\": \"white\", \"startlinecolor\": \"#2a3f5f\"}, \"type\": \"carpet\"}], \"choropleth\": [{\"colorbar\": {\"outlinewidth\": 0, \"ticks\": \"\"}, \"type\": \"choropleth\"}], \"contour\": [{\"colorbar\": {\"outlinewidth\": 0, \"ticks\": \"\"}, \"colorscale\": [[0.0, \"#0d0887\"], [0.1111111111111111, \"#46039f\"], [0.2222222222222222, \"#7201a8\"], [0.3333333333333333, \"#9c179e\"], [0.4444444444444444, \"#bd3786\"], [0.5555555555555556, \"#d8576b\"], [0.6666666666666666, \"#ed7953\"], [0.7777777777777778, \"#fb9f3a\"], [0.8888888888888888, \"#fdca26\"], [1.0, \"#f0f921\"]], \"type\": \"contour\"}], \"contourcarpet\": [{\"colorbar\": {\"outlinewidth\": 0, \"ticks\": \"\"}, \"type\": \"contourcarpet\"}], \"heatmap\": [{\"colorbar\": {\"outlinewidth\": 0, \"ticks\": \"\"}, \"colorscale\": [[0.0, \"#0d0887\"], [0.1111111111111111, \"#46039f\"], [0.2222222222222222, \"#7201a8\"], [0.3333333333333333, \"#9c179e\"], [0.4444444444444444, \"#bd3786\"], [0.5555555555555556, \"#d8576b\"], [0.6666666666666666, \"#ed7953\"], [0.7777777777777778, \"#fb9f3a\"], [0.8888888888888888, \"#fdca26\"], [1.0, \"#f0f921\"]], \"type\": \"heatmap\"}], \"heatmapgl\": [{\"colorbar\": {\"outlinewidth\": 0, \"ticks\": \"\"}, \"colorscale\": [[0.0, \"#0d0887\"], [0.1111111111111111, \"#46039f\"], [0.2222222222222222, \"#7201a8\"], [0.3333333333333333, \"#9c179e\"], [0.4444444444444444, \"#bd3786\"], [0.5555555555555556, \"#d8576b\"], [0.6666666666666666, \"#ed7953\"], [0.7777777777777778, \"#fb9f3a\"], [0.8888888888888888, \"#fdca26\"], [1.0, \"#f0f921\"]], \"type\": \"heatmapgl\"}], \"histogram\": [{\"marker\": {\"colorbar\": {\"outlinewidth\": 0, \"ticks\": \"\"}}, \"type\": \"histogram\"}], \"histogram2d\": [{\"colorbar\": {\"outlinewidth\": 0, \"ticks\": \"\"}, \"colorscale\": [[0.0, \"#0d0887\"], [0.1111111111111111, \"#46039f\"], [0.2222222222222222, \"#7201a8\"], [0.3333333333333333, \"#9c179e\"], [0.4444444444444444, \"#bd3786\"], [0.5555555555555556, \"#d8576b\"], [0.6666666666666666, \"#ed7953\"], [0.7777777777777778, \"#fb9f3a\"], [0.8888888888888888, \"#fdca26\"], [1.0, \"#f0f921\"]], \"type\": \"histogram2d\"}], \"histogram2dcontour\": [{\"colorbar\": {\"outlinewidth\": 0, \"ticks\": \"\"}, \"colorscale\": [[0.0, \"#0d0887\"], [0.1111111111111111, \"#46039f\"], [0.2222222222222222, \"#7201a8\"], [0.3333333333333333, \"#9c179e\"], [0.4444444444444444, \"#bd3786\"], [0.5555555555555556, \"#d8576b\"], [0.6666666666666666, \"#ed7953\"], [0.7777777777777778, \"#fb9f3a\"], [0.8888888888888888, \"#fdca26\"], [1.0, \"#f0f921\"]], \"type\": \"histogram2dcontour\"}], \"mesh3d\": [{\"colorbar\": {\"outlinewidth\": 0, \"ticks\": \"\"}, \"type\": \"mesh3d\"}], \"parcoords\": [{\"line\": {\"colorbar\": {\"outlinewidth\": 0, \"ticks\": \"\"}}, \"type\": \"parcoords\"}], \"pie\": [{\"automargin\": true, \"type\": \"pie\"}], \"scatter\": [{\"marker\": {\"colorbar\": {\"outlinewidth\": 0, \"ticks\": \"\"}}, \"type\": \"scatter\"}], \"scatter3d\": [{\"line\": {\"colorbar\": {\"outlinewidth\": 0, \"ticks\": \"\"}}, \"marker\": {\"colorbar\": {\"outlinewidth\": 0, \"ticks\": \"\"}}, \"type\": \"scatter3d\"}], \"scattercarpet\": [{\"marker\": {\"colorbar\": {\"outlinewidth\": 0, \"ticks\": \"\"}}, \"type\": \"scattercarpet\"}], \"scattergeo\": [{\"marker\": {\"colorbar\": {\"outlinewidth\": 0, \"ticks\": \"\"}}, \"type\": \"scattergeo\"}], \"scattergl\": [{\"marker\": {\"colorbar\": {\"outlinewidth\": 0, \"ticks\": \"\"}}, \"type\": \"scattergl\"}], \"scattermapbox\": [{\"marker\": {\"colorbar\": {\"outlinewidth\": 0, \"ticks\": \"\"}}, \"type\": \"scattermapbox\"}], \"scatterpolar\": [{\"marker\": {\"colorbar\": {\"outlinewidth\": 0, \"ticks\": \"\"}}, \"type\": \"scatterpolar\"}], \"scatterpolargl\": [{\"marker\": {\"colorbar\": {\"outlinewidth\": 0, \"ticks\": \"\"}}, \"type\": \"scatterpolargl\"}], \"scatterternary\": [{\"marker\": {\"colorbar\": {\"outlinewidth\": 0, \"ticks\": \"\"}}, \"type\": \"scatterternary\"}], \"surface\": [{\"colorbar\": {\"outlinewidth\": 0, \"ticks\": \"\"}, \"colorscale\": [[0.0, \"#0d0887\"], [0.1111111111111111, \"#46039f\"], [0.2222222222222222, \"#7201a8\"], [0.3333333333333333, \"#9c179e\"], [0.4444444444444444, \"#bd3786\"], [0.5555555555555556, \"#d8576b\"], [0.6666666666666666, \"#ed7953\"], [0.7777777777777778, \"#fb9f3a\"], [0.8888888888888888, \"#fdca26\"], [1.0, \"#f0f921\"]], \"type\": \"surface\"}], \"table\": [{\"cells\": {\"fill\": {\"color\": \"#EBF0F8\"}, \"line\": {\"color\": \"white\"}}, \"header\": {\"fill\": {\"color\": \"#C8D4E3\"}, \"line\": {\"color\": \"white\"}}, \"type\": \"table\"}]}, \"layout\": {\"annotationdefaults\": {\"arrowcolor\": \"#2a3f5f\", \"arrowhead\": 0, \"arrowwidth\": 1}, \"coloraxis\": {\"colorbar\": {\"outlinewidth\": 0, \"ticks\": \"\"}}, \"colorscale\": {\"diverging\": [[0, \"#8e0152\"], [0.1, \"#c51b7d\"], [0.2, \"#de77ae\"], [0.3, \"#f1b6da\"], [0.4, \"#fde0ef\"], [0.5, \"#f7f7f7\"], [0.6, \"#e6f5d0\"], [0.7, \"#b8e186\"], [0.8, \"#7fbc41\"], [0.9, \"#4d9221\"], [1, \"#276419\"]], \"sequential\": [[0.0, \"#0d0887\"], [0.1111111111111111, \"#46039f\"], [0.2222222222222222, \"#7201a8\"], [0.3333333333333333, \"#9c179e\"], [0.4444444444444444, \"#bd3786\"], [0.5555555555555556, \"#d8576b\"], [0.6666666666666666, \"#ed7953\"], [0.7777777777777778, \"#fb9f3a\"], [0.8888888888888888, \"#fdca26\"], [1.0, \"#f0f921\"]], \"sequentialminus\": [[0.0, \"#0d0887\"], [0.1111111111111111, \"#46039f\"], [0.2222222222222222, \"#7201a8\"], [0.3333333333333333, \"#9c179e\"], [0.4444444444444444, \"#bd3786\"], [0.5555555555555556, \"#d8576b\"], [0.6666666666666666, \"#ed7953\"], [0.7777777777777778, \"#fb9f3a\"], [0.8888888888888888, \"#fdca26\"], [1.0, \"#f0f921\"]]}, \"colorway\": [\"#636efa\", \"#EF553B\", \"#00cc96\", \"#ab63fa\", \"#FFA15A\", \"#19d3f3\", \"#FF6692\", \"#B6E880\", \"#FF97FF\", \"#FECB52\"], \"font\": {\"color\": \"#2a3f5f\"}, \"geo\": {\"bgcolor\": \"white\", \"lakecolor\": \"white\", \"landcolor\": \"#E5ECF6\", \"showlakes\": true, \"showland\": true, \"subunitcolor\": \"white\"}, \"hoverlabel\": {\"align\": \"left\"}, \"hovermode\": \"closest\", \"mapbox\": {\"style\": \"light\"}, \"paper_bgcolor\": \"white\", \"plot_bgcolor\": \"#E5ECF6\", \"polar\": {\"angularaxis\": {\"gridcolor\": \"white\", \"linecolor\": \"white\", \"ticks\": \"\"}, \"bgcolor\": \"#E5ECF6\", \"radialaxis\": {\"gridcolor\": \"white\", \"linecolor\": \"white\", \"ticks\": \"\"}}, \"scene\": {\"xaxis\": {\"backgroundcolor\": \"#E5ECF6\", \"gridcolor\": \"white\", \"gridwidth\": 2, \"linecolor\": \"white\", \"showbackground\": true, \"ticks\": \"\", \"zerolinecolor\": \"white\"}, \"yaxis\": {\"backgroundcolor\": \"#E5ECF6\", \"gridcolor\": \"white\", \"gridwidth\": 2, \"linecolor\": \"white\", \"showbackground\": true, \"ticks\": \"\", \"zerolinecolor\": \"white\"}, \"zaxis\": {\"backgroundcolor\": \"#E5ECF6\", \"gridcolor\": \"white\", \"gridwidth\": 2, \"linecolor\": \"white\", \"showbackground\": true, \"ticks\": \"\", \"zerolinecolor\": \"white\"}}, \"shapedefaults\": {\"line\": {\"color\": \"#2a3f5f\"}}, \"ternary\": {\"aaxis\": {\"gridcolor\": \"white\", \"linecolor\": \"white\", \"ticks\": \"\"}, \"baxis\": {\"gridcolor\": \"white\", \"linecolor\": \"white\", \"ticks\": \"\"}, \"bgcolor\": \"#E5ECF6\", \"caxis\": {\"gridcolor\": \"white\", \"linecolor\": \"white\", \"ticks\": \"\"}}, \"title\": {\"x\": 0.05}, \"xaxis\": {\"automargin\": true, \"gridcolor\": \"white\", \"linecolor\": \"white\", \"ticks\": \"\", \"title\": {\"standoff\": 15}, \"zerolinecolor\": \"white\", \"zerolinewidth\": 2}, \"yaxis\": {\"automargin\": true, \"gridcolor\": \"white\", \"linecolor\": \"white\", \"ticks\": \"\", \"title\": {\"standoff\": 15}, \"zerolinecolor\": \"white\", \"zerolinewidth\": 2}}}},\n",
       "                        {\"responsive\": true}\n",
       "                    ).then(function(){\n",
       "                            \n",
       "var gd = document.getElementById('922334cf-a1f1-407f-aeca-c44fecd2fa1c');\n",
       "var x = new MutationObserver(function (mutations, observer) {{\n",
       "        var display = window.getComputedStyle(gd).display;\n",
       "        if (!display || display === 'none') {{\n",
       "            console.log([gd, 'removed!']);\n",
       "            Plotly.purge(gd);\n",
       "            observer.disconnect();\n",
       "        }}\n",
       "}});\n",
       "\n",
       "// Listen for the removal of the full notebook cells\n",
       "var notebookContainer = gd.closest('#notebook-container');\n",
       "if (notebookContainer) {{\n",
       "    x.observe(notebookContainer, {childList: true});\n",
       "}}\n",
       "\n",
       "// Listen for the clearing of the current output cell\n",
       "var outputEl = gd.closest('.output');\n",
       "if (outputEl) {{\n",
       "    x.observe(outputEl, {childList: true});\n",
       "}}\n",
       "\n",
       "                        })\n",
       "                };\n",
       "                });\n",
       "            </script>\n",
       "        </div>"
      ]
     },
     "metadata": {},
     "output_type": "display_data"
    }
   ],
   "source": [
    "iplot([{\"x\": [1, 2, 3, 4, 5], \"y\": [2, 6, 5, 8, 1]}])"
   ]
  },
  {
   "cell_type": "code",
   "execution_count": 13,
   "metadata": {},
   "outputs": [
    {
     "data": {
      "application/vnd.plotly.v1+json": {
       "config": {
        "linkText": "Export to plot.ly",
        "plotlyServerURL": "https://plot.ly",
        "showLink": false
       },
       "data": [
        {
         "contours": {
          "coloring": "heatmap"
         },
         "type": "histogram2dcontour",
         "x": [
          -0.11668520430699936,
          0.28114985509455953,
          2.141732302495992,
          0.8050449418391316,
          0.9660938331347882,
          -0.4680208113455857,
          -0.7702456058441128,
          -1.3055409365303867,
          0.2267617631996307,
          0.23142298799176483,
          1.2553577457176095,
          0.32659627316993406,
          -0.2723193590900558,
          0.21861544879063502,
          1.9854099849376692,
          0.08058572822817651,
          -0.5613980988056358,
          0.8604244050444544,
          0.22068533443470822,
          -0.2008813920665665,
          0.7139400787416235,
          0.8636300108320514,
          -0.33846527796799386,
          0.929826186537145,
          -0.1877505342827068,
          0.34666749746176695,
          -1.559308020118623,
          0.688696553509982,
          -0.4177635286869492,
          -0.04317290460357892,
          0.9619454214912048,
          -1.240878647570688,
          0.09856399757120457,
          -0.8777799095970757,
          0.081158399177324,
          1.1169218210408534,
          -0.6587901238806898,
          1.7290420670976276,
          -0.007258433629643221,
          1.6837670830284195,
          0.38613668955572245,
          -0.49237681966488195,
          -0.587681554554024,
          -1.3636041614080086,
          -1.132215995144143,
          -0.5437291759819399,
          -0.952653387436774,
          -1.1645569052468776,
          -0.722406014715672,
          0.20779680946126605,
          0.249601463402177,
          -0.5104390898164957,
          1.4707883593229036,
          -0.8491651302531048,
          0.2997309894900759,
          0.7574703658978843,
          -0.4280534844787833,
          0.9251445737329083,
          1.0498736098639276,
          0.04263083367725875,
          0.4150128257408184,
          -2.190163848841193,
          1.0574257634662245,
          -0.61195260975283,
          1.1553419181063305,
          -0.5659115073344826,
          -0.06880483318792095,
          -1.411719790430665,
          0.843061762893499,
          0.43250002671130644,
          0.48420892128757276,
          -1.882591811773587,
          1.2800697063657598,
          -0.697462188550717,
          -0.981079729467515,
          -0.401050011791041,
          -0.6194648177391373,
          -0.5096605694989095,
          -1.2907096621097145,
          0.9317247979448758,
          1.0331713188626008,
          0.48019522756213606,
          0.19275782504456893,
          0.2951611720273816,
          -0.6201992086015465,
          -1.4919652362323166,
          -1.5290607648267147,
          0.6597599896177384,
          -1.5200128166407105,
          -0.9722864287062042,
          0.34574309333416037,
          0.6061376044481455,
          -0.9072854241495643,
          0.7301927469510929,
          0.1359323447395817,
          -1.0958890655584934,
          0.3369163348934946,
          -1.396629006631378,
          -0.1382341217783965,
          -0.1331078256605258,
          -0.39466720551919243,
          -0.7996135019134316,
          -0.030444875914156247,
          -0.07147694122348883,
          1.94075302964663,
          0.13664365027155362,
          0.18591388978447737,
          0.7222805471022237,
          -1.0280235680299394,
          -0.625023036159365,
          1.803984553000245,
          -1.5173040166503435,
          2.762590171178497,
          0.7314743403470914,
          -0.372116168327445,
          1.5639795257807991,
          -0.6241193649210319,
          -0.736156569489761,
          -0.15601328044953272,
          0.09812092305772288,
          -0.09842739384832772,
          0.1414304184249993,
          0.9270765946544521,
          1.7452155993161733,
          1.979308075566231,
          -0.9996201967116604,
          1.8249542524940356,
          -0.8487517355332825,
          -0.737479417314618,
          0.23546216739226,
          0.3159309088857444,
          -1.37354576192921,
          0.29721703062635096,
          -0.04508797709493305,
          3.2487991437514765,
          -0.22014266830379833,
          -0.38238002102028146,
          -0.3150519151315587,
          -1.6076585445122888,
          -1.5001558567091686,
          -0.7043828750849094,
          -1.8149745233841574,
          1.090235919100353,
          -0.46356053417628346,
          0.6295376788130583,
          3.4223495613587116,
          -0.03083766032262226,
          -0.7903320648753264,
          -0.6749652170258721,
          -0.9003306579695641,
          0.08319275694200622,
          -0.5937234091498991,
          -0.04957471573487277,
          0.09626655642945633,
          1.3042932844743829,
          1.9641913239712456,
          -0.2655456310819451,
          -0.7387569575628072,
          -0.37718246180868115,
          0.089131241310899,
          0.24456621171427928,
          0.40849030294799826,
          -0.745701969022886,
          1.3794996098873096,
          1.031311517282731,
          -0.16914055235219164,
          -1.3373707806483366,
          1.3777486715151857,
          0.07361344876382855,
          -0.33706001881188075,
          -0.6896577528234585,
          -0.3096777809606802,
          -1.0093509310042077,
          1.5006256291611433,
          -0.7286183641842195,
          0.8052331076387605,
          -1.30564646882133,
          0.8320709246283388,
          -0.34829653136619004,
          -0.25827375581882095,
          -2.551528327029098,
          0.7003510559352545,
          0.06785880196689524,
          -0.15072393043470106,
          -0.4105559859705106,
          -0.878926638783265,
          1.1113889842896096,
          -1.0178983000315387,
          -1.0079532723042632,
          -0.4807458464944863,
          -1.2841334253761127,
          0.4389465099432875,
          -1.2150877034664402,
          0.3078620420772772,
          0.09222814313844273,
          0.4766119378751059,
          -0.17765941197421536,
          2.0690051375042047,
          0.3654906048618975,
          -0.0049465167413011634,
          0.7451835360491064,
          -0.0847318111396537,
          0.14390059987645917,
          -0.15104002495520139,
          0.32707824969384375,
          0.8417544456038785,
          0.9861848067661712,
          -1.5392940646652458,
          -1.3991170729833373,
          1.1096710055527357,
          -0.02881108785362069,
          1.3451971625291719,
          -0.7940760014409664,
          0.29248579030615757,
          -1.0214778530389623,
          -0.6420617910890868,
          -1.1850310721402324,
          -1.8330095453718396,
          0.6108982489975459,
          0.9396452086576239,
          -1.637887113627679,
          0.8415424044484622,
          -0.6576859772267573,
          -1.2540869744894223,
          -1.4787034990531553,
          -0.21388009250781845,
          -0.5192371715105271,
          1.5279957956299697,
          -0.3558653667906838,
          0.2918596930904747,
          -0.9460573151145908,
          -0.9568732819871831,
          -0.396838329749804,
          0.7365086181848505,
          0.00906020634848801,
          -0.29126020519766804,
          1.395089851510806,
          -0.33327089860570597,
          1.0181958434836078,
          -1.140218700997623,
          0.4600646439993672,
          0.012872748942528246,
          -1.1777410967681257,
          -0.3519693191133683,
          -1.697183799502976,
          -1.7514264882462902,
          0.12520906821464026,
          0.2414888570337322,
          0.4405327691023473,
          -1.115608227672228,
          0.6409437825785709,
          -0.3196514066361583,
          0.2725241127886879,
          0.37525467623633924,
          0.7371701949943457,
          1.2697321520487816,
          0.586540805650319,
          -0.7262183485283399,
          0.11649559329242373,
          0.9448979488864304,
          1.0637774461560325,
          -0.5998012146814825,
          -0.5672495737148827,
          -1.3726884403340027,
          -0.876181466110087,
          -0.8504963557566758,
          0.3275942692552157,
          0.7685608598178317,
          0.59744602998601,
          -0.1398015377603036,
          -0.34506739788082225,
          -0.5594619353119906,
          -2.570599486124083,
          -1.436845421579838,
          -0.812751909548878,
          0.7809797928685179,
          -0.1970098246551254,
          -1.3858438126716228,
          0.09627659501170069,
          -0.1618810915739761,
          -0.2235609003775461,
          0.2740602335256188,
          0.1355841554611881,
          0.24767091843885064,
          1.0942216271348184,
          1.3125027554022741,
          -0.5389599030763319,
          -0.7747619787689394,
          -0.2595188612571572,
          0.3541356594984613,
          -0.792924488826532,
          -2.021142455293396,
          -2.0857081416020042,
          2.4486597928522826,
          -1.109393630237955,
          1.851300058962788,
          0.26396613423674214,
          0.5931020155373363,
          0.19952571913457806,
          0.7389845133587702,
          -0.3875194824219592,
          2.090937612651161,
          -1.814416787399861,
          -0.32814500668620816,
          -0.5270124767921621,
          -0.40751023035509915,
          1.0362829966205476,
          -0.02486141904389148,
          0.5601484425722517,
          0.26304422839817243,
          0.47670784204792993,
          0.4292732100854563,
          0.43233069227345994,
          -0.4458690582188791,
          0.8133393555509485,
          0.9429732260413101,
          1.3219461892700781,
          -0.7869670107696634,
          0.2850209650441062,
          -0.9548468336778192,
          -0.8906610814552076,
          1.2555395531246378,
          0.7714623047685681,
          1.5746361959293538,
          -0.40318804874714886,
          1.734744491289949,
          -0.060778572545505,
          -0.13896026487763452,
          0.5587209844394798,
          -0.9075174851006623,
          0.6021895509314733,
          -1.3691228366598618,
          0.6612478025565057,
          -0.22674661607062005,
          0.9536766893203557,
          -0.16572098642280675,
          -1.8086859323180222,
          0.7190476718365459,
          -1.0537960096646812,
          0.22436504161901621,
          0.06215193474774546,
          0.7031370321973202,
          1.6766012793683944,
          0.9502855065298056,
          -0.21173922071996623,
          -0.14273435520020095,
          0.21013264114220828,
          -0.005995678779994012,
          0.14518483574813748,
          -0.8046897028205046,
          0.7262621777235763,
          -0.14992858799677464,
          -0.08491366292118399,
          -1.670428771320828,
          0.6297334057506572,
          0.9617320784979811,
          -0.6127383193129412,
          0.9013022670769121,
          -0.9916345508520819,
          0.12031065380151591,
          1.201839454548871,
          -0.1172239444685763,
          -0.5379486400209363,
          1.2993894671352626,
          -0.5973636904103533,
          -1.3687211658909388,
          0.27207528670714903,
          1.0714816539942096,
          0.8729008845609447,
          -0.2647411485761244,
          -0.22190873144298667,
          1.0350397978782018,
          0.6366439215179596,
          0.17168984380864827,
          -0.9498345978052216,
          0.46513342514282263,
          -0.9581212592502721,
          -0.45565652442260113,
          -1.2101982294880758,
          -1.0913930091324537,
          -1.9140455604767534,
          0.9076217424038896,
          1.8927431317431558,
          -0.36050776532332274,
          0.4138441859986633,
          -0.9803818283611893,
          0.07300123644660446,
          0.7560982213962767,
          -0.5167255130126871,
          0.1641380873275745,
          0.500327262306746,
          0.9748364065393317,
          0.09941410543826552,
          0.21353467956354846,
          1.2217089223640634,
          -0.5403506439473517,
          -0.49868870565902507,
          0.6614186429414618,
          1.2818179433052628,
          -1.3202949464607692,
          1.692338832947553,
          -1.7259269240996753,
          -1.3846591018729093,
          0.5387914520794658,
          -0.38984186980902075,
          0.8391628522377155,
          -0.33400488145401036,
          -1.0307151684384055,
          -0.5991653633676436,
          1.0033262383597006,
          1.705239657241401,
          0.9893643886723051,
          -0.5569018568433549,
          -1.4300114423987522,
          -1.026414356375179,
          -0.799441215968688,
          -1.9944244951526673,
          -0.24198517879887146,
          -2.4413885117405463,
          -1.046433336250817,
          0.7052134407832157,
          1.065766235853285,
          -0.29648519318851585,
          -1.3174349995028718,
          0.49293925632428043,
          -1.0392679628092722,
          1.8312919121286837,
          0.9001110491468105,
          0.238179430956681,
          0.8678003269116039,
          -0.34707960886121203,
          0.42439490435256755,
          0.10484301379316999,
          -1.7122157079681153,
          0.1313436999281192,
          -1.0148572038454013,
          -0.16924929661578367,
          1.5239654585037405,
          -0.33137445489111356,
          -0.08473521764847428,
          -0.5751818373643364,
          -1.1029977346578077,
          -0.4132539763230744,
          1.2724090990163663,
          0.14513397597735472,
          0.29559530339689566,
          0.04442181646281691,
          0.7449162798476467,
          -0.4049687704962119,
          -0.40074769601393695,
          -3.5361958087829604,
          1.6680448816940368,
          1.2488349890123904,
          -1.3400041360050974,
          -1.183822897834661,
          0.44237188693726726,
          -0.5072485684061995,
          1.7637478309396575,
          -0.6460084048567577,
          -0.4502929568540483,
          -0.6295146915816806,
          -0.5448728702490712,
          0.6907632990680224,
          0.486962941370256,
          -1.8565156665156364,
          -1.7243187267617373,
          0.7231898953608323,
          1.1234802816353382,
          0.2822637111275641,
          2.0541455929190344,
          0.9434577222577512,
          -0.08231170564137777,
          -0.23631695052528925,
          -0.9937031564751978,
          -0.4382788073192429,
          1.0676582815247715,
          0.058200930963931696,
          -1.0016956833517479,
          -0.9765053079900905,
          -1.2224259816193306,
          -0.2115046846387346,
          0.0743836989047711,
          2.0182097513230333,
          0.72640683962873,
          -0.7671721561009133,
          -0.9699490072575289,
          1.6099031117510363,
          0.553720219436343,
          0.7600455622463729,
          0.334694704521409,
          0.3559519015791648,
          1.5245753268985471,
          1.5793515972852004,
          -0.9671253049544245,
          0.6815838285036903,
          0.9683911861402504,
          -1.2819400425569552,
          -0.47136303218690134,
          1.6129410934620743,
          1.3483937616363717,
          0.831672305391452,
          -0.424014892884299,
          1.418160375504967,
          -0.8296672757795027,
          0.981053246144314,
          -0.6851918899761245,
          -1.6664837965236308,
          2.535121635603761,
          1.9419523401777408,
          0.6459334481117409,
          -0.29804266317901645,
          -0.0915166236227492,
          1.2470669657128142,
          0.6524516910991167,
          -1.0702732289068166,
          -0.3632255011155572,
          -0.08089853033482237,
          0.18762692546000972,
          1.8148142543166783,
          0.8920964508282802,
          1.421461773141373,
          -1.5975599196313868,
          -0.4723154758157159,
          1.4112498015643697,
          0.8325811912270725,
          0.06612438392403149,
          0.8216243287486039,
          1.1425787245538053,
          1.552225057465114,
          0.2711516595689923,
          -0.42882864824938727,
          0.31989548894842645,
          0.7606250178401229,
          -0.1476661887824189,
          -0.23710852751867523,
          0.03910435005697789,
          1.3527297771248765,
          1.4463109534116732,
          -0.21806607168037692,
          0.795011570567343,
          -0.11525420631456675,
          0.39836998328467654,
          -0.17562489062444636,
          1.5948299688466332,
          0.9793824094536226,
          -0.06491202374173906,
          -0.6225385248501484,
          1.682632143879958,
          -0.2830835997741711,
          1.2654773308692306,
          0.2829003260165046,
          -0.05287380259696991,
          1.790504266746392,
          0.5756248369463336,
          0.3038484276300826,
          1.5067766511871608,
          0.004484831818133069,
          0.00895096614528765,
          0.07967287027884633,
          0.7440605830371138,
          1.0709216740069765,
          -0.902069402344169,
          -0.8402853991828139,
          0.482310429473891,
          1.7090132990688278,
          0.35103490143623683,
          -0.674061960649398,
          -1.891700416720724,
          0.14769507344678562,
          1.85924166204926,
          -0.0005832260324343469,
          -0.3775377801040655,
          0.553399584440753,
          0.11350409223110373,
          -0.45239696280841424,
          0.166446156394466,
          1.5574954029021366,
          -0.11019457577826777,
          0.23829367509885946,
          0.4660183413210094,
          1.2972949327913779,
          -0.9300260714954957,
          -0.10711608587467569,
          -0.5630888769070788,
          -1.371633580703867,
          0.7616476831713052,
          -0.29965787333332733,
          0.40693150493009295,
          -1.5540192722499642,
          1.0634254696509473,
          0.8789527157772656,
          0.49415781448751966,
          -0.1502285595064293,
          -2.0631273057686346,
          0.33083129628633995,
          0.4274555975464478,
          0.45005544263272235,
          1.2184640299549943,
          -1.2861144691501134,
          -0.45535320825548736,
          0.9003669657089275,
          -1.065087481196316,
          0.7305266027813424,
          2.1933582712765336,
          -0.2474656310110763,
          -0.35386583701338975,
          -0.5773801315230962,
          1.6215423740150008,
          -0.3647027581747204,
          0.19689641200388633,
          -0.7960072233212832,
          -0.258340336116605,
          -0.9353240035737125,
          0.4186374980536922,
          -2.146502442547401,
          -0.8167525151972188,
          -0.4648327812248712,
          -1.5026962910636543,
          -0.43412640554086873,
          0.17231235115676133,
          1.5160147668171433,
          -0.7283338464642796,
          1.715363109613839,
          -0.2086251895642528,
          1.2890824022364713,
          -1.3544391370991846,
          -0.020982575576404542,
          0.5342701222621767,
          0.6187459191248742,
          -0.5241358241377374,
          -0.585025800478734,
          0.33644721383563614,
          0.39448891452058654,
          0.08530038561443101,
          0.7328735861368472,
          0.40774284274701145,
          -1.265183427484207,
          -0.8840512034628839,
          0.24297482888024421,
          -0.17100546553365278,
          -1.2117714158133936,
          -1.146944267793555,
          1.4853867487525927,
          -0.021939133298247124,
          2.4533780052658423,
          0.05874347008175995,
          -0.22642834478928722,
          -1.0701421107311502,
          -0.579327317742555,
          0.5750655610955878,
          -1.2349354368159096,
          0.9382941330565411,
          -1.8375200500888929,
          -0.028151910678517075,
          -0.6194906825474203,
          -1.4380880086534686,
          0.565622281493338,
          -1.3311210657350327,
          0.9940459266843688,
          3.66360200064417,
          0.39831707132593297,
          1.1151009183378948,
          0.32570897704704693,
          -1.0294254759650177,
          0.3164155915208115,
          -0.5037459275434002,
          2.386109508019851,
          0.944988941238188,
          0.7879751522654214,
          2.5148944404890465,
          -1.4963160117942158,
          0.5701246328261691,
          0.5028978882567858,
          0.4409298630547711,
          1.1498872459019205,
          -0.15226305990131975,
          -0.9840182761041488,
          0.9411684593113986,
          0.10893792966656686,
          0.22701337923508108,
          -0.18142298163283876,
          -0.05504846756039171,
          1.4062903653598935,
          0.1388012887411676,
          -1.1203863848700417,
          0.465121234292209,
          -0.0492257693965807,
          -0.7900606397030334,
          0.10348223676902991,
          -1.0881764042890334,
          -1.1079840341827971,
          -0.47848259023736994,
          -1.4289553825664394,
          0.5221673769184573,
          0.09753413309496774,
          -1.2538112060522584,
          2.4123095062025364,
          0.6594487563179732,
          -0.10984079335054572,
          1.4807548528626795,
          0.20216987363809802,
          -0.12244695874206116,
          -0.37380139472692303,
          0.12323053404076299,
          0.708750071976844,
          -1.8023854802960018,
          -0.396746684132692,
          0.14827708099627407,
          -0.9861032153810264,
          -1.0339967723642944,
          -0.4293864274806201,
          -0.7603527364640924,
          0.6598638589269958,
          1.334181365917539,
          0.12266424180354092,
          -0.35106408517321336,
          -0.8675627429052688,
          0.4248633918327947,
          -1.7567746098637271,
          -0.8874265220728691,
          1.8815325002365755,
          0.220834436305704,
          -0.1355786629231636,
          -1.374785038912805,
          0.9472236987640485,
          -1.0906692595783243,
          -0.8823590348571503,
          -1.7489266381580524,
          0.763547767541532,
          0.45988137163941606,
          -2.7996139058402805,
          0.25027782122963976,
          -1.7013149119519093,
          0.19472231337983886,
          2.1555254527227374,
          -0.7311739122555901,
          0.04827419081539815,
          0.7986737453702419,
          -1.8526365144151162,
          -0.6552944296847696,
          0.4370034894423061,
          0.5640396793441018,
          0.7467257293275213,
          -0.1710628031248373,
          1.1942540015219991,
          1.4169308665791969,
          0.5837345771969021,
          -0.5942195894696252,
          0.9126217056621083,
          -0.705764483835352,
          0.7317257247217114,
          -0.3896180184858183,
          -0.6551111699738736,
          0.5995038394420485,
          0.29084769407115996,
          1.6804380005245136,
          0.11347141537036237,
          -0.8675884490864589,
          -0.552557563237089,
          0.6562836203981349,
          1.205877874908196,
          -1.0698987121615413,
          1.1363992804495282,
          -1.5790617916604617,
          -0.47327558285570814,
          -0.40493708730677036,
          0.9277069570302336,
          -0.9643921421525802,
          0.548860314892592,
          -0.4243309090706366,
          2.8274343734039697,
          -0.48423814648170144,
          -0.12465634543791364,
          0.5123314984647801,
          0.20069555378382867,
          2.508448195430211,
          -2.002981877441224,
          -0.8387872103308986,
          -1.0743157117150175,
          -0.38268824611143815,
          0.5057801057968291,
          -0.6581055427802358,
          1.2063775086373023,
          -0.7042873240752022,
          0.6893913002608208,
          -1.2227809558283875,
          0.009086912268148936,
          -0.407116528132199,
          -0.19112439308353968,
          -0.49921052970070634,
          -0.5156869951993842,
          0.7362143824322088,
          0.3897472786779365,
          -0.34090261582909165,
          0.5430417176212705,
          -1.2715961089335204,
          0.42539015201719205,
          -0.8798949940425618,
          1.3674642246297541,
          -0.18762405661313875,
          1.4675345863771374,
          -0.8347805428982532,
          -0.2559610264305403,
          -1.7224915786940134,
          0.9486911699232493,
          0.9026765800351099,
          0.2256059619802006,
          0.4480872047054149,
          0.5412587813044488,
          -0.5812295070439331,
          0.8205241274950196,
          1.5108374316156639,
          -0.4475143689550021,
          -0.5599610762730679,
          0.6203993277117753,
          -0.0017002482579848734,
          -0.17762640864685192,
          0.22272896210079302,
          0.39906028319336634,
          -1.813430058666348,
          -1.90366785816003,
          -2.0693427702271343,
          -0.08321448930569407,
          -0.7268478119558653,
          -0.7023431401073686,
          -2.280231629983465,
          0.030662400293899158,
          -0.5801434030252101,
          -1.0406727828348727,
          -0.5324095926294071,
          -0.6198280006992355,
          0.5384713882805351,
          -1.0462887893144117,
          0.5803358672011143,
          1.1489423398796363,
          0.09397275179314828,
          1.1034809815650723,
          -0.9983016048659727,
          -0.16905451031915766,
          0.5169444629983146,
          0.3416063772751026,
          -1.0872008073995592,
          -0.38230341288729813,
          -0.5648689280859346,
          0.37358446231260645,
          0.7953419939123189,
          2.007098215800671,
          -0.004355721561586568,
          0.5072866522320667,
          1.5724402203578496,
          0.148541310936092,
          0.21871384400446858,
          -0.7551080053056219,
          -0.39999784858676524,
          -0.6203977084737211,
          1.018583948508279,
          0.9760081293458195,
          -0.8889524980237767,
          0.6701910906569942,
          0.01120303251209464,
          -0.33517054903182925,
          -0.5886769888512826,
          0.30241775759170936,
          -0.3373026956626312,
          -0.2520571085688495,
          0.05286565040929801,
          -1.2531542540189542,
          0.6732050709726776,
          1.1444838214072317,
          -2.3329329117234567,
          1.161696269832579,
          0.3501414149806822,
          0.5318117488705053,
          -0.626670198823699,
          -1.0095845102504444,
          0.5795679603686379,
          0.17109642102546824,
          1.9212297323833036,
          0.37247847270011747,
          -1.8970092240358454,
          0.07938649320959514,
          -0.6976679290219396,
          -0.06427789197093235,
          -0.3843515181836626,
          -2.0113418240353957,
          0.16686684354063988,
          0.33164945184958083,
          0.9367742255914339,
          1.7258413229857552,
          -1.1770301725802668,
          -0.0983255594221568,
          2.1613390507971193,
          1.3959245338520538,
          -0.43227042505895047,
          -2.024332075087768,
          -0.13736560435153264,
          0.413750680712762,
          -1.29692811763146,
          -0.85986771905673,
          0.4070371044286524,
          1.1975635212201303,
          0.1571303595301896,
          -0.9334540185678497,
          -0.12575172950020483,
          -0.19114800598553847,
          0.2536271813006398,
          -2.4778724797551663,
          -0.14284216426692087,
          0.13355472722049563,
          0.7174984191911999,
          0.44453258393696343,
          -1.2684243354561873,
          -0.002045839114443977,
          0.44489397247457885,
          -1.4499128301831605,
          0.5138565130698112,
          0.8324449068390118,
          -0.10929010697864597,
          -0.8726192594593005,
          -0.806007166933895,
          0.4329499042981496,
          -2.278178667955701,
          0.3131496670947501,
          -0.7445096795093082,
          0.1758720342446279,
          0.4231011267399792,
          0.43781465964205973,
          0.6300682858806217,
          -0.1703788351375178,
          1.3603011221514836,
          2.2760804004357187,
          -0.23958805090449994,
          0.27727275958510755,
          1.9293552707253872,
          -1.6115772699049757,
          2.1017276549329704,
          0.15715508726484012,
          0.375030262875074,
          0.5441274414841794,
          -0.39420842955158253,
          -0.7704392556572857,
          -0.342022607142693,
          -0.545762794365014,
          1.3455016411058414,
          -0.6530640341793255,
          0.4313203427436296,
          0.15839738392118977,
          0.2566290316149601,
          0.5631722765720691,
          -0.14724537772975796,
          -0.8648249717446108,
          -0.9051675421370899,
          -0.5527079778798494,
          0.23778411799565416,
          -1.2543787867633711,
          0.9755885223451328,
          -1.1575303008540947,
          -0.013652365924108642,
          0.3511346305173505,
          -0.7684172227316828,
          -1.1685642581155364,
          -0.027386436239639926,
          0.4222550565683599,
          2.19069101822863,
          -2.2044992524290725,
          -0.13989612400472096,
          0.53289623099847,
          -0.0912727181871496,
          -0.14071789203291415,
          0.5900625440192369,
          0.807105640124297,
          1.2318409750109554,
          0.5327629991022799,
          0.29836826652768217,
          -0.037896756964896805,
          0.6852884556515522,
          1.278163243334691,
          -0.20935954006054908,
          1.3668327740334576,
          1.3041004149352369,
          -0.850442450922042,
          0.5342148039204228,
          -0.23666264780250293,
          0.4205783666165666,
          -0.8189227416013201,
          1.4538121029081874,
          1.2561236946005607,
          1.5436227174696784,
          -0.39876481827264504,
          1.3743822979270897,
          -1.4491315082322551,
          0.1847682701551123,
          0.8734768944019181,
          0.2960394152723732,
          0.29470522063457427,
          0.27531322801756164,
          0.38729634619851777,
          -0.7360214292163821,
          0.1146253983323468,
          0.2495177449764698
         ],
         "y": [
          0.9416701395333092,
          0.25481839416271873,
          1.2016145338226043,
          -0.3965511477262813,
          0.03172586636060631,
          1.9753543306129435,
          -0.6804253185718554,
          1.4297457574781414,
          0.3607108809867478,
          -0.539692169068928,
          -0.3848490228578757,
          -0.344944027317487,
          0.6413475783009948,
          1.028031103385608,
          -0.7878385223879287,
          1.3863847481907445,
          -0.6106559538296585,
          0.7364996872691038,
          0.43390268893629014,
          -1.5459227896537786,
          -0.2152182636014294,
          -1.1230398777623507,
          0.1555776768570577,
          0.3588775412451898,
          1.213629483527062,
          0.5052793076695912,
          -2.368118734633076,
          1.508829258986283,
          1.0584093638888543,
          0.43130448237903435,
          -0.7344075905837176,
          1.4153978968882965,
          -1.1335307357474875,
          -1.9392757510435334,
          -1.0750540715317163,
          0.1372516995681399,
          -0.15652256183329138,
          -0.099605994560867,
          0.28437491563729667,
          -0.17908026628871115,
          -1.3499868708161593,
          -0.07685298375778646,
          0.2858344420290553,
          -0.48745216429173854,
          0.769515932995723,
          1.2589099550388831,
          0.5909470950305323,
          -1.263764848328055,
          1.0008397232290334,
          -1.8740664033845587,
          -1.0410662694201314,
          0.45829805009833346,
          -0.24863973355232952,
          -1.0976923446632123,
          -0.15149391823491393,
          -0.223026119014377,
          2.0605729166816893,
          0.9509944762180547,
          -2.4797166429667907,
          -0.7199556810089706,
          -0.9740578711434468,
          0.6802283333097933,
          -0.7021041558210791,
          -0.2993355823523955,
          0.3115736863342703,
          -0.6621480259965042,
          -0.43753566040194003,
          0.354396526730995,
          1.2756289537732377,
          -0.5888902085392853,
          0.35953865121392176,
          -0.208247224847608,
          -0.14488117314083424,
          0.9266248384785298,
          -0.49033502081126945,
          0.9741162116662925,
          -1.1365180973047613,
          -0.12262667596820453,
          -0.6593577908102155,
          -0.20548608152425704,
          -1.5058787000578138,
          -0.2379596808717213,
          -0.32478713509157736,
          0.9432235496336899,
          -1.158241599516545,
          -0.9165231340892387,
          1.1942604936117542,
          -1.599977791816254,
          -0.8097771512461485,
          0.7831410578481027,
          -0.26853560868124043,
          -0.19611613085057997,
          -0.7919667024109325,
          0.34480655378733843,
          0.939769266793073,
          0.026843791973540605,
          1.0023565390655276,
          1.366680103056884,
          0.7391813147644739,
          0.3045905744918038,
          -1.501786140695299,
          -0.5482930022611773,
          -0.40424137741762495,
          -0.975984453064751,
          0.2438155496288491,
          -0.710518889546459,
          -1.1596534350203225,
          -0.34194291936920357,
          2.053401954885552,
          0.18799225873624434,
          -0.43279247155575745,
          1.450002674446353,
          0.8664001986346352,
          -0.5570488630482928,
          -0.6401689596270821,
          0.4484414019846191,
          -0.9047338657779386,
          0.7138251876405546,
          0.40428877572165817,
          -0.5277852517413633,
          1.239137044603948,
          -0.3238563671353456,
          1.9980191455512557,
          1.6054719084042823,
          1.6095056320570573,
          0.6959025439544206,
          -0.27980934658958984,
          -0.2872861196349527,
          -0.9587984609264631,
          0.7912138173232409,
          -0.5580216304945463,
          0.32195341377436,
          -0.9992835653006351,
          1.1387833513441046,
          -0.06314159761309644,
          2.3841083992334333,
          -0.42250647797954255,
          0.14770050948380153,
          -0.7873975916357433,
          1.5972703354522664,
          0.185698127260309,
          -0.05470971692641601,
          -0.9446911212554233,
          -0.12509111276131984,
          0.8069279638611442,
          1.0316265967171117,
          -1.5783867980335284,
          0.5162521306228575,
          0.5767763859122111,
          -1.0090121198718884,
          -1.8090914243425467,
          -1.7319927815026113,
          -0.6107096017931413,
          0.5337471978336304,
          0.15837754170176352,
          -0.5858094339204347,
          -1.218082457820898,
          -1.0092843092007937,
          -0.26199954235565587,
          0.32352293272866234,
          0.6197437080337299,
          1.167933932718143,
          -0.9442911677626381,
          1.395707855389854,
          0.12461649186264635,
          0.8289518029931594,
          -1.6738752209017846,
          0.3720159489587936,
          0.30510247923305006,
          1.6103996873171296,
          1.1461329784313876,
          -0.7260645419452902,
          -0.10653326122999522,
          -0.080369064994449,
          0.8491904640401002,
          -1.0631368641138828,
          -0.7736988838734121,
          -1.18166061024318,
          1.484937251848446,
          0.7357660702231058,
          -1.5046465667367643,
          -0.7380413661939903,
          0.8166006521460468,
          1.804311805954184,
          0.833762903685364,
          -0.259850807308014,
          -0.6920205457779725,
          -0.3368212926398146,
          -0.9419386982217046,
          0.7134582244131947,
          -0.011412790151132432,
          -0.4039987977880747,
          -1.4629393082183464,
          -0.5426832091595646,
          -0.29771527229723516,
          -2.1278172111114704,
          -0.370151547371728,
          -1.3991292913882387,
          2.4346593166552046,
          1.05084104408288,
          0.4593917315361887,
          -0.5620332153263892,
          -1.0301333610820955,
          -1.7755513952491688,
          0.38563841742101795,
          -0.7130190792711135,
          -1.6409234083222415,
          0.6685044717087423,
          -0.42317362380192874,
          -0.5627481168186866,
          0.8195759068912118,
          -0.47434333530193795,
          -0.011517167585940598,
          -0.9072762996968067,
          -0.5797539927525106,
          1.692551685373254,
          0.5577741696765529,
          0.07709125794995206,
          -0.9817004289911282,
          1.0247274256695083,
          -0.9152641587798693,
          -0.4287197773505538,
          -0.7192212157304241,
          1.0694867702239723,
          1.1642640420319783,
          -1.1218497335786266,
          0.37882831424618235,
          0.8927433257163007,
          -1.1230929425761629,
          0.38407455616775377,
          0.4546307695627062,
          -0.5165450076108444,
          0.8611600289081878,
          0.9174024205195054,
          0.3116367712868987,
          1.6494024617346583,
          -0.33178023877379864,
          -1.2237601542321201,
          -0.6495265722407517,
          0.597511482379678,
          0.7859156305060707,
          -0.6896785648264845,
          -1.1161212982253088,
          0.054614356563215664,
          -0.11032153583048544,
          1.2728841583542698,
          -0.36802838210389227,
          -1.621710808543876,
          0.11085277570162662,
          -1.1998738110383602,
          0.6608788303882835,
          1.1547907589610422,
          -0.3766417409093853,
          0.5168509243233578,
          -1.542528300539458,
          -0.2844584054060617,
          -1.2734091879658036,
          -0.9259892791158436,
          0.9818850033364812,
          0.6678974445638954,
          1.7154939647327523,
          -1.5106739274627285,
          -1.2903217838569965,
          1.082718311884849,
          0.12515218475816994,
          0.3889530910636787,
          -0.7267096440854884,
          0.2669023926147978,
          0.4051651580430089,
          1.168239307009589,
          0.9676521072137485,
          1.4123696507689754,
          -0.18205298305649337,
          -0.09588935223893622,
          -0.2900978387678494,
          0.9233632092756625,
          -1.0279278063877781,
          -0.5946726291409917,
          -2.883574748447354,
          -2.105637162042591,
          0.6024836488373336,
          -1.4337355703280092,
          0.8036107198918181,
          -0.07696095043790152,
          0.4988146466360324,
          -1.5201141702516872,
          -0.891303225129036,
          1.0649365705688048,
          -0.06921688015741585,
          -0.2812278017124063,
          -0.21012882238883282,
          1.7386337594155532,
          -0.7526264086554435,
          -1.4499088672248086,
          -0.6056424557740673,
          0.8058040168666835,
          -1.2513666019959542,
          0.42290264671627564,
          -0.6024739008617828,
          1.1197249593754903,
          -2.020782900595662,
          -0.1588083462389053,
          -1.0037518922260693,
          0.11493809308042298,
          0.40135903787118576,
          -0.9921453863556821,
          1.4640389214611953,
          1.6156803054771742,
          -0.721325532865226,
          1.9627786105942826,
          0.1272043262438452,
          0.3974498403716787,
          1.1355823806375476,
          0.31926323198780204,
          -0.5127532310000789,
          -0.36348567143448646,
          0.6169949688486361,
          1.2014378299274078,
          -1.7125183673630326,
          0.1395322214361833,
          0.29428677704799777,
          1.9376485035821651,
          0.3657766837663906,
          -0.7860662562244378,
          -0.9077422186295884,
          0.8361817202111009,
          -0.5442740149888521,
          -1.3066306797637885,
          0.06963494359802691,
          -1.0847865460849182,
          0.7077494351074797,
          -0.18505626622598398,
          0.43535501327722254,
          1.6104449396548313,
          -0.08353846569463963,
          0.7421492256739755,
          0.7622100870410594,
          -0.08933365833833311,
          0.115306077999254,
          1.1224261918495557,
          0.9955269618555447,
          0.7078128264754405,
          -0.9471317367069567,
          2.2868795815178773,
          -0.02078430234831131,
          -0.18280951374952248,
          0.5075150990350562,
          -0.757192814177122,
          0.7292854211431691,
          0.9049355234305725,
          -0.35316441784029806,
          -0.2923407838032063,
          -0.6547410009239037,
          -0.3873695257722573,
          -1.5293060786906174,
          2.7203355127864013,
          0.8542830631465272,
          0.35572117415413734,
          0.09426812818715712,
          -0.09176114528314001,
          -0.6139925204493933,
          -0.6312294251920264,
          -0.45647061250015325,
          0.20395834375463964,
          0.41069859378441603,
          -0.47186582886732265,
          -1.255244088981936,
          -0.7408439417896328,
          -1.3377969795594,
          -0.8087790607892944,
          1.8430465616293241,
          -0.7655120464746025,
          0.7500930431538172,
          -0.2558135511729199,
          0.31194729500025836,
          -0.34131352789638575,
          0.6996537510794797,
          -0.9530922068450789,
          0.1551822832923707,
          -0.7545721554131718,
          -0.6322998144097909,
          0.7740661036445835,
          -0.18639767251704403,
          1.0325383774526016,
          0.19106167846498207,
          -0.05437611803546914,
          -0.8060588531197811,
          1.0727893621047586,
          0.5025504510528145,
          1.887251505647972,
          0.8994597040847586,
          0.18902891923153084,
          0.42821548151062927,
          0.24587526325527134,
          -0.6555697758841276,
          0.3000002768902538,
          -0.5242643598948603,
          -1.2488251433588038,
          -1.5110227857156295,
          -1.0398484921646434,
          0.836378997365093,
          1.1506365157309233,
          -0.26931037954281056,
          1.1467647731873378,
          2.002080587551678,
          0.0993551860154977,
          -0.18776106653803495,
          -1.0087089263935975,
          2.2944732535428307,
          -0.797500385652564,
          0.10763143657669948,
          -0.3309059155014833,
          0.7139289379504363,
          -0.28035333197701506,
          0.5716463707939358,
          -1.0018851080159,
          0.5293641425305048,
          1.7021950083098567,
          0.4359726972209864,
          -0.11040696170416289,
          -0.02345807686911581,
          0.315377859815216,
          -0.060106964366097,
          -0.8114836360559892,
          -1.1324196539815463,
          0.2449445934323018,
          -1.8142035115413868,
          -0.12256928695449648,
          -1.1370569031179885,
          0.2390245490369186,
          -0.20320155747818122,
          0.15773729451985447,
          -1.5850217005279428,
          0.3261612779040463,
          0.96080291825265,
          -0.6815520951623311,
          -0.3814737429529414,
          1.333156091757825,
          0.4168089202658698,
          0.2504436972808289,
          0.06322262046862277,
          0.4792966045545307,
          0.5447855168561391,
          -0.06634926225041107,
          -0.6218664126322919,
          0.39542066339468473,
          -1.6384949257997081,
          1.9157195385512078,
          -0.5460997676179155,
          -0.1622474370006545,
          -0.9384940779454756,
          -0.7682769555342422,
          -0.738041216662198,
          0.6730259711442794,
          -0.18396760480144891,
          2.1701173595000562,
          -0.23992239979543917,
          -0.43095690001114373,
          0.09324756381837908,
          -0.9890863150139427,
          -0.04272591704679785,
          1.731441116841631,
          1.3991779119914447,
          -0.033188901081244525,
          0.22755569855409488,
          -0.247585746108814,
          -1.1991726138896137,
          0.13584151943282416,
          0.3020493648149599,
          0.7010492539051535,
          0.11973165252612994,
          -1.3110772912348438,
          -0.02307056192116317,
          0.9237401737456831,
          -0.4141240760080366,
          -1.2521059688322222,
          -1.4223774278153307,
          0.6367062204628546,
          -0.5495836741248664,
          -1.0088911607281879,
          1.2976397765760077,
          0.8631155356724716,
          -1.0988396463667631,
          -0.5851442689681232,
          2.014687063109378,
          2.353137359325043,
          -0.2084397266215228,
          -0.48111886136410753,
          -1.375614969479533,
          -0.7087651308900134,
          -0.19510111893182983,
          0.3792424091648791,
          0.26397124324624194,
          -0.7096081102905442,
          0.9478294423180826,
          -0.8268399147068426,
          0.12675614217443598,
          0.40081596233707245,
          -0.20651258952837,
          -0.44224325633631695,
          1.832741383986212,
          0.572588820060079,
          0.38772160795916305,
          0.8094279112041677,
          -0.3939661984823117,
          -0.9573374242603546,
          0.19911221159937031,
          -0.31259289426688597,
          -0.13968326830102762,
          0.3564559173602333,
          -0.7999809974779184,
          -0.2875807043341351,
          0.01618111200490782,
          -0.882737714190921,
          0.3481493097934065,
          -1.381038013555844,
          -1.172868915083091,
          -0.7392064023669447,
          0.3938256220721093,
          0.3799791080993848,
          -0.27918159286351535,
          1.004164586803789,
          -0.4595387470597796,
          1.0448812765382947,
          0.4458870712323783,
          -1.4016743121717177,
          -0.14863160688611302,
          1.6528880195916278,
          0.7157499752157848,
          1.8775158335902584,
          1.1761188633174233,
          0.11219419412900644,
          0.9073729782860096,
          -1.1037671298010339,
          0.20368614754381223,
          1.6095811056803793,
          0.4523023830023268,
          -0.19007525379977216,
          -0.6578849133345114,
          -0.02129410175550539,
          -1.0033740262630915,
          1.140582716065902,
          1.5307984973641915,
          -1.288736201522626,
          0.05051879121747112,
          0.12995329697916522,
          -0.2739201717987337,
          -0.18122117798583373,
          0.9546599960839158,
          -1.5673334294902528,
          -1.107748589364366,
          -0.6416868435964369,
          -1.139460566813619,
          0.12503975397652187,
          0.517224236175245,
          1.24891123162023,
          0.7269025441096856,
          0.5919805363221298,
          -0.6382864048346313,
          0.4170502748241066,
          -0.33357882076644535,
          1.6505967878215584,
          -0.48311993150710114,
          -0.8422518131211909,
          0.2582872467426903,
          0.20789852191077146,
          -0.07876474234695521,
          -1.553187813131691,
          -0.2743603513509873,
          -1.71897803923405,
          0.9446453831269058,
          0.38585583303297155,
          0.9769957084988989,
          0.9515482851820466,
          -0.38929743843731046,
          -0.7432838938960691,
          0.6272941769199596,
          -0.552317721101495,
          0.08159848166347168,
          -1.1192009204740758,
          -0.20605883109936254,
          -0.6076809682436309,
          0.7948937530993299,
          -1.8817165968585703,
          0.9062479145137378,
          -0.18951201711720975,
          1.0367080605447065,
          0.671177536608169,
          -1.193428956374479,
          0.6472468419582856,
          1.0377765995966082,
          -0.4996489618894568,
          0.651549576404251,
          0.3543578945864442,
          -0.5048492750629622,
          0.6005760500170365,
          1.5146072571464007,
          -0.8258380661338903,
          0.032496530447753455,
          -0.5265666020474102,
          -0.31230254581802813,
          0.7719082526566041,
          0.3055346008073545,
          1.4386046883573564,
          -1.4169714716261794,
          1.2730843044659752,
          -0.19439591041883378,
          -1.099360223098193,
          0.10114134843553417,
          -0.42954975782745675,
          0.3187772878204168,
          -0.015050282404552733,
          2.681495476913773,
          -0.10280276333757578,
          1.109082791396831,
          0.05594351260300496,
          -0.15874004522829027,
          -0.11948520406676309,
          -0.01937729923132056,
          0.16990328297911347,
          -1.2800800502093972,
          -0.06130380269540682,
          1.3479829310485671,
          -1.2673874444332975,
          0.5488278042202875,
          0.30792973570288606,
          -0.10668611366691244,
          0.3623948131764618,
          -1.6716046152297142,
          0.530021593075841,
          0.02796604192680557,
          -0.645490378270059,
          -0.659507791460163,
          -0.9567484738898718,
          -1.9413322925799776,
          0.20560529064430486,
          -1.506809807985206,
          -0.12464834279419953,
          -1.2799892057626914,
          -0.2738985469869768,
          0.23834416461247127,
          1.447819546155554,
          0.5496876623793484,
          1.1219663747280655,
          -0.33690813214822535,
          -0.8909574120538839,
          -1.7946896675212243,
          -1.0338840618718161,
          0.4061131292667254,
          -0.8787695404589564,
          -0.7820709663347236,
          -1.9191193829497726,
          1.1375066807732428,
          0.4913149581566959,
          -0.40894180285249443,
          0.16746588277325242,
          1.0615480309659415,
          -1.0435860548017115,
          -0.8958826059041486,
          0.7854526394067898,
          0.8124382574831569,
          0.7537325355926606,
          -2.657920765662952,
          0.6276324084151526,
          -0.3751313909072097,
          -0.323652890447722,
          1.4502778824130298,
          0.9660185102417563,
          -0.31375275079481924,
          1.824425357969168,
          1.3000311659804002,
          1.5339114956699442,
          0.9731066920633521,
          -2.874570485371906,
          0.9071332761086148,
          -0.9960028905063409,
          -0.6784269631457273,
          0.2712269099139735,
          0.9328213947737823,
          -0.0307108927314428,
          0.5376751162827658,
          0.038476298522188264,
          0.25003065925178136,
          -1.3808055886404924,
          0.08356820446310721,
          1.1974400869131536,
          -0.8566591919615201,
          -1.3708921562156506,
          -0.4837187919792182,
          -0.17812041404813936,
          -2.781398736935358,
          2.0429046159139608,
          -0.03416840133695081,
          0.24873580361367423,
          0.24802582712211652,
          0.9252418593279085,
          0.4241760517895068,
          -0.05019164868030176,
          -0.6221095334892675,
          0.9231452612031007,
          -0.6981444287072847,
          -0.06651374721156758,
          -0.7095885686940683,
          -0.9424681619467868,
          0.3094306899676078,
          0.6538669300558224,
          -1.9299286952352313,
          2.3784995960304216,
          0.47533621664928716,
          -0.7508659372538027,
          1.0090421672128538,
          -0.8607608581820627,
          -0.5032221846761846,
          0.16522075819334128,
          -0.9651437851622042,
          1.3154618939949752,
          -1.7435777400757886,
          0.17539385338704327,
          1.9693108863957638,
          0.23618979184213965,
          1.4133797349865571,
          0.6156768639326088,
          -0.10738976044954013,
          2.2598730331811323,
          0.8936716636331052,
          -0.6304298225231789,
          1.6249188021590657,
          -0.47433955940380707,
          -0.6887402707158294,
          0.5297313136013105,
          -1.0274091345770069,
          -0.34254717204317964,
          -0.536697914984539,
          -1.8945013598210194,
          -0.5862308392180068,
          -1.5862435620926834,
          0.4945713649399729,
          -0.6875308753032977,
          -1.4758908721917545,
          -0.5716494769392988,
          0.22062679640523686,
          0.8094219773315704,
          -1.455542609435611,
          -0.47862831029028513,
          1.2613905842628512,
          0.1579601131054833,
          0.33936783762498307,
          0.28368952820351623,
          -0.5592720901450222,
          1.8618422856348906,
          0.05960493092268313,
          1.110499337850546,
          -2.3857330095372533,
          -0.1992307625513192,
          0.10443054141424069,
          0.49439462774032217,
          0.9150839791417574,
          -1.5182518924122443,
          0.6271492396508315,
          0.9355820165534013,
          0.5937809749016131,
          0.906138393245295,
          -1.389435014752605,
          0.20430248678079937,
          -0.9622960707054629,
          -2.067909090172198,
          0.12453787644390635,
          -0.5180513122836454,
          -1.7376345771101227,
          0.686251988636021,
          0.2907096885672146,
          -0.9622348637723266,
          -1.0820507035418887,
          -0.2849098465914708,
          1.3516531904483469,
          -1.5654807410304468,
          0.8593291686503374,
          1.4617942623910807,
          -0.47999497758125054,
          0.34858575181018475,
          1.1550391570912146,
          2.0609407620361067,
          0.9382123902612401,
          -0.17364370418800834,
          -0.14371717732156514,
          0.14487673158136455,
          0.4495359102132007,
          0.3331193643626678,
          -0.6188564910174513,
          0.5514726502499936,
          0.6960924792205069,
          -1.6618303680158575,
          -0.16376621517101117,
          0.035838697349271614,
          1.1312787938930609,
          0.3840176088199881,
          -0.25870853193638516,
          2.2415515781916526,
          1.1694187525039899,
          -0.9075107299273539,
          1.245405603437443,
          1.13942807353434,
          1.7360510732813836,
          -1.3554249805220808,
          1.1467574470400372,
          -1.9308270832104093,
          -1.1008388874171269,
          1.3636268799512155,
          -1.0967435297964514,
          -1.7836287134894313,
          0.09500114492292974,
          -1.609275974645386,
          0.17462704821453714,
          -0.00946620509388734,
          -0.8035326260458645,
          1.2796628252361377,
          -0.932001754349904,
          -0.09708876793222129,
          -1.49644558166856,
          -0.3330982347353059,
          1.0202180523491924,
          -0.8259328605898836,
          0.35282484929340796,
          2.773626991097478,
          0.07695524069804946,
          -0.38620412206684884,
          1.1009075877229666,
          -0.4267589580851824,
          -0.10821697403613384,
          1.53106890547672,
          -0.0027156426671863265,
          0.0010177008232344531,
          0.03169599101428718,
          -0.557432494881207,
          -1.8815388705457932,
          1.0930081960076719,
          0.7427284530421617,
          -1.8746096229866342,
          0.9304100224522892,
          -0.13191537051218,
          -0.1073863256113016,
          -0.34997191619369994,
          -0.014193475337840052,
          -1.7246454276045253,
          -0.26984505709432577,
          0.7660157645435461,
          1.7693250015961635,
          -0.29969050007468767,
          0.9249375084988598,
          1.2111211151841879,
          0.09266352397912973,
          -0.04664355409862571,
          0.30394099751365405,
          0.1348168881733953,
          0.35296342290895183,
          -0.9925821338651197,
          -0.9085402289258756,
          -1.1655744026504808,
          0.9791860111598724,
          1.5731887235645283,
          1.632414326726557,
          1.4778601698531575,
          -0.4253967767793883,
          2.5945416096953,
          -0.2735138079162598,
          1.2310817075566278,
          -0.3395155350329443,
          -1.0793875783840365,
          -0.7429106374865981,
          0.6194614083417759,
          0.3343802594838144,
          1.6312434354254706,
          1.1857580550427378,
          -0.5966702517641688,
          -0.9506727669153705,
          0.2914085343623325,
          -0.13644769039123855,
          0.09431052099543376,
          0.7272318135968159,
          0.6736721270365426,
          0.35498715581263945,
          -0.9185899459255912,
          -0.3859599933407991,
          -0.3229869880322121,
          -2.21578733593836,
          -0.953980496382955,
          0.2528053044852109,
          0.19623489875324102,
          0.17552999639311737,
          0.5039022762448856,
          -0.06123974613278959,
          1.4989579660858312,
          0.5597023230220055,
          -3.0529550684607645,
          0.819442249396889,
          -0.3014677990432477,
          -0.056214635726838755,
          0.7855334130983506,
          2.1935036566425437,
          -0.10781812406111287,
          0.5023987084429602,
          0.5891063125180473,
          -0.008010593444513655,
          -0.036509643401714184,
          1.1435929052290787,
          -2.1844337854884714,
          -0.07374303552411877,
          0.028832618842737655,
          -1.5464352812382682,
          -1.2775592884826001,
          -1.1408603786005527,
          -1.4167536583422504,
          1.161503565275328,
          -0.6196037320906193,
          0.469342472692461,
          1.4882922973812,
          -0.6289922737593048,
          -0.3840238138790586,
          1.4671955874865652,
          1.2931768722623243,
          0.5736836530390391,
          1.0801328849427072,
          -0.8076819621171434,
          1.8261962391423758,
          0.9144630910282748,
          -1.6517238136865329,
          -1.638791905612053,
          0.8050367640604343,
          -0.0948817117662748,
          -0.547791435428239,
          0.1958632799005144,
          0.7165637860759578,
          1.8865824691191135,
          0.7886728402290162,
          0.6976263709369349,
          1.421972928211508,
          0.1486691027590734,
          -1.8211161755524357,
          -1.0768964485366996,
          -1.319937606433745,
          -0.6345366627833999,
          0.49948879493927784,
          -0.574133737548193,
          -0.7409177645865171,
          0.2818966333749436,
          -0.933885487900577,
          0.5039870652333114,
          -2.0561973385002092,
          -0.747675249884788,
          0.8426045023799287,
          -1.5699171983382827,
          -0.43150835704141893,
          -0.630572651922521,
          1.744711927002348,
          -1.4764398187669117,
          0.7530285266672888,
          1.0515525730319026,
          0.5438322270271088,
          -0.15799329623971012,
          -0.5851397507782756,
          -0.8300090427624947,
          0.3896758548069034,
          0.5625312479240293,
          0.05122813107411288,
          0.2793928598091479,
          1.0376243822490727,
          0.3325915442074277,
          -1.7106200482195362,
          -0.7031638517221144,
          -1.6320758764449834,
          -0.44522755101857564,
          -1.3836095264229873,
          -1.2425440102959955,
          1.3723990985617054,
          0.5095564203533781,
          0.8971446543943802,
          0.4384224274366139,
          1.2899727372620808,
          0.3449909477602538,
          -0.5313658757204991,
          0.6634003510995117,
          0.26262433518593,
          -1.5468632024674862,
          1.0020415243117873,
          0.22488382358098968,
          0.049307235939333255,
          -0.9507027020824096,
          -0.16577062908708246,
          0.5517449329547393,
          -0.21842987603337297,
          -0.0020521203098424244,
          -0.15686553503560835,
          0.7279580868647356,
          -0.6207466720279533,
          -0.9600373478267323,
          -1.4315431119471693,
          -0.9955166677743429,
          0.9419974409338231,
          -0.44198696260683507,
          -0.9649797973928667
         ]
        },
        {
         "marker": {
          "color": "white",
          "opacity": 0.3,
          "size": 3
         },
         "mode": "markers",
         "type": "scatter",
         "x": [
          -0.11668520430699936,
          0.28114985509455953,
          2.141732302495992,
          0.8050449418391316,
          0.9660938331347882,
          -0.4680208113455857,
          -0.7702456058441128,
          -1.3055409365303867,
          0.2267617631996307,
          0.23142298799176483,
          1.2553577457176095,
          0.32659627316993406,
          -0.2723193590900558,
          0.21861544879063502,
          1.9854099849376692,
          0.08058572822817651,
          -0.5613980988056358,
          0.8604244050444544,
          0.22068533443470822,
          -0.2008813920665665,
          0.7139400787416235,
          0.8636300108320514,
          -0.33846527796799386,
          0.929826186537145,
          -0.1877505342827068,
          0.34666749746176695,
          -1.559308020118623,
          0.688696553509982,
          -0.4177635286869492,
          -0.04317290460357892,
          0.9619454214912048,
          -1.240878647570688,
          0.09856399757120457,
          -0.8777799095970757,
          0.081158399177324,
          1.1169218210408534,
          -0.6587901238806898,
          1.7290420670976276,
          -0.007258433629643221,
          1.6837670830284195,
          0.38613668955572245,
          -0.49237681966488195,
          -0.587681554554024,
          -1.3636041614080086,
          -1.132215995144143,
          -0.5437291759819399,
          -0.952653387436774,
          -1.1645569052468776,
          -0.722406014715672,
          0.20779680946126605,
          0.249601463402177,
          -0.5104390898164957,
          1.4707883593229036,
          -0.8491651302531048,
          0.2997309894900759,
          0.7574703658978843,
          -0.4280534844787833,
          0.9251445737329083,
          1.0498736098639276,
          0.04263083367725875,
          0.4150128257408184,
          -2.190163848841193,
          1.0574257634662245,
          -0.61195260975283,
          1.1553419181063305,
          -0.5659115073344826,
          -0.06880483318792095,
          -1.411719790430665,
          0.843061762893499,
          0.43250002671130644,
          0.48420892128757276,
          -1.882591811773587,
          1.2800697063657598,
          -0.697462188550717,
          -0.981079729467515,
          -0.401050011791041,
          -0.6194648177391373,
          -0.5096605694989095,
          -1.2907096621097145,
          0.9317247979448758,
          1.0331713188626008,
          0.48019522756213606,
          0.19275782504456893,
          0.2951611720273816,
          -0.6201992086015465,
          -1.4919652362323166,
          -1.5290607648267147,
          0.6597599896177384,
          -1.5200128166407105,
          -0.9722864287062042,
          0.34574309333416037,
          0.6061376044481455,
          -0.9072854241495643,
          0.7301927469510929,
          0.1359323447395817,
          -1.0958890655584934,
          0.3369163348934946,
          -1.396629006631378,
          -0.1382341217783965,
          -0.1331078256605258,
          -0.39466720551919243,
          -0.7996135019134316,
          -0.030444875914156247,
          -0.07147694122348883,
          1.94075302964663,
          0.13664365027155362,
          0.18591388978447737,
          0.7222805471022237,
          -1.0280235680299394,
          -0.625023036159365,
          1.803984553000245,
          -1.5173040166503435,
          2.762590171178497,
          0.7314743403470914,
          -0.372116168327445,
          1.5639795257807991,
          -0.6241193649210319,
          -0.736156569489761,
          -0.15601328044953272,
          0.09812092305772288,
          -0.09842739384832772,
          0.1414304184249993,
          0.9270765946544521,
          1.7452155993161733,
          1.979308075566231,
          -0.9996201967116604,
          1.8249542524940356,
          -0.8487517355332825,
          -0.737479417314618,
          0.23546216739226,
          0.3159309088857444,
          -1.37354576192921,
          0.29721703062635096,
          -0.04508797709493305,
          3.2487991437514765,
          -0.22014266830379833,
          -0.38238002102028146,
          -0.3150519151315587,
          -1.6076585445122888,
          -1.5001558567091686,
          -0.7043828750849094,
          -1.8149745233841574,
          1.090235919100353,
          -0.46356053417628346,
          0.6295376788130583,
          3.4223495613587116,
          -0.03083766032262226,
          -0.7903320648753264,
          -0.6749652170258721,
          -0.9003306579695641,
          0.08319275694200622,
          -0.5937234091498991,
          -0.04957471573487277,
          0.09626655642945633,
          1.3042932844743829,
          1.9641913239712456,
          -0.2655456310819451,
          -0.7387569575628072,
          -0.37718246180868115,
          0.089131241310899,
          0.24456621171427928,
          0.40849030294799826,
          -0.745701969022886,
          1.3794996098873096,
          1.031311517282731,
          -0.16914055235219164,
          -1.3373707806483366,
          1.3777486715151857,
          0.07361344876382855,
          -0.33706001881188075,
          -0.6896577528234585,
          -0.3096777809606802,
          -1.0093509310042077,
          1.5006256291611433,
          -0.7286183641842195,
          0.8052331076387605,
          -1.30564646882133,
          0.8320709246283388,
          -0.34829653136619004,
          -0.25827375581882095,
          -2.551528327029098,
          0.7003510559352545,
          0.06785880196689524,
          -0.15072393043470106,
          -0.4105559859705106,
          -0.878926638783265,
          1.1113889842896096,
          -1.0178983000315387,
          -1.0079532723042632,
          -0.4807458464944863,
          -1.2841334253761127,
          0.4389465099432875,
          -1.2150877034664402,
          0.3078620420772772,
          0.09222814313844273,
          0.4766119378751059,
          -0.17765941197421536,
          2.0690051375042047,
          0.3654906048618975,
          -0.0049465167413011634,
          0.7451835360491064,
          -0.0847318111396537,
          0.14390059987645917,
          -0.15104002495520139,
          0.32707824969384375,
          0.8417544456038785,
          0.9861848067661712,
          -1.5392940646652458,
          -1.3991170729833373,
          1.1096710055527357,
          -0.02881108785362069,
          1.3451971625291719,
          -0.7940760014409664,
          0.29248579030615757,
          -1.0214778530389623,
          -0.6420617910890868,
          -1.1850310721402324,
          -1.8330095453718396,
          0.6108982489975459,
          0.9396452086576239,
          -1.637887113627679,
          0.8415424044484622,
          -0.6576859772267573,
          -1.2540869744894223,
          -1.4787034990531553,
          -0.21388009250781845,
          -0.5192371715105271,
          1.5279957956299697,
          -0.3558653667906838,
          0.2918596930904747,
          -0.9460573151145908,
          -0.9568732819871831,
          -0.396838329749804,
          0.7365086181848505,
          0.00906020634848801,
          -0.29126020519766804,
          1.395089851510806,
          -0.33327089860570597,
          1.0181958434836078,
          -1.140218700997623,
          0.4600646439993672,
          0.012872748942528246,
          -1.1777410967681257,
          -0.3519693191133683,
          -1.697183799502976,
          -1.7514264882462902,
          0.12520906821464026,
          0.2414888570337322,
          0.4405327691023473,
          -1.115608227672228,
          0.6409437825785709,
          -0.3196514066361583,
          0.2725241127886879,
          0.37525467623633924,
          0.7371701949943457,
          1.2697321520487816,
          0.586540805650319,
          -0.7262183485283399,
          0.11649559329242373,
          0.9448979488864304,
          1.0637774461560325,
          -0.5998012146814825,
          -0.5672495737148827,
          -1.3726884403340027,
          -0.876181466110087,
          -0.8504963557566758,
          0.3275942692552157,
          0.7685608598178317,
          0.59744602998601,
          -0.1398015377603036,
          -0.34506739788082225,
          -0.5594619353119906,
          -2.570599486124083,
          -1.436845421579838,
          -0.812751909548878,
          0.7809797928685179,
          -0.1970098246551254,
          -1.3858438126716228,
          0.09627659501170069,
          -0.1618810915739761,
          -0.2235609003775461,
          0.2740602335256188,
          0.1355841554611881,
          0.24767091843885064,
          1.0942216271348184,
          1.3125027554022741,
          -0.5389599030763319,
          -0.7747619787689394,
          -0.2595188612571572,
          0.3541356594984613,
          -0.792924488826532,
          -2.021142455293396,
          -2.0857081416020042,
          2.4486597928522826,
          -1.109393630237955,
          1.851300058962788,
          0.26396613423674214,
          0.5931020155373363,
          0.19952571913457806,
          0.7389845133587702,
          -0.3875194824219592,
          2.090937612651161,
          -1.814416787399861,
          -0.32814500668620816,
          -0.5270124767921621,
          -0.40751023035509915,
          1.0362829966205476,
          -0.02486141904389148,
          0.5601484425722517,
          0.26304422839817243,
          0.47670784204792993,
          0.4292732100854563,
          0.43233069227345994,
          -0.4458690582188791,
          0.8133393555509485,
          0.9429732260413101,
          1.3219461892700781,
          -0.7869670107696634,
          0.2850209650441062,
          -0.9548468336778192,
          -0.8906610814552076,
          1.2555395531246378,
          0.7714623047685681,
          1.5746361959293538,
          -0.40318804874714886,
          1.734744491289949,
          -0.060778572545505,
          -0.13896026487763452,
          0.5587209844394798,
          -0.9075174851006623,
          0.6021895509314733,
          -1.3691228366598618,
          0.6612478025565057,
          -0.22674661607062005,
          0.9536766893203557,
          -0.16572098642280675,
          -1.8086859323180222,
          0.7190476718365459,
          -1.0537960096646812,
          0.22436504161901621,
          0.06215193474774546,
          0.7031370321973202,
          1.6766012793683944,
          0.9502855065298056,
          -0.21173922071996623,
          -0.14273435520020095,
          0.21013264114220828,
          -0.005995678779994012,
          0.14518483574813748,
          -0.8046897028205046,
          0.7262621777235763,
          -0.14992858799677464,
          -0.08491366292118399,
          -1.670428771320828,
          0.6297334057506572,
          0.9617320784979811,
          -0.6127383193129412,
          0.9013022670769121,
          -0.9916345508520819,
          0.12031065380151591,
          1.201839454548871,
          -0.1172239444685763,
          -0.5379486400209363,
          1.2993894671352626,
          -0.5973636904103533,
          -1.3687211658909388,
          0.27207528670714903,
          1.0714816539942096,
          0.8729008845609447,
          -0.2647411485761244,
          -0.22190873144298667,
          1.0350397978782018,
          0.6366439215179596,
          0.17168984380864827,
          -0.9498345978052216,
          0.46513342514282263,
          -0.9581212592502721,
          -0.45565652442260113,
          -1.2101982294880758,
          -1.0913930091324537,
          -1.9140455604767534,
          0.9076217424038896,
          1.8927431317431558,
          -0.36050776532332274,
          0.4138441859986633,
          -0.9803818283611893,
          0.07300123644660446,
          0.7560982213962767,
          -0.5167255130126871,
          0.1641380873275745,
          0.500327262306746,
          0.9748364065393317,
          0.09941410543826552,
          0.21353467956354846,
          1.2217089223640634,
          -0.5403506439473517,
          -0.49868870565902507,
          0.6614186429414618,
          1.2818179433052628,
          -1.3202949464607692,
          1.692338832947553,
          -1.7259269240996753,
          -1.3846591018729093,
          0.5387914520794658,
          -0.38984186980902075,
          0.8391628522377155,
          -0.33400488145401036,
          -1.0307151684384055,
          -0.5991653633676436,
          1.0033262383597006,
          1.705239657241401,
          0.9893643886723051,
          -0.5569018568433549,
          -1.4300114423987522,
          -1.026414356375179,
          -0.799441215968688,
          -1.9944244951526673,
          -0.24198517879887146,
          -2.4413885117405463,
          -1.046433336250817,
          0.7052134407832157,
          1.065766235853285,
          -0.29648519318851585,
          -1.3174349995028718,
          0.49293925632428043,
          -1.0392679628092722,
          1.8312919121286837,
          0.9001110491468105,
          0.238179430956681,
          0.8678003269116039,
          -0.34707960886121203,
          0.42439490435256755,
          0.10484301379316999,
          -1.7122157079681153,
          0.1313436999281192,
          -1.0148572038454013,
          -0.16924929661578367,
          1.5239654585037405,
          -0.33137445489111356,
          -0.08473521764847428,
          -0.5751818373643364,
          -1.1029977346578077,
          -0.4132539763230744,
          1.2724090990163663,
          0.14513397597735472,
          0.29559530339689566,
          0.04442181646281691,
          0.7449162798476467,
          -0.4049687704962119,
          -0.40074769601393695,
          -3.5361958087829604,
          1.6680448816940368,
          1.2488349890123904,
          -1.3400041360050974,
          -1.183822897834661,
          0.44237188693726726,
          -0.5072485684061995,
          1.7637478309396575,
          -0.6460084048567577,
          -0.4502929568540483,
          -0.6295146915816806,
          -0.5448728702490712,
          0.6907632990680224,
          0.486962941370256,
          -1.8565156665156364,
          -1.7243187267617373,
          0.7231898953608323,
          1.1234802816353382,
          0.2822637111275641,
          2.0541455929190344,
          0.9434577222577512,
          -0.08231170564137777,
          -0.23631695052528925,
          -0.9937031564751978,
          -0.4382788073192429,
          1.0676582815247715,
          0.058200930963931696,
          -1.0016956833517479,
          -0.9765053079900905,
          -1.2224259816193306,
          -0.2115046846387346,
          0.0743836989047711,
          2.0182097513230333,
          0.72640683962873,
          -0.7671721561009133,
          -0.9699490072575289,
          1.6099031117510363,
          0.553720219436343,
          0.7600455622463729,
          0.334694704521409,
          0.3559519015791648,
          1.5245753268985471,
          1.5793515972852004,
          -0.9671253049544245,
          0.6815838285036903,
          0.9683911861402504,
          -1.2819400425569552,
          -0.47136303218690134,
          1.6129410934620743,
          1.3483937616363717,
          0.831672305391452,
          -0.424014892884299,
          1.418160375504967,
          -0.8296672757795027,
          0.981053246144314,
          -0.6851918899761245,
          -1.6664837965236308,
          2.535121635603761,
          1.9419523401777408,
          0.6459334481117409,
          -0.29804266317901645,
          -0.0915166236227492,
          1.2470669657128142,
          0.6524516910991167,
          -1.0702732289068166,
          -0.3632255011155572,
          -0.08089853033482237,
          0.18762692546000972,
          1.8148142543166783,
          0.8920964508282802,
          1.421461773141373,
          -1.5975599196313868,
          -0.4723154758157159,
          1.4112498015643697,
          0.8325811912270725,
          0.06612438392403149,
          0.8216243287486039,
          1.1425787245538053,
          1.552225057465114,
          0.2711516595689923,
          -0.42882864824938727,
          0.31989548894842645,
          0.7606250178401229,
          -0.1476661887824189,
          -0.23710852751867523,
          0.03910435005697789,
          1.3527297771248765,
          1.4463109534116732,
          -0.21806607168037692,
          0.795011570567343,
          -0.11525420631456675,
          0.39836998328467654,
          -0.17562489062444636,
          1.5948299688466332,
          0.9793824094536226,
          -0.06491202374173906,
          -0.6225385248501484,
          1.682632143879958,
          -0.2830835997741711,
          1.2654773308692306,
          0.2829003260165046,
          -0.05287380259696991,
          1.790504266746392,
          0.5756248369463336,
          0.3038484276300826,
          1.5067766511871608,
          0.004484831818133069,
          0.00895096614528765,
          0.07967287027884633,
          0.7440605830371138,
          1.0709216740069765,
          -0.902069402344169,
          -0.8402853991828139,
          0.482310429473891,
          1.7090132990688278,
          0.35103490143623683,
          -0.674061960649398,
          -1.891700416720724,
          0.14769507344678562,
          1.85924166204926,
          -0.0005832260324343469,
          -0.3775377801040655,
          0.553399584440753,
          0.11350409223110373,
          -0.45239696280841424,
          0.166446156394466,
          1.5574954029021366,
          -0.11019457577826777,
          0.23829367509885946,
          0.4660183413210094,
          1.2972949327913779,
          -0.9300260714954957,
          -0.10711608587467569,
          -0.5630888769070788,
          -1.371633580703867,
          0.7616476831713052,
          -0.29965787333332733,
          0.40693150493009295,
          -1.5540192722499642,
          1.0634254696509473,
          0.8789527157772656,
          0.49415781448751966,
          -0.1502285595064293,
          -2.0631273057686346,
          0.33083129628633995,
          0.4274555975464478,
          0.45005544263272235,
          1.2184640299549943,
          -1.2861144691501134,
          -0.45535320825548736,
          0.9003669657089275,
          -1.065087481196316,
          0.7305266027813424,
          2.1933582712765336,
          -0.2474656310110763,
          -0.35386583701338975,
          -0.5773801315230962,
          1.6215423740150008,
          -0.3647027581747204,
          0.19689641200388633,
          -0.7960072233212832,
          -0.258340336116605,
          -0.9353240035737125,
          0.4186374980536922,
          -2.146502442547401,
          -0.8167525151972188,
          -0.4648327812248712,
          -1.5026962910636543,
          -0.43412640554086873,
          0.17231235115676133,
          1.5160147668171433,
          -0.7283338464642796,
          1.715363109613839,
          -0.2086251895642528,
          1.2890824022364713,
          -1.3544391370991846,
          -0.020982575576404542,
          0.5342701222621767,
          0.6187459191248742,
          -0.5241358241377374,
          -0.585025800478734,
          0.33644721383563614,
          0.39448891452058654,
          0.08530038561443101,
          0.7328735861368472,
          0.40774284274701145,
          -1.265183427484207,
          -0.8840512034628839,
          0.24297482888024421,
          -0.17100546553365278,
          -1.2117714158133936,
          -1.146944267793555,
          1.4853867487525927,
          -0.021939133298247124,
          2.4533780052658423,
          0.05874347008175995,
          -0.22642834478928722,
          -1.0701421107311502,
          -0.579327317742555,
          0.5750655610955878,
          -1.2349354368159096,
          0.9382941330565411,
          -1.8375200500888929,
          -0.028151910678517075,
          -0.6194906825474203,
          -1.4380880086534686,
          0.565622281493338,
          -1.3311210657350327,
          0.9940459266843688,
          3.66360200064417,
          0.39831707132593297,
          1.1151009183378948,
          0.32570897704704693,
          -1.0294254759650177,
          0.3164155915208115,
          -0.5037459275434002,
          2.386109508019851,
          0.944988941238188,
          0.7879751522654214,
          2.5148944404890465,
          -1.4963160117942158,
          0.5701246328261691,
          0.5028978882567858,
          0.4409298630547711,
          1.1498872459019205,
          -0.15226305990131975,
          -0.9840182761041488,
          0.9411684593113986,
          0.10893792966656686,
          0.22701337923508108,
          -0.18142298163283876,
          -0.05504846756039171,
          1.4062903653598935,
          0.1388012887411676,
          -1.1203863848700417,
          0.465121234292209,
          -0.0492257693965807,
          -0.7900606397030334,
          0.10348223676902991,
          -1.0881764042890334,
          -1.1079840341827971,
          -0.47848259023736994,
          -1.4289553825664394,
          0.5221673769184573,
          0.09753413309496774,
          -1.2538112060522584,
          2.4123095062025364,
          0.6594487563179732,
          -0.10984079335054572,
          1.4807548528626795,
          0.20216987363809802,
          -0.12244695874206116,
          -0.37380139472692303,
          0.12323053404076299,
          0.708750071976844,
          -1.8023854802960018,
          -0.396746684132692,
          0.14827708099627407,
          -0.9861032153810264,
          -1.0339967723642944,
          -0.4293864274806201,
          -0.7603527364640924,
          0.6598638589269958,
          1.334181365917539,
          0.12266424180354092,
          -0.35106408517321336,
          -0.8675627429052688,
          0.4248633918327947,
          -1.7567746098637271,
          -0.8874265220728691,
          1.8815325002365755,
          0.220834436305704,
          -0.1355786629231636,
          -1.374785038912805,
          0.9472236987640485,
          -1.0906692595783243,
          -0.8823590348571503,
          -1.7489266381580524,
          0.763547767541532,
          0.45988137163941606,
          -2.7996139058402805,
          0.25027782122963976,
          -1.7013149119519093,
          0.19472231337983886,
          2.1555254527227374,
          -0.7311739122555901,
          0.04827419081539815,
          0.7986737453702419,
          -1.8526365144151162,
          -0.6552944296847696,
          0.4370034894423061,
          0.5640396793441018,
          0.7467257293275213,
          -0.1710628031248373,
          1.1942540015219991,
          1.4169308665791969,
          0.5837345771969021,
          -0.5942195894696252,
          0.9126217056621083,
          -0.705764483835352,
          0.7317257247217114,
          -0.3896180184858183,
          -0.6551111699738736,
          0.5995038394420485,
          0.29084769407115996,
          1.6804380005245136,
          0.11347141537036237,
          -0.8675884490864589,
          -0.552557563237089,
          0.6562836203981349,
          1.205877874908196,
          -1.0698987121615413,
          1.1363992804495282,
          -1.5790617916604617,
          -0.47327558285570814,
          -0.40493708730677036,
          0.9277069570302336,
          -0.9643921421525802,
          0.548860314892592,
          -0.4243309090706366,
          2.8274343734039697,
          -0.48423814648170144,
          -0.12465634543791364,
          0.5123314984647801,
          0.20069555378382867,
          2.508448195430211,
          -2.002981877441224,
          -0.8387872103308986,
          -1.0743157117150175,
          -0.38268824611143815,
          0.5057801057968291,
          -0.6581055427802358,
          1.2063775086373023,
          -0.7042873240752022,
          0.6893913002608208,
          -1.2227809558283875,
          0.009086912268148936,
          -0.407116528132199,
          -0.19112439308353968,
          -0.49921052970070634,
          -0.5156869951993842,
          0.7362143824322088,
          0.3897472786779365,
          -0.34090261582909165,
          0.5430417176212705,
          -1.2715961089335204,
          0.42539015201719205,
          -0.8798949940425618,
          1.3674642246297541,
          -0.18762405661313875,
          1.4675345863771374,
          -0.8347805428982532,
          -0.2559610264305403,
          -1.7224915786940134,
          0.9486911699232493,
          0.9026765800351099,
          0.2256059619802006,
          0.4480872047054149,
          0.5412587813044488,
          -0.5812295070439331,
          0.8205241274950196,
          1.5108374316156639,
          -0.4475143689550021,
          -0.5599610762730679,
          0.6203993277117753,
          -0.0017002482579848734,
          -0.17762640864685192,
          0.22272896210079302,
          0.39906028319336634,
          -1.813430058666348,
          -1.90366785816003,
          -2.0693427702271343,
          -0.08321448930569407,
          -0.7268478119558653,
          -0.7023431401073686,
          -2.280231629983465,
          0.030662400293899158,
          -0.5801434030252101,
          -1.0406727828348727,
          -0.5324095926294071,
          -0.6198280006992355,
          0.5384713882805351,
          -1.0462887893144117,
          0.5803358672011143,
          1.1489423398796363,
          0.09397275179314828,
          1.1034809815650723,
          -0.9983016048659727,
          -0.16905451031915766,
          0.5169444629983146,
          0.3416063772751026,
          -1.0872008073995592,
          -0.38230341288729813,
          -0.5648689280859346,
          0.37358446231260645,
          0.7953419939123189,
          2.007098215800671,
          -0.004355721561586568,
          0.5072866522320667,
          1.5724402203578496,
          0.148541310936092,
          0.21871384400446858,
          -0.7551080053056219,
          -0.39999784858676524,
          -0.6203977084737211,
          1.018583948508279,
          0.9760081293458195,
          -0.8889524980237767,
          0.6701910906569942,
          0.01120303251209464,
          -0.33517054903182925,
          -0.5886769888512826,
          0.30241775759170936,
          -0.3373026956626312,
          -0.2520571085688495,
          0.05286565040929801,
          -1.2531542540189542,
          0.6732050709726776,
          1.1444838214072317,
          -2.3329329117234567,
          1.161696269832579,
          0.3501414149806822,
          0.5318117488705053,
          -0.626670198823699,
          -1.0095845102504444,
          0.5795679603686379,
          0.17109642102546824,
          1.9212297323833036,
          0.37247847270011747,
          -1.8970092240358454,
          0.07938649320959514,
          -0.6976679290219396,
          -0.06427789197093235,
          -0.3843515181836626,
          -2.0113418240353957,
          0.16686684354063988,
          0.33164945184958083,
          0.9367742255914339,
          1.7258413229857552,
          -1.1770301725802668,
          -0.0983255594221568,
          2.1613390507971193,
          1.3959245338520538,
          -0.43227042505895047,
          -2.024332075087768,
          -0.13736560435153264,
          0.413750680712762,
          -1.29692811763146,
          -0.85986771905673,
          0.4070371044286524,
          1.1975635212201303,
          0.1571303595301896,
          -0.9334540185678497,
          -0.12575172950020483,
          -0.19114800598553847,
          0.2536271813006398,
          -2.4778724797551663,
          -0.14284216426692087,
          0.13355472722049563,
          0.7174984191911999,
          0.44453258393696343,
          -1.2684243354561873,
          -0.002045839114443977,
          0.44489397247457885,
          -1.4499128301831605,
          0.5138565130698112,
          0.8324449068390118,
          -0.10929010697864597,
          -0.8726192594593005,
          -0.806007166933895,
          0.4329499042981496,
          -2.278178667955701,
          0.3131496670947501,
          -0.7445096795093082,
          0.1758720342446279,
          0.4231011267399792,
          0.43781465964205973,
          0.6300682858806217,
          -0.1703788351375178,
          1.3603011221514836,
          2.2760804004357187,
          -0.23958805090449994,
          0.27727275958510755,
          1.9293552707253872,
          -1.6115772699049757,
          2.1017276549329704,
          0.15715508726484012,
          0.375030262875074,
          0.5441274414841794,
          -0.39420842955158253,
          -0.7704392556572857,
          -0.342022607142693,
          -0.545762794365014,
          1.3455016411058414,
          -0.6530640341793255,
          0.4313203427436296,
          0.15839738392118977,
          0.2566290316149601,
          0.5631722765720691,
          -0.14724537772975796,
          -0.8648249717446108,
          -0.9051675421370899,
          -0.5527079778798494,
          0.23778411799565416,
          -1.2543787867633711,
          0.9755885223451328,
          -1.1575303008540947,
          -0.013652365924108642,
          0.3511346305173505,
          -0.7684172227316828,
          -1.1685642581155364,
          -0.027386436239639926,
          0.4222550565683599,
          2.19069101822863,
          -2.2044992524290725,
          -0.13989612400472096,
          0.53289623099847,
          -0.0912727181871496,
          -0.14071789203291415,
          0.5900625440192369,
          0.807105640124297,
          1.2318409750109554,
          0.5327629991022799,
          0.29836826652768217,
          -0.037896756964896805,
          0.6852884556515522,
          1.278163243334691,
          -0.20935954006054908,
          1.3668327740334576,
          1.3041004149352369,
          -0.850442450922042,
          0.5342148039204228,
          -0.23666264780250293,
          0.4205783666165666,
          -0.8189227416013201,
          1.4538121029081874,
          1.2561236946005607,
          1.5436227174696784,
          -0.39876481827264504,
          1.3743822979270897,
          -1.4491315082322551,
          0.1847682701551123,
          0.8734768944019181,
          0.2960394152723732,
          0.29470522063457427,
          0.27531322801756164,
          0.38729634619851777,
          -0.7360214292163821,
          0.1146253983323468,
          0.2495177449764698
         ],
         "y": [
          0.9416701395333092,
          0.25481839416271873,
          1.2016145338226043,
          -0.3965511477262813,
          0.03172586636060631,
          1.9753543306129435,
          -0.6804253185718554,
          1.4297457574781414,
          0.3607108809867478,
          -0.539692169068928,
          -0.3848490228578757,
          -0.344944027317487,
          0.6413475783009948,
          1.028031103385608,
          -0.7878385223879287,
          1.3863847481907445,
          -0.6106559538296585,
          0.7364996872691038,
          0.43390268893629014,
          -1.5459227896537786,
          -0.2152182636014294,
          -1.1230398777623507,
          0.1555776768570577,
          0.3588775412451898,
          1.213629483527062,
          0.5052793076695912,
          -2.368118734633076,
          1.508829258986283,
          1.0584093638888543,
          0.43130448237903435,
          -0.7344075905837176,
          1.4153978968882965,
          -1.1335307357474875,
          -1.9392757510435334,
          -1.0750540715317163,
          0.1372516995681399,
          -0.15652256183329138,
          -0.099605994560867,
          0.28437491563729667,
          -0.17908026628871115,
          -1.3499868708161593,
          -0.07685298375778646,
          0.2858344420290553,
          -0.48745216429173854,
          0.769515932995723,
          1.2589099550388831,
          0.5909470950305323,
          -1.263764848328055,
          1.0008397232290334,
          -1.8740664033845587,
          -1.0410662694201314,
          0.45829805009833346,
          -0.24863973355232952,
          -1.0976923446632123,
          -0.15149391823491393,
          -0.223026119014377,
          2.0605729166816893,
          0.9509944762180547,
          -2.4797166429667907,
          -0.7199556810089706,
          -0.9740578711434468,
          0.6802283333097933,
          -0.7021041558210791,
          -0.2993355823523955,
          0.3115736863342703,
          -0.6621480259965042,
          -0.43753566040194003,
          0.354396526730995,
          1.2756289537732377,
          -0.5888902085392853,
          0.35953865121392176,
          -0.208247224847608,
          -0.14488117314083424,
          0.9266248384785298,
          -0.49033502081126945,
          0.9741162116662925,
          -1.1365180973047613,
          -0.12262667596820453,
          -0.6593577908102155,
          -0.20548608152425704,
          -1.5058787000578138,
          -0.2379596808717213,
          -0.32478713509157736,
          0.9432235496336899,
          -1.158241599516545,
          -0.9165231340892387,
          1.1942604936117542,
          -1.599977791816254,
          -0.8097771512461485,
          0.7831410578481027,
          -0.26853560868124043,
          -0.19611613085057997,
          -0.7919667024109325,
          0.34480655378733843,
          0.939769266793073,
          0.026843791973540605,
          1.0023565390655276,
          1.366680103056884,
          0.7391813147644739,
          0.3045905744918038,
          -1.501786140695299,
          -0.5482930022611773,
          -0.40424137741762495,
          -0.975984453064751,
          0.2438155496288491,
          -0.710518889546459,
          -1.1596534350203225,
          -0.34194291936920357,
          2.053401954885552,
          0.18799225873624434,
          -0.43279247155575745,
          1.450002674446353,
          0.8664001986346352,
          -0.5570488630482928,
          -0.6401689596270821,
          0.4484414019846191,
          -0.9047338657779386,
          0.7138251876405546,
          0.40428877572165817,
          -0.5277852517413633,
          1.239137044603948,
          -0.3238563671353456,
          1.9980191455512557,
          1.6054719084042823,
          1.6095056320570573,
          0.6959025439544206,
          -0.27980934658958984,
          -0.2872861196349527,
          -0.9587984609264631,
          0.7912138173232409,
          -0.5580216304945463,
          0.32195341377436,
          -0.9992835653006351,
          1.1387833513441046,
          -0.06314159761309644,
          2.3841083992334333,
          -0.42250647797954255,
          0.14770050948380153,
          -0.7873975916357433,
          1.5972703354522664,
          0.185698127260309,
          -0.05470971692641601,
          -0.9446911212554233,
          -0.12509111276131984,
          0.8069279638611442,
          1.0316265967171117,
          -1.5783867980335284,
          0.5162521306228575,
          0.5767763859122111,
          -1.0090121198718884,
          -1.8090914243425467,
          -1.7319927815026113,
          -0.6107096017931413,
          0.5337471978336304,
          0.15837754170176352,
          -0.5858094339204347,
          -1.218082457820898,
          -1.0092843092007937,
          -0.26199954235565587,
          0.32352293272866234,
          0.6197437080337299,
          1.167933932718143,
          -0.9442911677626381,
          1.395707855389854,
          0.12461649186264635,
          0.8289518029931594,
          -1.6738752209017846,
          0.3720159489587936,
          0.30510247923305006,
          1.6103996873171296,
          1.1461329784313876,
          -0.7260645419452902,
          -0.10653326122999522,
          -0.080369064994449,
          0.8491904640401002,
          -1.0631368641138828,
          -0.7736988838734121,
          -1.18166061024318,
          1.484937251848446,
          0.7357660702231058,
          -1.5046465667367643,
          -0.7380413661939903,
          0.8166006521460468,
          1.804311805954184,
          0.833762903685364,
          -0.259850807308014,
          -0.6920205457779725,
          -0.3368212926398146,
          -0.9419386982217046,
          0.7134582244131947,
          -0.011412790151132432,
          -0.4039987977880747,
          -1.4629393082183464,
          -0.5426832091595646,
          -0.29771527229723516,
          -2.1278172111114704,
          -0.370151547371728,
          -1.3991292913882387,
          2.4346593166552046,
          1.05084104408288,
          0.4593917315361887,
          -0.5620332153263892,
          -1.0301333610820955,
          -1.7755513952491688,
          0.38563841742101795,
          -0.7130190792711135,
          -1.6409234083222415,
          0.6685044717087423,
          -0.42317362380192874,
          -0.5627481168186866,
          0.8195759068912118,
          -0.47434333530193795,
          -0.011517167585940598,
          -0.9072762996968067,
          -0.5797539927525106,
          1.692551685373254,
          0.5577741696765529,
          0.07709125794995206,
          -0.9817004289911282,
          1.0247274256695083,
          -0.9152641587798693,
          -0.4287197773505538,
          -0.7192212157304241,
          1.0694867702239723,
          1.1642640420319783,
          -1.1218497335786266,
          0.37882831424618235,
          0.8927433257163007,
          -1.1230929425761629,
          0.38407455616775377,
          0.4546307695627062,
          -0.5165450076108444,
          0.8611600289081878,
          0.9174024205195054,
          0.3116367712868987,
          1.6494024617346583,
          -0.33178023877379864,
          -1.2237601542321201,
          -0.6495265722407517,
          0.597511482379678,
          0.7859156305060707,
          -0.6896785648264845,
          -1.1161212982253088,
          0.054614356563215664,
          -0.11032153583048544,
          1.2728841583542698,
          -0.36802838210389227,
          -1.621710808543876,
          0.11085277570162662,
          -1.1998738110383602,
          0.6608788303882835,
          1.1547907589610422,
          -0.3766417409093853,
          0.5168509243233578,
          -1.542528300539458,
          -0.2844584054060617,
          -1.2734091879658036,
          -0.9259892791158436,
          0.9818850033364812,
          0.6678974445638954,
          1.7154939647327523,
          -1.5106739274627285,
          -1.2903217838569965,
          1.082718311884849,
          0.12515218475816994,
          0.3889530910636787,
          -0.7267096440854884,
          0.2669023926147978,
          0.4051651580430089,
          1.168239307009589,
          0.9676521072137485,
          1.4123696507689754,
          -0.18205298305649337,
          -0.09588935223893622,
          -0.2900978387678494,
          0.9233632092756625,
          -1.0279278063877781,
          -0.5946726291409917,
          -2.883574748447354,
          -2.105637162042591,
          0.6024836488373336,
          -1.4337355703280092,
          0.8036107198918181,
          -0.07696095043790152,
          0.4988146466360324,
          -1.5201141702516872,
          -0.891303225129036,
          1.0649365705688048,
          -0.06921688015741585,
          -0.2812278017124063,
          -0.21012882238883282,
          1.7386337594155532,
          -0.7526264086554435,
          -1.4499088672248086,
          -0.6056424557740673,
          0.8058040168666835,
          -1.2513666019959542,
          0.42290264671627564,
          -0.6024739008617828,
          1.1197249593754903,
          -2.020782900595662,
          -0.1588083462389053,
          -1.0037518922260693,
          0.11493809308042298,
          0.40135903787118576,
          -0.9921453863556821,
          1.4640389214611953,
          1.6156803054771742,
          -0.721325532865226,
          1.9627786105942826,
          0.1272043262438452,
          0.3974498403716787,
          1.1355823806375476,
          0.31926323198780204,
          -0.5127532310000789,
          -0.36348567143448646,
          0.6169949688486361,
          1.2014378299274078,
          -1.7125183673630326,
          0.1395322214361833,
          0.29428677704799777,
          1.9376485035821651,
          0.3657766837663906,
          -0.7860662562244378,
          -0.9077422186295884,
          0.8361817202111009,
          -0.5442740149888521,
          -1.3066306797637885,
          0.06963494359802691,
          -1.0847865460849182,
          0.7077494351074797,
          -0.18505626622598398,
          0.43535501327722254,
          1.6104449396548313,
          -0.08353846569463963,
          0.7421492256739755,
          0.7622100870410594,
          -0.08933365833833311,
          0.115306077999254,
          1.1224261918495557,
          0.9955269618555447,
          0.7078128264754405,
          -0.9471317367069567,
          2.2868795815178773,
          -0.02078430234831131,
          -0.18280951374952248,
          0.5075150990350562,
          -0.757192814177122,
          0.7292854211431691,
          0.9049355234305725,
          -0.35316441784029806,
          -0.2923407838032063,
          -0.6547410009239037,
          -0.3873695257722573,
          -1.5293060786906174,
          2.7203355127864013,
          0.8542830631465272,
          0.35572117415413734,
          0.09426812818715712,
          -0.09176114528314001,
          -0.6139925204493933,
          -0.6312294251920264,
          -0.45647061250015325,
          0.20395834375463964,
          0.41069859378441603,
          -0.47186582886732265,
          -1.255244088981936,
          -0.7408439417896328,
          -1.3377969795594,
          -0.8087790607892944,
          1.8430465616293241,
          -0.7655120464746025,
          0.7500930431538172,
          -0.2558135511729199,
          0.31194729500025836,
          -0.34131352789638575,
          0.6996537510794797,
          -0.9530922068450789,
          0.1551822832923707,
          -0.7545721554131718,
          -0.6322998144097909,
          0.7740661036445835,
          -0.18639767251704403,
          1.0325383774526016,
          0.19106167846498207,
          -0.05437611803546914,
          -0.8060588531197811,
          1.0727893621047586,
          0.5025504510528145,
          1.887251505647972,
          0.8994597040847586,
          0.18902891923153084,
          0.42821548151062927,
          0.24587526325527134,
          -0.6555697758841276,
          0.3000002768902538,
          -0.5242643598948603,
          -1.2488251433588038,
          -1.5110227857156295,
          -1.0398484921646434,
          0.836378997365093,
          1.1506365157309233,
          -0.26931037954281056,
          1.1467647731873378,
          2.002080587551678,
          0.0993551860154977,
          -0.18776106653803495,
          -1.0087089263935975,
          2.2944732535428307,
          -0.797500385652564,
          0.10763143657669948,
          -0.3309059155014833,
          0.7139289379504363,
          -0.28035333197701506,
          0.5716463707939358,
          -1.0018851080159,
          0.5293641425305048,
          1.7021950083098567,
          0.4359726972209864,
          -0.11040696170416289,
          -0.02345807686911581,
          0.315377859815216,
          -0.060106964366097,
          -0.8114836360559892,
          -1.1324196539815463,
          0.2449445934323018,
          -1.8142035115413868,
          -0.12256928695449648,
          -1.1370569031179885,
          0.2390245490369186,
          -0.20320155747818122,
          0.15773729451985447,
          -1.5850217005279428,
          0.3261612779040463,
          0.96080291825265,
          -0.6815520951623311,
          -0.3814737429529414,
          1.333156091757825,
          0.4168089202658698,
          0.2504436972808289,
          0.06322262046862277,
          0.4792966045545307,
          0.5447855168561391,
          -0.06634926225041107,
          -0.6218664126322919,
          0.39542066339468473,
          -1.6384949257997081,
          1.9157195385512078,
          -0.5460997676179155,
          -0.1622474370006545,
          -0.9384940779454756,
          -0.7682769555342422,
          -0.738041216662198,
          0.6730259711442794,
          -0.18396760480144891,
          2.1701173595000562,
          -0.23992239979543917,
          -0.43095690001114373,
          0.09324756381837908,
          -0.9890863150139427,
          -0.04272591704679785,
          1.731441116841631,
          1.3991779119914447,
          -0.033188901081244525,
          0.22755569855409488,
          -0.247585746108814,
          -1.1991726138896137,
          0.13584151943282416,
          0.3020493648149599,
          0.7010492539051535,
          0.11973165252612994,
          -1.3110772912348438,
          -0.02307056192116317,
          0.9237401737456831,
          -0.4141240760080366,
          -1.2521059688322222,
          -1.4223774278153307,
          0.6367062204628546,
          -0.5495836741248664,
          -1.0088911607281879,
          1.2976397765760077,
          0.8631155356724716,
          -1.0988396463667631,
          -0.5851442689681232,
          2.014687063109378,
          2.353137359325043,
          -0.2084397266215228,
          -0.48111886136410753,
          -1.375614969479533,
          -0.7087651308900134,
          -0.19510111893182983,
          0.3792424091648791,
          0.26397124324624194,
          -0.7096081102905442,
          0.9478294423180826,
          -0.8268399147068426,
          0.12675614217443598,
          0.40081596233707245,
          -0.20651258952837,
          -0.44224325633631695,
          1.832741383986212,
          0.572588820060079,
          0.38772160795916305,
          0.8094279112041677,
          -0.3939661984823117,
          -0.9573374242603546,
          0.19911221159937031,
          -0.31259289426688597,
          -0.13968326830102762,
          0.3564559173602333,
          -0.7999809974779184,
          -0.2875807043341351,
          0.01618111200490782,
          -0.882737714190921,
          0.3481493097934065,
          -1.381038013555844,
          -1.172868915083091,
          -0.7392064023669447,
          0.3938256220721093,
          0.3799791080993848,
          -0.27918159286351535,
          1.004164586803789,
          -0.4595387470597796,
          1.0448812765382947,
          0.4458870712323783,
          -1.4016743121717177,
          -0.14863160688611302,
          1.6528880195916278,
          0.7157499752157848,
          1.8775158335902584,
          1.1761188633174233,
          0.11219419412900644,
          0.9073729782860096,
          -1.1037671298010339,
          0.20368614754381223,
          1.6095811056803793,
          0.4523023830023268,
          -0.19007525379977216,
          -0.6578849133345114,
          -0.02129410175550539,
          -1.0033740262630915,
          1.140582716065902,
          1.5307984973641915,
          -1.288736201522626,
          0.05051879121747112,
          0.12995329697916522,
          -0.2739201717987337,
          -0.18122117798583373,
          0.9546599960839158,
          -1.5673334294902528,
          -1.107748589364366,
          -0.6416868435964369,
          -1.139460566813619,
          0.12503975397652187,
          0.517224236175245,
          1.24891123162023,
          0.7269025441096856,
          0.5919805363221298,
          -0.6382864048346313,
          0.4170502748241066,
          -0.33357882076644535,
          1.6505967878215584,
          -0.48311993150710114,
          -0.8422518131211909,
          0.2582872467426903,
          0.20789852191077146,
          -0.07876474234695521,
          -1.553187813131691,
          -0.2743603513509873,
          -1.71897803923405,
          0.9446453831269058,
          0.38585583303297155,
          0.9769957084988989,
          0.9515482851820466,
          -0.38929743843731046,
          -0.7432838938960691,
          0.6272941769199596,
          -0.552317721101495,
          0.08159848166347168,
          -1.1192009204740758,
          -0.20605883109936254,
          -0.6076809682436309,
          0.7948937530993299,
          -1.8817165968585703,
          0.9062479145137378,
          -0.18951201711720975,
          1.0367080605447065,
          0.671177536608169,
          -1.193428956374479,
          0.6472468419582856,
          1.0377765995966082,
          -0.4996489618894568,
          0.651549576404251,
          0.3543578945864442,
          -0.5048492750629622,
          0.6005760500170365,
          1.5146072571464007,
          -0.8258380661338903,
          0.032496530447753455,
          -0.5265666020474102,
          -0.31230254581802813,
          0.7719082526566041,
          0.3055346008073545,
          1.4386046883573564,
          -1.4169714716261794,
          1.2730843044659752,
          -0.19439591041883378,
          -1.099360223098193,
          0.10114134843553417,
          -0.42954975782745675,
          0.3187772878204168,
          -0.015050282404552733,
          2.681495476913773,
          -0.10280276333757578,
          1.109082791396831,
          0.05594351260300496,
          -0.15874004522829027,
          -0.11948520406676309,
          -0.01937729923132056,
          0.16990328297911347,
          -1.2800800502093972,
          -0.06130380269540682,
          1.3479829310485671,
          -1.2673874444332975,
          0.5488278042202875,
          0.30792973570288606,
          -0.10668611366691244,
          0.3623948131764618,
          -1.6716046152297142,
          0.530021593075841,
          0.02796604192680557,
          -0.645490378270059,
          -0.659507791460163,
          -0.9567484738898718,
          -1.9413322925799776,
          0.20560529064430486,
          -1.506809807985206,
          -0.12464834279419953,
          -1.2799892057626914,
          -0.2738985469869768,
          0.23834416461247127,
          1.447819546155554,
          0.5496876623793484,
          1.1219663747280655,
          -0.33690813214822535,
          -0.8909574120538839,
          -1.7946896675212243,
          -1.0338840618718161,
          0.4061131292667254,
          -0.8787695404589564,
          -0.7820709663347236,
          -1.9191193829497726,
          1.1375066807732428,
          0.4913149581566959,
          -0.40894180285249443,
          0.16746588277325242,
          1.0615480309659415,
          -1.0435860548017115,
          -0.8958826059041486,
          0.7854526394067898,
          0.8124382574831569,
          0.7537325355926606,
          -2.657920765662952,
          0.6276324084151526,
          -0.3751313909072097,
          -0.323652890447722,
          1.4502778824130298,
          0.9660185102417563,
          -0.31375275079481924,
          1.824425357969168,
          1.3000311659804002,
          1.5339114956699442,
          0.9731066920633521,
          -2.874570485371906,
          0.9071332761086148,
          -0.9960028905063409,
          -0.6784269631457273,
          0.2712269099139735,
          0.9328213947737823,
          -0.0307108927314428,
          0.5376751162827658,
          0.038476298522188264,
          0.25003065925178136,
          -1.3808055886404924,
          0.08356820446310721,
          1.1974400869131536,
          -0.8566591919615201,
          -1.3708921562156506,
          -0.4837187919792182,
          -0.17812041404813936,
          -2.781398736935358,
          2.0429046159139608,
          -0.03416840133695081,
          0.24873580361367423,
          0.24802582712211652,
          0.9252418593279085,
          0.4241760517895068,
          -0.05019164868030176,
          -0.6221095334892675,
          0.9231452612031007,
          -0.6981444287072847,
          -0.06651374721156758,
          -0.7095885686940683,
          -0.9424681619467868,
          0.3094306899676078,
          0.6538669300558224,
          -1.9299286952352313,
          2.3784995960304216,
          0.47533621664928716,
          -0.7508659372538027,
          1.0090421672128538,
          -0.8607608581820627,
          -0.5032221846761846,
          0.16522075819334128,
          -0.9651437851622042,
          1.3154618939949752,
          -1.7435777400757886,
          0.17539385338704327,
          1.9693108863957638,
          0.23618979184213965,
          1.4133797349865571,
          0.6156768639326088,
          -0.10738976044954013,
          2.2598730331811323,
          0.8936716636331052,
          -0.6304298225231789,
          1.6249188021590657,
          -0.47433955940380707,
          -0.6887402707158294,
          0.5297313136013105,
          -1.0274091345770069,
          -0.34254717204317964,
          -0.536697914984539,
          -1.8945013598210194,
          -0.5862308392180068,
          -1.5862435620926834,
          0.4945713649399729,
          -0.6875308753032977,
          -1.4758908721917545,
          -0.5716494769392988,
          0.22062679640523686,
          0.8094219773315704,
          -1.455542609435611,
          -0.47862831029028513,
          1.2613905842628512,
          0.1579601131054833,
          0.33936783762498307,
          0.28368952820351623,
          -0.5592720901450222,
          1.8618422856348906,
          0.05960493092268313,
          1.110499337850546,
          -2.3857330095372533,
          -0.1992307625513192,
          0.10443054141424069,
          0.49439462774032217,
          0.9150839791417574,
          -1.5182518924122443,
          0.6271492396508315,
          0.9355820165534013,
          0.5937809749016131,
          0.906138393245295,
          -1.389435014752605,
          0.20430248678079937,
          -0.9622960707054629,
          -2.067909090172198,
          0.12453787644390635,
          -0.5180513122836454,
          -1.7376345771101227,
          0.686251988636021,
          0.2907096885672146,
          -0.9622348637723266,
          -1.0820507035418887,
          -0.2849098465914708,
          1.3516531904483469,
          -1.5654807410304468,
          0.8593291686503374,
          1.4617942623910807,
          -0.47999497758125054,
          0.34858575181018475,
          1.1550391570912146,
          2.0609407620361067,
          0.9382123902612401,
          -0.17364370418800834,
          -0.14371717732156514,
          0.14487673158136455,
          0.4495359102132007,
          0.3331193643626678,
          -0.6188564910174513,
          0.5514726502499936,
          0.6960924792205069,
          -1.6618303680158575,
          -0.16376621517101117,
          0.035838697349271614,
          1.1312787938930609,
          0.3840176088199881,
          -0.25870853193638516,
          2.2415515781916526,
          1.1694187525039899,
          -0.9075107299273539,
          1.245405603437443,
          1.13942807353434,
          1.7360510732813836,
          -1.3554249805220808,
          1.1467574470400372,
          -1.9308270832104093,
          -1.1008388874171269,
          1.3636268799512155,
          -1.0967435297964514,
          -1.7836287134894313,
          0.09500114492292974,
          -1.609275974645386,
          0.17462704821453714,
          -0.00946620509388734,
          -0.8035326260458645,
          1.2796628252361377,
          -0.932001754349904,
          -0.09708876793222129,
          -1.49644558166856,
          -0.3330982347353059,
          1.0202180523491924,
          -0.8259328605898836,
          0.35282484929340796,
          2.773626991097478,
          0.07695524069804946,
          -0.38620412206684884,
          1.1009075877229666,
          -0.4267589580851824,
          -0.10821697403613384,
          1.53106890547672,
          -0.0027156426671863265,
          0.0010177008232344531,
          0.03169599101428718,
          -0.557432494881207,
          -1.8815388705457932,
          1.0930081960076719,
          0.7427284530421617,
          -1.8746096229866342,
          0.9304100224522892,
          -0.13191537051218,
          -0.1073863256113016,
          -0.34997191619369994,
          -0.014193475337840052,
          -1.7246454276045253,
          -0.26984505709432577,
          0.7660157645435461,
          1.7693250015961635,
          -0.29969050007468767,
          0.9249375084988598,
          1.2111211151841879,
          0.09266352397912973,
          -0.04664355409862571,
          0.30394099751365405,
          0.1348168881733953,
          0.35296342290895183,
          -0.9925821338651197,
          -0.9085402289258756,
          -1.1655744026504808,
          0.9791860111598724,
          1.5731887235645283,
          1.632414326726557,
          1.4778601698531575,
          -0.4253967767793883,
          2.5945416096953,
          -0.2735138079162598,
          1.2310817075566278,
          -0.3395155350329443,
          -1.0793875783840365,
          -0.7429106374865981,
          0.6194614083417759,
          0.3343802594838144,
          1.6312434354254706,
          1.1857580550427378,
          -0.5966702517641688,
          -0.9506727669153705,
          0.2914085343623325,
          -0.13644769039123855,
          0.09431052099543376,
          0.7272318135968159,
          0.6736721270365426,
          0.35498715581263945,
          -0.9185899459255912,
          -0.3859599933407991,
          -0.3229869880322121,
          -2.21578733593836,
          -0.953980496382955,
          0.2528053044852109,
          0.19623489875324102,
          0.17552999639311737,
          0.5039022762448856,
          -0.06123974613278959,
          1.4989579660858312,
          0.5597023230220055,
          -3.0529550684607645,
          0.819442249396889,
          -0.3014677990432477,
          -0.056214635726838755,
          0.7855334130983506,
          2.1935036566425437,
          -0.10781812406111287,
          0.5023987084429602,
          0.5891063125180473,
          -0.008010593444513655,
          -0.036509643401714184,
          1.1435929052290787,
          -2.1844337854884714,
          -0.07374303552411877,
          0.028832618842737655,
          -1.5464352812382682,
          -1.2775592884826001,
          -1.1408603786005527,
          -1.4167536583422504,
          1.161503565275328,
          -0.6196037320906193,
          0.469342472692461,
          1.4882922973812,
          -0.6289922737593048,
          -0.3840238138790586,
          1.4671955874865652,
          1.2931768722623243,
          0.5736836530390391,
          1.0801328849427072,
          -0.8076819621171434,
          1.8261962391423758,
          0.9144630910282748,
          -1.6517238136865329,
          -1.638791905612053,
          0.8050367640604343,
          -0.0948817117662748,
          -0.547791435428239,
          0.1958632799005144,
          0.7165637860759578,
          1.8865824691191135,
          0.7886728402290162,
          0.6976263709369349,
          1.421972928211508,
          0.1486691027590734,
          -1.8211161755524357,
          -1.0768964485366996,
          -1.319937606433745,
          -0.6345366627833999,
          0.49948879493927784,
          -0.574133737548193,
          -0.7409177645865171,
          0.2818966333749436,
          -0.933885487900577,
          0.5039870652333114,
          -2.0561973385002092,
          -0.747675249884788,
          0.8426045023799287,
          -1.5699171983382827,
          -0.43150835704141893,
          -0.630572651922521,
          1.744711927002348,
          -1.4764398187669117,
          0.7530285266672888,
          1.0515525730319026,
          0.5438322270271088,
          -0.15799329623971012,
          -0.5851397507782756,
          -0.8300090427624947,
          0.3896758548069034,
          0.5625312479240293,
          0.05122813107411288,
          0.2793928598091479,
          1.0376243822490727,
          0.3325915442074277,
          -1.7106200482195362,
          -0.7031638517221144,
          -1.6320758764449834,
          -0.44522755101857564,
          -1.3836095264229873,
          -1.2425440102959955,
          1.3723990985617054,
          0.5095564203533781,
          0.8971446543943802,
          0.4384224274366139,
          1.2899727372620808,
          0.3449909477602538,
          -0.5313658757204991,
          0.6634003510995117,
          0.26262433518593,
          -1.5468632024674862,
          1.0020415243117873,
          0.22488382358098968,
          0.049307235939333255,
          -0.9507027020824096,
          -0.16577062908708246,
          0.5517449329547393,
          -0.21842987603337297,
          -0.0020521203098424244,
          -0.15686553503560835,
          0.7279580868647356,
          -0.6207466720279533,
          -0.9600373478267323,
          -1.4315431119471693,
          -0.9955166677743429,
          0.9419974409338231,
          -0.44198696260683507,
          -0.9649797973928667
         ]
        }
       ],
       "layout": {
        "template": {
         "data": {
          "bar": [
           {
            "error_x": {
             "color": "#2a3f5f"
            },
            "error_y": {
             "color": "#2a3f5f"
            },
            "marker": {
             "line": {
              "color": "#E5ECF6",
              "width": 0.5
             }
            },
            "type": "bar"
           }
          ],
          "barpolar": [
           {
            "marker": {
             "line": {
              "color": "#E5ECF6",
              "width": 0.5
             }
            },
            "type": "barpolar"
           }
          ],
          "carpet": [
           {
            "aaxis": {
             "endlinecolor": "#2a3f5f",
             "gridcolor": "white",
             "linecolor": "white",
             "minorgridcolor": "white",
             "startlinecolor": "#2a3f5f"
            },
            "baxis": {
             "endlinecolor": "#2a3f5f",
             "gridcolor": "white",
             "linecolor": "white",
             "minorgridcolor": "white",
             "startlinecolor": "#2a3f5f"
            },
            "type": "carpet"
           }
          ],
          "choropleth": [
           {
            "colorbar": {
             "outlinewidth": 0,
             "ticks": ""
            },
            "type": "choropleth"
           }
          ],
          "contour": [
           {
            "colorbar": {
             "outlinewidth": 0,
             "ticks": ""
            },
            "colorscale": [
             [
              0,
              "#0d0887"
             ],
             [
              0.1111111111111111,
              "#46039f"
             ],
             [
              0.2222222222222222,
              "#7201a8"
             ],
             [
              0.3333333333333333,
              "#9c179e"
             ],
             [
              0.4444444444444444,
              "#bd3786"
             ],
             [
              0.5555555555555556,
              "#d8576b"
             ],
             [
              0.6666666666666666,
              "#ed7953"
             ],
             [
              0.7777777777777778,
              "#fb9f3a"
             ],
             [
              0.8888888888888888,
              "#fdca26"
             ],
             [
              1,
              "#f0f921"
             ]
            ],
            "type": "contour"
           }
          ],
          "contourcarpet": [
           {
            "colorbar": {
             "outlinewidth": 0,
             "ticks": ""
            },
            "type": "contourcarpet"
           }
          ],
          "heatmap": [
           {
            "colorbar": {
             "outlinewidth": 0,
             "ticks": ""
            },
            "colorscale": [
             [
              0,
              "#0d0887"
             ],
             [
              0.1111111111111111,
              "#46039f"
             ],
             [
              0.2222222222222222,
              "#7201a8"
             ],
             [
              0.3333333333333333,
              "#9c179e"
             ],
             [
              0.4444444444444444,
              "#bd3786"
             ],
             [
              0.5555555555555556,
              "#d8576b"
             ],
             [
              0.6666666666666666,
              "#ed7953"
             ],
             [
              0.7777777777777778,
              "#fb9f3a"
             ],
             [
              0.8888888888888888,
              "#fdca26"
             ],
             [
              1,
              "#f0f921"
             ]
            ],
            "type": "heatmap"
           }
          ],
          "heatmapgl": [
           {
            "colorbar": {
             "outlinewidth": 0,
             "ticks": ""
            },
            "colorscale": [
             [
              0,
              "#0d0887"
             ],
             [
              0.1111111111111111,
              "#46039f"
             ],
             [
              0.2222222222222222,
              "#7201a8"
             ],
             [
              0.3333333333333333,
              "#9c179e"
             ],
             [
              0.4444444444444444,
              "#bd3786"
             ],
             [
              0.5555555555555556,
              "#d8576b"
             ],
             [
              0.6666666666666666,
              "#ed7953"
             ],
             [
              0.7777777777777778,
              "#fb9f3a"
             ],
             [
              0.8888888888888888,
              "#fdca26"
             ],
             [
              1,
              "#f0f921"
             ]
            ],
            "type": "heatmapgl"
           }
          ],
          "histogram": [
           {
            "marker": {
             "colorbar": {
              "outlinewidth": 0,
              "ticks": ""
             }
            },
            "type": "histogram"
           }
          ],
          "histogram2d": [
           {
            "colorbar": {
             "outlinewidth": 0,
             "ticks": ""
            },
            "colorscale": [
             [
              0,
              "#0d0887"
             ],
             [
              0.1111111111111111,
              "#46039f"
             ],
             [
              0.2222222222222222,
              "#7201a8"
             ],
             [
              0.3333333333333333,
              "#9c179e"
             ],
             [
              0.4444444444444444,
              "#bd3786"
             ],
             [
              0.5555555555555556,
              "#d8576b"
             ],
             [
              0.6666666666666666,
              "#ed7953"
             ],
             [
              0.7777777777777778,
              "#fb9f3a"
             ],
             [
              0.8888888888888888,
              "#fdca26"
             ],
             [
              1,
              "#f0f921"
             ]
            ],
            "type": "histogram2d"
           }
          ],
          "histogram2dcontour": [
           {
            "colorbar": {
             "outlinewidth": 0,
             "ticks": ""
            },
            "colorscale": [
             [
              0,
              "#0d0887"
             ],
             [
              0.1111111111111111,
              "#46039f"
             ],
             [
              0.2222222222222222,
              "#7201a8"
             ],
             [
              0.3333333333333333,
              "#9c179e"
             ],
             [
              0.4444444444444444,
              "#bd3786"
             ],
             [
              0.5555555555555556,
              "#d8576b"
             ],
             [
              0.6666666666666666,
              "#ed7953"
             ],
             [
              0.7777777777777778,
              "#fb9f3a"
             ],
             [
              0.8888888888888888,
              "#fdca26"
             ],
             [
              1,
              "#f0f921"
             ]
            ],
            "type": "histogram2dcontour"
           }
          ],
          "mesh3d": [
           {
            "colorbar": {
             "outlinewidth": 0,
             "ticks": ""
            },
            "type": "mesh3d"
           }
          ],
          "parcoords": [
           {
            "line": {
             "colorbar": {
              "outlinewidth": 0,
              "ticks": ""
             }
            },
            "type": "parcoords"
           }
          ],
          "pie": [
           {
            "automargin": true,
            "type": "pie"
           }
          ],
          "scatter": [
           {
            "marker": {
             "colorbar": {
              "outlinewidth": 0,
              "ticks": ""
             }
            },
            "type": "scatter"
           }
          ],
          "scatter3d": [
           {
            "line": {
             "colorbar": {
              "outlinewidth": 0,
              "ticks": ""
             }
            },
            "marker": {
             "colorbar": {
              "outlinewidth": 0,
              "ticks": ""
             }
            },
            "type": "scatter3d"
           }
          ],
          "scattercarpet": [
           {
            "marker": {
             "colorbar": {
              "outlinewidth": 0,
              "ticks": ""
             }
            },
            "type": "scattercarpet"
           }
          ],
          "scattergeo": [
           {
            "marker": {
             "colorbar": {
              "outlinewidth": 0,
              "ticks": ""
             }
            },
            "type": "scattergeo"
           }
          ],
          "scattergl": [
           {
            "marker": {
             "colorbar": {
              "outlinewidth": 0,
              "ticks": ""
             }
            },
            "type": "scattergl"
           }
          ],
          "scattermapbox": [
           {
            "marker": {
             "colorbar": {
              "outlinewidth": 0,
              "ticks": ""
             }
            },
            "type": "scattermapbox"
           }
          ],
          "scatterpolar": [
           {
            "marker": {
             "colorbar": {
              "outlinewidth": 0,
              "ticks": ""
             }
            },
            "type": "scatterpolar"
           }
          ],
          "scatterpolargl": [
           {
            "marker": {
             "colorbar": {
              "outlinewidth": 0,
              "ticks": ""
             }
            },
            "type": "scatterpolargl"
           }
          ],
          "scatterternary": [
           {
            "marker": {
             "colorbar": {
              "outlinewidth": 0,
              "ticks": ""
             }
            },
            "type": "scatterternary"
           }
          ],
          "surface": [
           {
            "colorbar": {
             "outlinewidth": 0,
             "ticks": ""
            },
            "colorscale": [
             [
              0,
              "#0d0887"
             ],
             [
              0.1111111111111111,
              "#46039f"
             ],
             [
              0.2222222222222222,
              "#7201a8"
             ],
             [
              0.3333333333333333,
              "#9c179e"
             ],
             [
              0.4444444444444444,
              "#bd3786"
             ],
             [
              0.5555555555555556,
              "#d8576b"
             ],
             [
              0.6666666666666666,
              "#ed7953"
             ],
             [
              0.7777777777777778,
              "#fb9f3a"
             ],
             [
              0.8888888888888888,
              "#fdca26"
             ],
             [
              1,
              "#f0f921"
             ]
            ],
            "type": "surface"
           }
          ],
          "table": [
           {
            "cells": {
             "fill": {
              "color": "#EBF0F8"
             },
             "line": {
              "color": "white"
             }
            },
            "header": {
             "fill": {
              "color": "#C8D4E3"
             },
             "line": {
              "color": "white"
             }
            },
            "type": "table"
           }
          ]
         },
         "layout": {
          "annotationdefaults": {
           "arrowcolor": "#2a3f5f",
           "arrowhead": 0,
           "arrowwidth": 1
          },
          "coloraxis": {
           "colorbar": {
            "outlinewidth": 0,
            "ticks": ""
           }
          },
          "colorscale": {
           "diverging": [
            [
             0,
             "#8e0152"
            ],
            [
             0.1,
             "#c51b7d"
            ],
            [
             0.2,
             "#de77ae"
            ],
            [
             0.3,
             "#f1b6da"
            ],
            [
             0.4,
             "#fde0ef"
            ],
            [
             0.5,
             "#f7f7f7"
            ],
            [
             0.6,
             "#e6f5d0"
            ],
            [
             0.7,
             "#b8e186"
            ],
            [
             0.8,
             "#7fbc41"
            ],
            [
             0.9,
             "#4d9221"
            ],
            [
             1,
             "#276419"
            ]
           ],
           "sequential": [
            [
             0,
             "#0d0887"
            ],
            [
             0.1111111111111111,
             "#46039f"
            ],
            [
             0.2222222222222222,
             "#7201a8"
            ],
            [
             0.3333333333333333,
             "#9c179e"
            ],
            [
             0.4444444444444444,
             "#bd3786"
            ],
            [
             0.5555555555555556,
             "#d8576b"
            ],
            [
             0.6666666666666666,
             "#ed7953"
            ],
            [
             0.7777777777777778,
             "#fb9f3a"
            ],
            [
             0.8888888888888888,
             "#fdca26"
            ],
            [
             1,
             "#f0f921"
            ]
           ],
           "sequentialminus": [
            [
             0,
             "#0d0887"
            ],
            [
             0.1111111111111111,
             "#46039f"
            ],
            [
             0.2222222222222222,
             "#7201a8"
            ],
            [
             0.3333333333333333,
             "#9c179e"
            ],
            [
             0.4444444444444444,
             "#bd3786"
            ],
            [
             0.5555555555555556,
             "#d8576b"
            ],
            [
             0.6666666666666666,
             "#ed7953"
            ],
            [
             0.7777777777777778,
             "#fb9f3a"
            ],
            [
             0.8888888888888888,
             "#fdca26"
            ],
            [
             1,
             "#f0f921"
            ]
           ]
          },
          "colorway": [
           "#636efa",
           "#EF553B",
           "#00cc96",
           "#ab63fa",
           "#FFA15A",
           "#19d3f3",
           "#FF6692",
           "#B6E880",
           "#FF97FF",
           "#FECB52"
          ],
          "font": {
           "color": "#2a3f5f"
          },
          "geo": {
           "bgcolor": "white",
           "lakecolor": "white",
           "landcolor": "#E5ECF6",
           "showlakes": true,
           "showland": true,
           "subunitcolor": "white"
          },
          "hoverlabel": {
           "align": "left"
          },
          "hovermode": "closest",
          "mapbox": {
           "style": "light"
          },
          "paper_bgcolor": "white",
          "plot_bgcolor": "#E5ECF6",
          "polar": {
           "angularaxis": {
            "gridcolor": "white",
            "linecolor": "white",
            "ticks": ""
           },
           "bgcolor": "#E5ECF6",
           "radialaxis": {
            "gridcolor": "white",
            "linecolor": "white",
            "ticks": ""
           }
          },
          "scene": {
           "xaxis": {
            "backgroundcolor": "#E5ECF6",
            "gridcolor": "white",
            "gridwidth": 2,
            "linecolor": "white",
            "showbackground": true,
            "ticks": "",
            "zerolinecolor": "white"
           },
           "yaxis": {
            "backgroundcolor": "#E5ECF6",
            "gridcolor": "white",
            "gridwidth": 2,
            "linecolor": "white",
            "showbackground": true,
            "ticks": "",
            "zerolinecolor": "white"
           },
           "zaxis": {
            "backgroundcolor": "#E5ECF6",
            "gridcolor": "white",
            "gridwidth": 2,
            "linecolor": "white",
            "showbackground": true,
            "ticks": "",
            "zerolinecolor": "white"
           }
          },
          "shapedefaults": {
           "line": {
            "color": "#2a3f5f"
           }
          },
          "ternary": {
           "aaxis": {
            "gridcolor": "white",
            "linecolor": "white",
            "ticks": ""
           },
           "baxis": {
            "gridcolor": "white",
            "linecolor": "white",
            "ticks": ""
           },
           "bgcolor": "#E5ECF6",
           "caxis": {
            "gridcolor": "white",
            "linecolor": "white",
            "ticks": ""
           }
          },
          "title": {
           "x": 0.05
          },
          "xaxis": {
           "automargin": true,
           "gridcolor": "white",
           "linecolor": "white",
           "ticks": "",
           "title": {
            "standoff": 15
           },
           "zerolinecolor": "white",
           "zerolinewidth": 2
          },
          "yaxis": {
           "automargin": true,
           "gridcolor": "white",
           "linecolor": "white",
           "ticks": "",
           "title": {
            "standoff": 15
           },
           "zerolinecolor": "white",
           "zerolinewidth": 2
          }
         }
        }
       }
      },
      "text/html": [
       "<div>\n",
       "        \n",
       "        \n",
       "            <div id=\"5e3a83d9-a419-4e81-8337-3d3d7394ea6f\" class=\"plotly-graph-div\" style=\"height:525px; width:100%;\"></div>\n",
       "            <script type=\"text/javascript\">\n",
       "                require([\"plotly\"], function(Plotly) {\n",
       "                    window.PLOTLYENV=window.PLOTLYENV || {};\n",
       "                    \n",
       "                if (document.getElementById(\"5e3a83d9-a419-4e81-8337-3d3d7394ea6f\")) {\n",
       "                    Plotly.newPlot(\n",
       "                        '5e3a83d9-a419-4e81-8337-3d3d7394ea6f',\n",
       "                        [{\"contours\": {\"coloring\": \"heatmap\"}, \"type\": \"histogram2dcontour\", \"x\": [-0.11668520430699936, 0.28114985509455953, 2.141732302495992, 0.8050449418391316, 0.9660938331347882, -0.4680208113455857, -0.7702456058441128, -1.3055409365303867, 0.2267617631996307, 0.23142298799176483, 1.2553577457176095, 0.32659627316993406, -0.2723193590900558, 0.21861544879063502, 1.9854099849376692, 0.08058572822817651, -0.5613980988056358, 0.8604244050444544, 0.22068533443470822, -0.2008813920665665, 0.7139400787416235, 0.8636300108320514, -0.33846527796799386, 0.929826186537145, -0.1877505342827068, 0.34666749746176695, -1.559308020118623, 0.688696553509982, -0.4177635286869492, -0.04317290460357892, 0.9619454214912048, -1.240878647570688, 0.09856399757120457, -0.8777799095970757, 0.081158399177324, 1.1169218210408534, -0.6587901238806898, 1.7290420670976276, -0.007258433629643221, 1.6837670830284195, 0.38613668955572245, -0.49237681966488195, -0.587681554554024, -1.3636041614080086, -1.132215995144143, -0.5437291759819399, -0.952653387436774, -1.1645569052468776, -0.722406014715672, 0.20779680946126605, 0.249601463402177, -0.5104390898164957, 1.4707883593229036, -0.8491651302531048, 0.2997309894900759, 0.7574703658978843, -0.4280534844787833, 0.9251445737329083, 1.0498736098639276, 0.04263083367725875, 0.4150128257408184, -2.190163848841193, 1.0574257634662245, -0.61195260975283, 1.1553419181063305, -0.5659115073344826, -0.06880483318792095, -1.411719790430665, 0.843061762893499, 0.43250002671130644, 0.48420892128757276, -1.882591811773587, 1.2800697063657598, -0.697462188550717, -0.981079729467515, -0.401050011791041, -0.6194648177391373, -0.5096605694989095, -1.2907096621097145, 0.9317247979448758, 1.0331713188626008, 0.48019522756213606, 0.19275782504456893, 0.2951611720273816, -0.6201992086015465, -1.4919652362323166, -1.5290607648267147, 0.6597599896177384, -1.5200128166407105, -0.9722864287062042, 0.34574309333416037, 0.6061376044481455, -0.9072854241495643, 0.7301927469510929, 0.1359323447395817, -1.0958890655584934, 0.3369163348934946, -1.396629006631378, -0.1382341217783965, -0.1331078256605258, -0.39466720551919243, -0.7996135019134316, -0.030444875914156247, -0.07147694122348883, 1.94075302964663, 0.13664365027155362, 0.18591388978447737, 0.7222805471022237, -1.0280235680299394, -0.625023036159365, 1.803984553000245, -1.5173040166503435, 2.762590171178497, 0.7314743403470914, -0.372116168327445, 1.5639795257807991, -0.6241193649210319, -0.736156569489761, -0.15601328044953272, 0.09812092305772288, -0.09842739384832772, 0.1414304184249993, 0.9270765946544521, 1.7452155993161733, 1.979308075566231, -0.9996201967116604, 1.8249542524940356, -0.8487517355332825, -0.737479417314618, 0.23546216739226, 0.3159309088857444, -1.37354576192921, 0.29721703062635096, -0.04508797709493305, 3.2487991437514765, -0.22014266830379833, -0.38238002102028146, -0.3150519151315587, -1.6076585445122888, -1.5001558567091686, -0.7043828750849094, -1.8149745233841574, 1.090235919100353, -0.46356053417628346, 0.6295376788130583, 3.4223495613587116, -0.03083766032262226, -0.7903320648753264, -0.6749652170258721, -0.9003306579695641, 0.08319275694200622, -0.5937234091498991, -0.04957471573487277, 0.09626655642945633, 1.3042932844743829, 1.9641913239712456, -0.2655456310819451, -0.7387569575628072, -0.37718246180868115, 0.089131241310899, 0.24456621171427928, 0.40849030294799826, -0.745701969022886, 1.3794996098873096, 1.031311517282731, -0.16914055235219164, -1.3373707806483366, 1.3777486715151857, 0.07361344876382855, -0.33706001881188075, -0.6896577528234585, -0.3096777809606802, -1.0093509310042077, 1.5006256291611433, -0.7286183641842195, 0.8052331076387605, -1.30564646882133, 0.8320709246283388, -0.34829653136619004, -0.25827375581882095, -2.551528327029098, 0.7003510559352545, 0.06785880196689524, -0.15072393043470106, -0.4105559859705106, -0.878926638783265, 1.1113889842896096, -1.0178983000315387, -1.0079532723042632, -0.4807458464944863, -1.2841334253761127, 0.4389465099432875, -1.2150877034664402, 0.3078620420772772, 0.09222814313844273, 0.4766119378751059, -0.17765941197421536, 2.0690051375042047, 0.3654906048618975, -0.0049465167413011634, 0.7451835360491064, -0.0847318111396537, 0.14390059987645917, -0.15104002495520139, 0.32707824969384375, 0.8417544456038785, 0.9861848067661712, -1.5392940646652458, -1.3991170729833373, 1.1096710055527357, -0.02881108785362069, 1.3451971625291719, -0.7940760014409664, 0.29248579030615757, -1.0214778530389623, -0.6420617910890868, -1.1850310721402324, -1.8330095453718396, 0.6108982489975459, 0.9396452086576239, -1.637887113627679, 0.8415424044484622, -0.6576859772267573, -1.2540869744894223, -1.4787034990531553, -0.21388009250781845, -0.5192371715105271, 1.5279957956299697, -0.3558653667906838, 0.2918596930904747, -0.9460573151145908, -0.9568732819871831, -0.396838329749804, 0.7365086181848505, 0.00906020634848801, -0.29126020519766804, 1.395089851510806, -0.33327089860570597, 1.0181958434836078, -1.140218700997623, 0.4600646439993672, 0.012872748942528246, -1.1777410967681257, -0.3519693191133683, -1.697183799502976, -1.7514264882462902, 0.12520906821464026, 0.2414888570337322, 0.4405327691023473, -1.115608227672228, 0.6409437825785709, -0.3196514066361583, 0.2725241127886879, 0.37525467623633924, 0.7371701949943457, 1.2697321520487816, 0.586540805650319, -0.7262183485283399, 0.11649559329242373, 0.9448979488864304, 1.0637774461560325, -0.5998012146814825, -0.5672495737148827, -1.3726884403340027, -0.876181466110087, -0.8504963557566758, 0.3275942692552157, 0.7685608598178317, 0.59744602998601, -0.1398015377603036, -0.34506739788082225, -0.5594619353119906, -2.570599486124083, -1.436845421579838, -0.812751909548878, 0.7809797928685179, -0.1970098246551254, -1.3858438126716228, 0.09627659501170069, -0.1618810915739761, -0.2235609003775461, 0.2740602335256188, 0.1355841554611881, 0.24767091843885064, 1.0942216271348184, 1.3125027554022741, -0.5389599030763319, -0.7747619787689394, -0.2595188612571572, 0.3541356594984613, -0.792924488826532, -2.021142455293396, -2.0857081416020042, 2.4486597928522826, -1.109393630237955, 1.851300058962788, 0.26396613423674214, 0.5931020155373363, 0.19952571913457806, 0.7389845133587702, -0.3875194824219592, 2.090937612651161, -1.814416787399861, -0.32814500668620816, -0.5270124767921621, -0.40751023035509915, 1.0362829966205476, -0.02486141904389148, 0.5601484425722517, 0.26304422839817243, 0.47670784204792993, 0.4292732100854563, 0.43233069227345994, -0.4458690582188791, 0.8133393555509485, 0.9429732260413101, 1.3219461892700781, -0.7869670107696634, 0.2850209650441062, -0.9548468336778192, -0.8906610814552076, 1.2555395531246378, 0.7714623047685681, 1.5746361959293538, -0.40318804874714886, 1.734744491289949, -0.060778572545505, -0.13896026487763452, 0.5587209844394798, -0.9075174851006623, 0.6021895509314733, -1.3691228366598618, 0.6612478025565057, -0.22674661607062005, 0.9536766893203557, -0.16572098642280675, -1.8086859323180222, 0.7190476718365459, -1.0537960096646812, 0.22436504161901621, 0.06215193474774546, 0.7031370321973202, 1.6766012793683944, 0.9502855065298056, -0.21173922071996623, -0.14273435520020095, 0.21013264114220828, -0.005995678779994012, 0.14518483574813748, -0.8046897028205046, 0.7262621777235763, -0.14992858799677464, -0.08491366292118399, -1.670428771320828, 0.6297334057506572, 0.9617320784979811, -0.6127383193129412, 0.9013022670769121, -0.9916345508520819, 0.12031065380151591, 1.201839454548871, -0.1172239444685763, -0.5379486400209363, 1.2993894671352626, -0.5973636904103533, -1.3687211658909388, 0.27207528670714903, 1.0714816539942096, 0.8729008845609447, -0.2647411485761244, -0.22190873144298667, 1.0350397978782018, 0.6366439215179596, 0.17168984380864827, -0.9498345978052216, 0.46513342514282263, -0.9581212592502721, -0.45565652442260113, -1.2101982294880758, -1.0913930091324537, -1.9140455604767534, 0.9076217424038896, 1.8927431317431558, -0.36050776532332274, 0.4138441859986633, -0.9803818283611893, 0.07300123644660446, 0.7560982213962767, -0.5167255130126871, 0.1641380873275745, 0.500327262306746, 0.9748364065393317, 0.09941410543826552, 0.21353467956354846, 1.2217089223640634, -0.5403506439473517, -0.49868870565902507, 0.6614186429414618, 1.2818179433052628, -1.3202949464607692, 1.692338832947553, -1.7259269240996753, -1.3846591018729093, 0.5387914520794658, -0.38984186980902075, 0.8391628522377155, -0.33400488145401036, -1.0307151684384055, -0.5991653633676436, 1.0033262383597006, 1.705239657241401, 0.9893643886723051, -0.5569018568433549, -1.4300114423987522, -1.026414356375179, -0.799441215968688, -1.9944244951526673, -0.24198517879887146, -2.4413885117405463, -1.046433336250817, 0.7052134407832157, 1.065766235853285, -0.29648519318851585, -1.3174349995028718, 0.49293925632428043, -1.0392679628092722, 1.8312919121286837, 0.9001110491468105, 0.238179430956681, 0.8678003269116039, -0.34707960886121203, 0.42439490435256755, 0.10484301379316999, -1.7122157079681153, 0.1313436999281192, -1.0148572038454013, -0.16924929661578367, 1.5239654585037405, -0.33137445489111356, -0.08473521764847428, -0.5751818373643364, -1.1029977346578077, -0.4132539763230744, 1.2724090990163663, 0.14513397597735472, 0.29559530339689566, 0.04442181646281691, 0.7449162798476467, -0.4049687704962119, -0.40074769601393695, -3.5361958087829604, 1.6680448816940368, 1.2488349890123904, -1.3400041360050974, -1.183822897834661, 0.44237188693726726, -0.5072485684061995, 1.7637478309396575, -0.6460084048567577, -0.4502929568540483, -0.6295146915816806, -0.5448728702490712, 0.6907632990680224, 0.486962941370256, -1.8565156665156364, -1.7243187267617373, 0.7231898953608323, 1.1234802816353382, 0.2822637111275641, 2.0541455929190344, 0.9434577222577512, -0.08231170564137777, -0.23631695052528925, -0.9937031564751978, -0.4382788073192429, 1.0676582815247715, 0.058200930963931696, -1.0016956833517479, -0.9765053079900905, -1.2224259816193306, -0.2115046846387346, 0.0743836989047711, 2.0182097513230333, 0.72640683962873, -0.7671721561009133, -0.9699490072575289, 1.6099031117510363, 0.553720219436343, 0.7600455622463729, 0.334694704521409, 0.3559519015791648, 1.5245753268985471, 1.5793515972852004, -0.9671253049544245, 0.6815838285036903, 0.9683911861402504, -1.2819400425569552, -0.47136303218690134, 1.6129410934620743, 1.3483937616363717, 0.831672305391452, -0.424014892884299, 1.418160375504967, -0.8296672757795027, 0.981053246144314, -0.6851918899761245, -1.6664837965236308, 2.535121635603761, 1.9419523401777408, 0.6459334481117409, -0.29804266317901645, -0.0915166236227492, 1.2470669657128142, 0.6524516910991167, -1.0702732289068166, -0.3632255011155572, -0.08089853033482237, 0.18762692546000972, 1.8148142543166783, 0.8920964508282802, 1.421461773141373, -1.5975599196313868, -0.4723154758157159, 1.4112498015643697, 0.8325811912270725, 0.06612438392403149, 0.8216243287486039, 1.1425787245538053, 1.552225057465114, 0.2711516595689923, -0.42882864824938727, 0.31989548894842645, 0.7606250178401229, -0.1476661887824189, -0.23710852751867523, 0.03910435005697789, 1.3527297771248765, 1.4463109534116732, -0.21806607168037692, 0.795011570567343, -0.11525420631456675, 0.39836998328467654, -0.17562489062444636, 1.5948299688466332, 0.9793824094536226, -0.06491202374173906, -0.6225385248501484, 1.682632143879958, -0.2830835997741711, 1.2654773308692306, 0.2829003260165046, -0.05287380259696991, 1.790504266746392, 0.5756248369463336, 0.3038484276300826, 1.5067766511871608, 0.004484831818133069, 0.00895096614528765, 0.07967287027884633, 0.7440605830371138, 1.0709216740069765, -0.902069402344169, -0.8402853991828139, 0.482310429473891, 1.7090132990688278, 0.35103490143623683, -0.674061960649398, -1.891700416720724, 0.14769507344678562, 1.85924166204926, -0.0005832260324343469, -0.3775377801040655, 0.553399584440753, 0.11350409223110373, -0.45239696280841424, 0.166446156394466, 1.5574954029021366, -0.11019457577826777, 0.23829367509885946, 0.4660183413210094, 1.2972949327913779, -0.9300260714954957, -0.10711608587467569, -0.5630888769070788, -1.371633580703867, 0.7616476831713052, -0.29965787333332733, 0.40693150493009295, -1.5540192722499642, 1.0634254696509473, 0.8789527157772656, 0.49415781448751966, -0.1502285595064293, -2.0631273057686346, 0.33083129628633995, 0.4274555975464478, 0.45005544263272235, 1.2184640299549943, -1.2861144691501134, -0.45535320825548736, 0.9003669657089275, -1.065087481196316, 0.7305266027813424, 2.1933582712765336, -0.2474656310110763, -0.35386583701338975, -0.5773801315230962, 1.6215423740150008, -0.3647027581747204, 0.19689641200388633, -0.7960072233212832, -0.258340336116605, -0.9353240035737125, 0.4186374980536922, -2.146502442547401, -0.8167525151972188, -0.4648327812248712, -1.5026962910636543, -0.43412640554086873, 0.17231235115676133, 1.5160147668171433, -0.7283338464642796, 1.715363109613839, -0.2086251895642528, 1.2890824022364713, -1.3544391370991846, -0.020982575576404542, 0.5342701222621767, 0.6187459191248742, -0.5241358241377374, -0.585025800478734, 0.33644721383563614, 0.39448891452058654, 0.08530038561443101, 0.7328735861368472, 0.40774284274701145, -1.265183427484207, -0.8840512034628839, 0.24297482888024421, -0.17100546553365278, -1.2117714158133936, -1.146944267793555, 1.4853867487525927, -0.021939133298247124, 2.4533780052658423, 0.05874347008175995, -0.22642834478928722, -1.0701421107311502, -0.579327317742555, 0.5750655610955878, -1.2349354368159096, 0.9382941330565411, -1.8375200500888929, -0.028151910678517075, -0.6194906825474203, -1.4380880086534686, 0.565622281493338, -1.3311210657350327, 0.9940459266843688, 3.66360200064417, 0.39831707132593297, 1.1151009183378948, 0.32570897704704693, -1.0294254759650177, 0.3164155915208115, -0.5037459275434002, 2.386109508019851, 0.944988941238188, 0.7879751522654214, 2.5148944404890465, -1.4963160117942158, 0.5701246328261691, 0.5028978882567858, 0.4409298630547711, 1.1498872459019205, -0.15226305990131975, -0.9840182761041488, 0.9411684593113986, 0.10893792966656686, 0.22701337923508108, -0.18142298163283876, -0.05504846756039171, 1.4062903653598935, 0.1388012887411676, -1.1203863848700417, 0.465121234292209, -0.0492257693965807, -0.7900606397030334, 0.10348223676902991, -1.0881764042890334, -1.1079840341827971, -0.47848259023736994, -1.4289553825664394, 0.5221673769184573, 0.09753413309496774, -1.2538112060522584, 2.4123095062025364, 0.6594487563179732, -0.10984079335054572, 1.4807548528626795, 0.20216987363809802, -0.12244695874206116, -0.37380139472692303, 0.12323053404076299, 0.708750071976844, -1.8023854802960018, -0.396746684132692, 0.14827708099627407, -0.9861032153810264, -1.0339967723642944, -0.4293864274806201, -0.7603527364640924, 0.6598638589269958, 1.334181365917539, 0.12266424180354092, -0.35106408517321336, -0.8675627429052688, 0.4248633918327947, -1.7567746098637271, -0.8874265220728691, 1.8815325002365755, 0.220834436305704, -0.1355786629231636, -1.374785038912805, 0.9472236987640485, -1.0906692595783243, -0.8823590348571503, -1.7489266381580524, 0.763547767541532, 0.45988137163941606, -2.7996139058402805, 0.25027782122963976, -1.7013149119519093, 0.19472231337983886, 2.1555254527227374, -0.7311739122555901, 0.04827419081539815, 0.7986737453702419, -1.8526365144151162, -0.6552944296847696, 0.4370034894423061, 0.5640396793441018, 0.7467257293275213, -0.1710628031248373, 1.1942540015219991, 1.4169308665791969, 0.5837345771969021, -0.5942195894696252, 0.9126217056621083, -0.705764483835352, 0.7317257247217114, -0.3896180184858183, -0.6551111699738736, 0.5995038394420485, 0.29084769407115996, 1.6804380005245136, 0.11347141537036237, -0.8675884490864589, -0.552557563237089, 0.6562836203981349, 1.205877874908196, -1.0698987121615413, 1.1363992804495282, -1.5790617916604617, -0.47327558285570814, -0.40493708730677036, 0.9277069570302336, -0.9643921421525802, 0.548860314892592, -0.4243309090706366, 2.8274343734039697, -0.48423814648170144, -0.12465634543791364, 0.5123314984647801, 0.20069555378382867, 2.508448195430211, -2.002981877441224, -0.8387872103308986, -1.0743157117150175, -0.38268824611143815, 0.5057801057968291, -0.6581055427802358, 1.2063775086373023, -0.7042873240752022, 0.6893913002608208, -1.2227809558283875, 0.009086912268148936, -0.407116528132199, -0.19112439308353968, -0.49921052970070634, -0.5156869951993842, 0.7362143824322088, 0.3897472786779365, -0.34090261582909165, 0.5430417176212705, -1.2715961089335204, 0.42539015201719205, -0.8798949940425618, 1.3674642246297541, -0.18762405661313875, 1.4675345863771374, -0.8347805428982532, -0.2559610264305403, -1.7224915786940134, 0.9486911699232493, 0.9026765800351099, 0.2256059619802006, 0.4480872047054149, 0.5412587813044488, -0.5812295070439331, 0.8205241274950196, 1.5108374316156639, -0.4475143689550021, -0.5599610762730679, 0.6203993277117753, -0.0017002482579848734, -0.17762640864685192, 0.22272896210079302, 0.39906028319336634, -1.813430058666348, -1.90366785816003, -2.0693427702271343, -0.08321448930569407, -0.7268478119558653, -0.7023431401073686, -2.280231629983465, 0.030662400293899158, -0.5801434030252101, -1.0406727828348727, -0.5324095926294071, -0.6198280006992355, 0.5384713882805351, -1.0462887893144117, 0.5803358672011143, 1.1489423398796363, 0.09397275179314828, 1.1034809815650723, -0.9983016048659727, -0.16905451031915766, 0.5169444629983146, 0.3416063772751026, -1.0872008073995592, -0.38230341288729813, -0.5648689280859346, 0.37358446231260645, 0.7953419939123189, 2.007098215800671, -0.004355721561586568, 0.5072866522320667, 1.5724402203578496, 0.148541310936092, 0.21871384400446858, -0.7551080053056219, -0.39999784858676524, -0.6203977084737211, 1.018583948508279, 0.9760081293458195, -0.8889524980237767, 0.6701910906569942, 0.01120303251209464, -0.33517054903182925, -0.5886769888512826, 0.30241775759170936, -0.3373026956626312, -0.2520571085688495, 0.05286565040929801, -1.2531542540189542, 0.6732050709726776, 1.1444838214072317, -2.3329329117234567, 1.161696269832579, 0.3501414149806822, 0.5318117488705053, -0.626670198823699, -1.0095845102504444, 0.5795679603686379, 0.17109642102546824, 1.9212297323833036, 0.37247847270011747, -1.8970092240358454, 0.07938649320959514, -0.6976679290219396, -0.06427789197093235, -0.3843515181836626, -2.0113418240353957, 0.16686684354063988, 0.33164945184958083, 0.9367742255914339, 1.7258413229857552, -1.1770301725802668, -0.0983255594221568, 2.1613390507971193, 1.3959245338520538, -0.43227042505895047, -2.024332075087768, -0.13736560435153264, 0.413750680712762, -1.29692811763146, -0.85986771905673, 0.4070371044286524, 1.1975635212201303, 0.1571303595301896, -0.9334540185678497, -0.12575172950020483, -0.19114800598553847, 0.2536271813006398, -2.4778724797551663, -0.14284216426692087, 0.13355472722049563, 0.7174984191911999, 0.44453258393696343, -1.2684243354561873, -0.002045839114443977, 0.44489397247457885, -1.4499128301831605, 0.5138565130698112, 0.8324449068390118, -0.10929010697864597, -0.8726192594593005, -0.806007166933895, 0.4329499042981496, -2.278178667955701, 0.3131496670947501, -0.7445096795093082, 0.1758720342446279, 0.4231011267399792, 0.43781465964205973, 0.6300682858806217, -0.1703788351375178, 1.3603011221514836, 2.2760804004357187, -0.23958805090449994, 0.27727275958510755, 1.9293552707253872, -1.6115772699049757, 2.1017276549329704, 0.15715508726484012, 0.375030262875074, 0.5441274414841794, -0.39420842955158253, -0.7704392556572857, -0.342022607142693, -0.545762794365014, 1.3455016411058414, -0.6530640341793255, 0.4313203427436296, 0.15839738392118977, 0.2566290316149601, 0.5631722765720691, -0.14724537772975796, -0.8648249717446108, -0.9051675421370899, -0.5527079778798494, 0.23778411799565416, -1.2543787867633711, 0.9755885223451328, -1.1575303008540947, -0.013652365924108642, 0.3511346305173505, -0.7684172227316828, -1.1685642581155364, -0.027386436239639926, 0.4222550565683599, 2.19069101822863, -2.2044992524290725, -0.13989612400472096, 0.53289623099847, -0.0912727181871496, -0.14071789203291415, 0.5900625440192369, 0.807105640124297, 1.2318409750109554, 0.5327629991022799, 0.29836826652768217, -0.037896756964896805, 0.6852884556515522, 1.278163243334691, -0.20935954006054908, 1.3668327740334576, 1.3041004149352369, -0.850442450922042, 0.5342148039204228, -0.23666264780250293, 0.4205783666165666, -0.8189227416013201, 1.4538121029081874, 1.2561236946005607, 1.5436227174696784, -0.39876481827264504, 1.3743822979270897, -1.4491315082322551, 0.1847682701551123, 0.8734768944019181, 0.2960394152723732, 0.29470522063457427, 0.27531322801756164, 0.38729634619851777, -0.7360214292163821, 0.1146253983323468, 0.2495177449764698], \"y\": [0.9416701395333092, 0.25481839416271873, 1.2016145338226043, -0.3965511477262813, 0.03172586636060631, 1.9753543306129435, -0.6804253185718554, 1.4297457574781414, 0.3607108809867478, -0.539692169068928, -0.3848490228578757, -0.344944027317487, 0.6413475783009948, 1.028031103385608, -0.7878385223879287, 1.3863847481907445, -0.6106559538296585, 0.7364996872691038, 0.43390268893629014, -1.5459227896537786, -0.2152182636014294, -1.1230398777623507, 0.1555776768570577, 0.3588775412451898, 1.213629483527062, 0.5052793076695912, -2.368118734633076, 1.508829258986283, 1.0584093638888543, 0.43130448237903435, -0.7344075905837176, 1.4153978968882965, -1.1335307357474875, -1.9392757510435334, -1.0750540715317163, 0.1372516995681399, -0.15652256183329138, -0.099605994560867, 0.28437491563729667, -0.17908026628871115, -1.3499868708161593, -0.07685298375778646, 0.2858344420290553, -0.48745216429173854, 0.769515932995723, 1.2589099550388831, 0.5909470950305323, -1.263764848328055, 1.0008397232290334, -1.8740664033845587, -1.0410662694201314, 0.45829805009833346, -0.24863973355232952, -1.0976923446632123, -0.15149391823491393, -0.223026119014377, 2.0605729166816893, 0.9509944762180547, -2.4797166429667907, -0.7199556810089706, -0.9740578711434468, 0.6802283333097933, -0.7021041558210791, -0.2993355823523955, 0.3115736863342703, -0.6621480259965042, -0.43753566040194003, 0.354396526730995, 1.2756289537732377, -0.5888902085392853, 0.35953865121392176, -0.208247224847608, -0.14488117314083424, 0.9266248384785298, -0.49033502081126945, 0.9741162116662925, -1.1365180973047613, -0.12262667596820453, -0.6593577908102155, -0.20548608152425704, -1.5058787000578138, -0.2379596808717213, -0.32478713509157736, 0.9432235496336899, -1.158241599516545, -0.9165231340892387, 1.1942604936117542, -1.599977791816254, -0.8097771512461485, 0.7831410578481027, -0.26853560868124043, -0.19611613085057997, -0.7919667024109325, 0.34480655378733843, 0.939769266793073, 0.026843791973540605, 1.0023565390655276, 1.366680103056884, 0.7391813147644739, 0.3045905744918038, -1.501786140695299, -0.5482930022611773, -0.40424137741762495, -0.975984453064751, 0.2438155496288491, -0.710518889546459, -1.1596534350203225, -0.34194291936920357, 2.053401954885552, 0.18799225873624434, -0.43279247155575745, 1.450002674446353, 0.8664001986346352, -0.5570488630482928, -0.6401689596270821, 0.4484414019846191, -0.9047338657779386, 0.7138251876405546, 0.40428877572165817, -0.5277852517413633, 1.239137044603948, -0.3238563671353456, 1.9980191455512557, 1.6054719084042823, 1.6095056320570573, 0.6959025439544206, -0.27980934658958984, -0.2872861196349527, -0.9587984609264631, 0.7912138173232409, -0.5580216304945463, 0.32195341377436, -0.9992835653006351, 1.1387833513441046, -0.06314159761309644, 2.3841083992334333, -0.42250647797954255, 0.14770050948380153, -0.7873975916357433, 1.5972703354522664, 0.185698127260309, -0.05470971692641601, -0.9446911212554233, -0.12509111276131984, 0.8069279638611442, 1.0316265967171117, -1.5783867980335284, 0.5162521306228575, 0.5767763859122111, -1.0090121198718884, -1.8090914243425467, -1.7319927815026113, -0.6107096017931413, 0.5337471978336304, 0.15837754170176352, -0.5858094339204347, -1.218082457820898, -1.0092843092007937, -0.26199954235565587, 0.32352293272866234, 0.6197437080337299, 1.167933932718143, -0.9442911677626381, 1.395707855389854, 0.12461649186264635, 0.8289518029931594, -1.6738752209017846, 0.3720159489587936, 0.30510247923305006, 1.6103996873171296, 1.1461329784313876, -0.7260645419452902, -0.10653326122999522, -0.080369064994449, 0.8491904640401002, -1.0631368641138828, -0.7736988838734121, -1.18166061024318, 1.484937251848446, 0.7357660702231058, -1.5046465667367643, -0.7380413661939903, 0.8166006521460468, 1.804311805954184, 0.833762903685364, -0.259850807308014, -0.6920205457779725, -0.3368212926398146, -0.9419386982217046, 0.7134582244131947, -0.011412790151132432, -0.4039987977880747, -1.4629393082183464, -0.5426832091595646, -0.29771527229723516, -2.1278172111114704, -0.370151547371728, -1.3991292913882387, 2.4346593166552046, 1.05084104408288, 0.4593917315361887, -0.5620332153263892, -1.0301333610820955, -1.7755513952491688, 0.38563841742101795, -0.7130190792711135, -1.6409234083222415, 0.6685044717087423, -0.42317362380192874, -0.5627481168186866, 0.8195759068912118, -0.47434333530193795, -0.011517167585940598, -0.9072762996968067, -0.5797539927525106, 1.692551685373254, 0.5577741696765529, 0.07709125794995206, -0.9817004289911282, 1.0247274256695083, -0.9152641587798693, -0.4287197773505538, -0.7192212157304241, 1.0694867702239723, 1.1642640420319783, -1.1218497335786266, 0.37882831424618235, 0.8927433257163007, -1.1230929425761629, 0.38407455616775377, 0.4546307695627062, -0.5165450076108444, 0.8611600289081878, 0.9174024205195054, 0.3116367712868987, 1.6494024617346583, -0.33178023877379864, -1.2237601542321201, -0.6495265722407517, 0.597511482379678, 0.7859156305060707, -0.6896785648264845, -1.1161212982253088, 0.054614356563215664, -0.11032153583048544, 1.2728841583542698, -0.36802838210389227, -1.621710808543876, 0.11085277570162662, -1.1998738110383602, 0.6608788303882835, 1.1547907589610422, -0.3766417409093853, 0.5168509243233578, -1.542528300539458, -0.2844584054060617, -1.2734091879658036, -0.9259892791158436, 0.9818850033364812, 0.6678974445638954, 1.7154939647327523, -1.5106739274627285, -1.2903217838569965, 1.082718311884849, 0.12515218475816994, 0.3889530910636787, -0.7267096440854884, 0.2669023926147978, 0.4051651580430089, 1.168239307009589, 0.9676521072137485, 1.4123696507689754, -0.18205298305649337, -0.09588935223893622, -0.2900978387678494, 0.9233632092756625, -1.0279278063877781, -0.5946726291409917, -2.883574748447354, -2.105637162042591, 0.6024836488373336, -1.4337355703280092, 0.8036107198918181, -0.07696095043790152, 0.4988146466360324, -1.5201141702516872, -0.891303225129036, 1.0649365705688048, -0.06921688015741585, -0.2812278017124063, -0.21012882238883282, 1.7386337594155532, -0.7526264086554435, -1.4499088672248086, -0.6056424557740673, 0.8058040168666835, -1.2513666019959542, 0.42290264671627564, -0.6024739008617828, 1.1197249593754903, -2.020782900595662, -0.1588083462389053, -1.0037518922260693, 0.11493809308042298, 0.40135903787118576, -0.9921453863556821, 1.4640389214611953, 1.6156803054771742, -0.721325532865226, 1.9627786105942826, 0.1272043262438452, 0.3974498403716787, 1.1355823806375476, 0.31926323198780204, -0.5127532310000789, -0.36348567143448646, 0.6169949688486361, 1.2014378299274078, -1.7125183673630326, 0.1395322214361833, 0.29428677704799777, 1.9376485035821651, 0.3657766837663906, -0.7860662562244378, -0.9077422186295884, 0.8361817202111009, -0.5442740149888521, -1.3066306797637885, 0.06963494359802691, -1.0847865460849182, 0.7077494351074797, -0.18505626622598398, 0.43535501327722254, 1.6104449396548313, -0.08353846569463963, 0.7421492256739755, 0.7622100870410594, -0.08933365833833311, 0.115306077999254, 1.1224261918495557, 0.9955269618555447, 0.7078128264754405, -0.9471317367069567, 2.2868795815178773, -0.02078430234831131, -0.18280951374952248, 0.5075150990350562, -0.757192814177122, 0.7292854211431691, 0.9049355234305725, -0.35316441784029806, -0.2923407838032063, -0.6547410009239037, -0.3873695257722573, -1.5293060786906174, 2.7203355127864013, 0.8542830631465272, 0.35572117415413734, 0.09426812818715712, -0.09176114528314001, -0.6139925204493933, -0.6312294251920264, -0.45647061250015325, 0.20395834375463964, 0.41069859378441603, -0.47186582886732265, -1.255244088981936, -0.7408439417896328, -1.3377969795594, -0.8087790607892944, 1.8430465616293241, -0.7655120464746025, 0.7500930431538172, -0.2558135511729199, 0.31194729500025836, -0.34131352789638575, 0.6996537510794797, -0.9530922068450789, 0.1551822832923707, -0.7545721554131718, -0.6322998144097909, 0.7740661036445835, -0.18639767251704403, 1.0325383774526016, 0.19106167846498207, -0.05437611803546914, -0.8060588531197811, 1.0727893621047586, 0.5025504510528145, 1.887251505647972, 0.8994597040847586, 0.18902891923153084, 0.42821548151062927, 0.24587526325527134, -0.6555697758841276, 0.3000002768902538, -0.5242643598948603, -1.2488251433588038, -1.5110227857156295, -1.0398484921646434, 0.836378997365093, 1.1506365157309233, -0.26931037954281056, 1.1467647731873378, 2.002080587551678, 0.0993551860154977, -0.18776106653803495, -1.0087089263935975, 2.2944732535428307, -0.797500385652564, 0.10763143657669948, -0.3309059155014833, 0.7139289379504363, -0.28035333197701506, 0.5716463707939358, -1.0018851080159, 0.5293641425305048, 1.7021950083098567, 0.4359726972209864, -0.11040696170416289, -0.02345807686911581, 0.315377859815216, -0.060106964366097, -0.8114836360559892, -1.1324196539815463, 0.2449445934323018, -1.8142035115413868, -0.12256928695449648, -1.1370569031179885, 0.2390245490369186, -0.20320155747818122, 0.15773729451985447, -1.5850217005279428, 0.3261612779040463, 0.96080291825265, -0.6815520951623311, -0.3814737429529414, 1.333156091757825, 0.4168089202658698, 0.2504436972808289, 0.06322262046862277, 0.4792966045545307, 0.5447855168561391, -0.06634926225041107, -0.6218664126322919, 0.39542066339468473, -1.6384949257997081, 1.9157195385512078, -0.5460997676179155, -0.1622474370006545, -0.9384940779454756, -0.7682769555342422, -0.738041216662198, 0.6730259711442794, -0.18396760480144891, 2.1701173595000562, -0.23992239979543917, -0.43095690001114373, 0.09324756381837908, -0.9890863150139427, -0.04272591704679785, 1.731441116841631, 1.3991779119914447, -0.033188901081244525, 0.22755569855409488, -0.247585746108814, -1.1991726138896137, 0.13584151943282416, 0.3020493648149599, 0.7010492539051535, 0.11973165252612994, -1.3110772912348438, -0.02307056192116317, 0.9237401737456831, -0.4141240760080366, -1.2521059688322222, -1.4223774278153307, 0.6367062204628546, -0.5495836741248664, -1.0088911607281879, 1.2976397765760077, 0.8631155356724716, -1.0988396463667631, -0.5851442689681232, 2.014687063109378, 2.353137359325043, -0.2084397266215228, -0.48111886136410753, -1.375614969479533, -0.7087651308900134, -0.19510111893182983, 0.3792424091648791, 0.26397124324624194, -0.7096081102905442, 0.9478294423180826, -0.8268399147068426, 0.12675614217443598, 0.40081596233707245, -0.20651258952837, -0.44224325633631695, 1.832741383986212, 0.572588820060079, 0.38772160795916305, 0.8094279112041677, -0.3939661984823117, -0.9573374242603546, 0.19911221159937031, -0.31259289426688597, -0.13968326830102762, 0.3564559173602333, -0.7999809974779184, -0.2875807043341351, 0.01618111200490782, -0.882737714190921, 0.3481493097934065, -1.381038013555844, -1.172868915083091, -0.7392064023669447, 0.3938256220721093, 0.3799791080993848, -0.27918159286351535, 1.004164586803789, -0.4595387470597796, 1.0448812765382947, 0.4458870712323783, -1.4016743121717177, -0.14863160688611302, 1.6528880195916278, 0.7157499752157848, 1.8775158335902584, 1.1761188633174233, 0.11219419412900644, 0.9073729782860096, -1.1037671298010339, 0.20368614754381223, 1.6095811056803793, 0.4523023830023268, -0.19007525379977216, -0.6578849133345114, -0.02129410175550539, -1.0033740262630915, 1.140582716065902, 1.5307984973641915, -1.288736201522626, 0.05051879121747112, 0.12995329697916522, -0.2739201717987337, -0.18122117798583373, 0.9546599960839158, -1.5673334294902528, -1.107748589364366, -0.6416868435964369, -1.139460566813619, 0.12503975397652187, 0.517224236175245, 1.24891123162023, 0.7269025441096856, 0.5919805363221298, -0.6382864048346313, 0.4170502748241066, -0.33357882076644535, 1.6505967878215584, -0.48311993150710114, -0.8422518131211909, 0.2582872467426903, 0.20789852191077146, -0.07876474234695521, -1.553187813131691, -0.2743603513509873, -1.71897803923405, 0.9446453831269058, 0.38585583303297155, 0.9769957084988989, 0.9515482851820466, -0.38929743843731046, -0.7432838938960691, 0.6272941769199596, -0.552317721101495, 0.08159848166347168, -1.1192009204740758, -0.20605883109936254, -0.6076809682436309, 0.7948937530993299, -1.8817165968585703, 0.9062479145137378, -0.18951201711720975, 1.0367080605447065, 0.671177536608169, -1.193428956374479, 0.6472468419582856, 1.0377765995966082, -0.4996489618894568, 0.651549576404251, 0.3543578945864442, -0.5048492750629622, 0.6005760500170365, 1.5146072571464007, -0.8258380661338903, 0.032496530447753455, -0.5265666020474102, -0.31230254581802813, 0.7719082526566041, 0.3055346008073545, 1.4386046883573564, -1.4169714716261794, 1.2730843044659752, -0.19439591041883378, -1.099360223098193, 0.10114134843553417, -0.42954975782745675, 0.3187772878204168, -0.015050282404552733, 2.681495476913773, -0.10280276333757578, 1.109082791396831, 0.05594351260300496, -0.15874004522829027, -0.11948520406676309, -0.01937729923132056, 0.16990328297911347, -1.2800800502093972, -0.06130380269540682, 1.3479829310485671, -1.2673874444332975, 0.5488278042202875, 0.30792973570288606, -0.10668611366691244, 0.3623948131764618, -1.6716046152297142, 0.530021593075841, 0.02796604192680557, -0.645490378270059, -0.659507791460163, -0.9567484738898718, -1.9413322925799776, 0.20560529064430486, -1.506809807985206, -0.12464834279419953, -1.2799892057626914, -0.2738985469869768, 0.23834416461247127, 1.447819546155554, 0.5496876623793484, 1.1219663747280655, -0.33690813214822535, -0.8909574120538839, -1.7946896675212243, -1.0338840618718161, 0.4061131292667254, -0.8787695404589564, -0.7820709663347236, -1.9191193829497726, 1.1375066807732428, 0.4913149581566959, -0.40894180285249443, 0.16746588277325242, 1.0615480309659415, -1.0435860548017115, -0.8958826059041486, 0.7854526394067898, 0.8124382574831569, 0.7537325355926606, -2.657920765662952, 0.6276324084151526, -0.3751313909072097, -0.323652890447722, 1.4502778824130298, 0.9660185102417563, -0.31375275079481924, 1.824425357969168, 1.3000311659804002, 1.5339114956699442, 0.9731066920633521, -2.874570485371906, 0.9071332761086148, -0.9960028905063409, -0.6784269631457273, 0.2712269099139735, 0.9328213947737823, -0.0307108927314428, 0.5376751162827658, 0.038476298522188264, 0.25003065925178136, -1.3808055886404924, 0.08356820446310721, 1.1974400869131536, -0.8566591919615201, -1.3708921562156506, -0.4837187919792182, -0.17812041404813936, -2.781398736935358, 2.0429046159139608, -0.03416840133695081, 0.24873580361367423, 0.24802582712211652, 0.9252418593279085, 0.4241760517895068, -0.05019164868030176, -0.6221095334892675, 0.9231452612031007, -0.6981444287072847, -0.06651374721156758, -0.7095885686940683, -0.9424681619467868, 0.3094306899676078, 0.6538669300558224, -1.9299286952352313, 2.3784995960304216, 0.47533621664928716, -0.7508659372538027, 1.0090421672128538, -0.8607608581820627, -0.5032221846761846, 0.16522075819334128, -0.9651437851622042, 1.3154618939949752, -1.7435777400757886, 0.17539385338704327, 1.9693108863957638, 0.23618979184213965, 1.4133797349865571, 0.6156768639326088, -0.10738976044954013, 2.2598730331811323, 0.8936716636331052, -0.6304298225231789, 1.6249188021590657, -0.47433955940380707, -0.6887402707158294, 0.5297313136013105, -1.0274091345770069, -0.34254717204317964, -0.536697914984539, -1.8945013598210194, -0.5862308392180068, -1.5862435620926834, 0.4945713649399729, -0.6875308753032977, -1.4758908721917545, -0.5716494769392988, 0.22062679640523686, 0.8094219773315704, -1.455542609435611, -0.47862831029028513, 1.2613905842628512, 0.1579601131054833, 0.33936783762498307, 0.28368952820351623, -0.5592720901450222, 1.8618422856348906, 0.05960493092268313, 1.110499337850546, -2.3857330095372533, -0.1992307625513192, 0.10443054141424069, 0.49439462774032217, 0.9150839791417574, -1.5182518924122443, 0.6271492396508315, 0.9355820165534013, 0.5937809749016131, 0.906138393245295, -1.389435014752605, 0.20430248678079937, -0.9622960707054629, -2.067909090172198, 0.12453787644390635, -0.5180513122836454, -1.7376345771101227, 0.686251988636021, 0.2907096885672146, -0.9622348637723266, -1.0820507035418887, -0.2849098465914708, 1.3516531904483469, -1.5654807410304468, 0.8593291686503374, 1.4617942623910807, -0.47999497758125054, 0.34858575181018475, 1.1550391570912146, 2.0609407620361067, 0.9382123902612401, -0.17364370418800834, -0.14371717732156514, 0.14487673158136455, 0.4495359102132007, 0.3331193643626678, -0.6188564910174513, 0.5514726502499936, 0.6960924792205069, -1.6618303680158575, -0.16376621517101117, 0.035838697349271614, 1.1312787938930609, 0.3840176088199881, -0.25870853193638516, 2.2415515781916526, 1.1694187525039899, -0.9075107299273539, 1.245405603437443, 1.13942807353434, 1.7360510732813836, -1.3554249805220808, 1.1467574470400372, -1.9308270832104093, -1.1008388874171269, 1.3636268799512155, -1.0967435297964514, -1.7836287134894313, 0.09500114492292974, -1.609275974645386, 0.17462704821453714, -0.00946620509388734, -0.8035326260458645, 1.2796628252361377, -0.932001754349904, -0.09708876793222129, -1.49644558166856, -0.3330982347353059, 1.0202180523491924, -0.8259328605898836, 0.35282484929340796, 2.773626991097478, 0.07695524069804946, -0.38620412206684884, 1.1009075877229666, -0.4267589580851824, -0.10821697403613384, 1.53106890547672, -0.0027156426671863265, 0.0010177008232344531, 0.03169599101428718, -0.557432494881207, -1.8815388705457932, 1.0930081960076719, 0.7427284530421617, -1.8746096229866342, 0.9304100224522892, -0.13191537051218, -0.1073863256113016, -0.34997191619369994, -0.014193475337840052, -1.7246454276045253, -0.26984505709432577, 0.7660157645435461, 1.7693250015961635, -0.29969050007468767, 0.9249375084988598, 1.2111211151841879, 0.09266352397912973, -0.04664355409862571, 0.30394099751365405, 0.1348168881733953, 0.35296342290895183, -0.9925821338651197, -0.9085402289258756, -1.1655744026504808, 0.9791860111598724, 1.5731887235645283, 1.632414326726557, 1.4778601698531575, -0.4253967767793883, 2.5945416096953, -0.2735138079162598, 1.2310817075566278, -0.3395155350329443, -1.0793875783840365, -0.7429106374865981, 0.6194614083417759, 0.3343802594838144, 1.6312434354254706, 1.1857580550427378, -0.5966702517641688, -0.9506727669153705, 0.2914085343623325, -0.13644769039123855, 0.09431052099543376, 0.7272318135968159, 0.6736721270365426, 0.35498715581263945, -0.9185899459255912, -0.3859599933407991, -0.3229869880322121, -2.21578733593836, -0.953980496382955, 0.2528053044852109, 0.19623489875324102, 0.17552999639311737, 0.5039022762448856, -0.06123974613278959, 1.4989579660858312, 0.5597023230220055, -3.0529550684607645, 0.819442249396889, -0.3014677990432477, -0.056214635726838755, 0.7855334130983506, 2.1935036566425437, -0.10781812406111287, 0.5023987084429602, 0.5891063125180473, -0.008010593444513655, -0.036509643401714184, 1.1435929052290787, -2.1844337854884714, -0.07374303552411877, 0.028832618842737655, -1.5464352812382682, -1.2775592884826001, -1.1408603786005527, -1.4167536583422504, 1.161503565275328, -0.6196037320906193, 0.469342472692461, 1.4882922973812, -0.6289922737593048, -0.3840238138790586, 1.4671955874865652, 1.2931768722623243, 0.5736836530390391, 1.0801328849427072, -0.8076819621171434, 1.8261962391423758, 0.9144630910282748, -1.6517238136865329, -1.638791905612053, 0.8050367640604343, -0.0948817117662748, -0.547791435428239, 0.1958632799005144, 0.7165637860759578, 1.8865824691191135, 0.7886728402290162, 0.6976263709369349, 1.421972928211508, 0.1486691027590734, -1.8211161755524357, -1.0768964485366996, -1.319937606433745, -0.6345366627833999, 0.49948879493927784, -0.574133737548193, -0.7409177645865171, 0.2818966333749436, -0.933885487900577, 0.5039870652333114, -2.0561973385002092, -0.747675249884788, 0.8426045023799287, -1.5699171983382827, -0.43150835704141893, -0.630572651922521, 1.744711927002348, -1.4764398187669117, 0.7530285266672888, 1.0515525730319026, 0.5438322270271088, -0.15799329623971012, -0.5851397507782756, -0.8300090427624947, 0.3896758548069034, 0.5625312479240293, 0.05122813107411288, 0.2793928598091479, 1.0376243822490727, 0.3325915442074277, -1.7106200482195362, -0.7031638517221144, -1.6320758764449834, -0.44522755101857564, -1.3836095264229873, -1.2425440102959955, 1.3723990985617054, 0.5095564203533781, 0.8971446543943802, 0.4384224274366139, 1.2899727372620808, 0.3449909477602538, -0.5313658757204991, 0.6634003510995117, 0.26262433518593, -1.5468632024674862, 1.0020415243117873, 0.22488382358098968, 0.049307235939333255, -0.9507027020824096, -0.16577062908708246, 0.5517449329547393, -0.21842987603337297, -0.0020521203098424244, -0.15686553503560835, 0.7279580868647356, -0.6207466720279533, -0.9600373478267323, -1.4315431119471693, -0.9955166677743429, 0.9419974409338231, -0.44198696260683507, -0.9649797973928667]}, {\"marker\": {\"color\": \"white\", \"opacity\": 0.3, \"size\": 3}, \"mode\": \"markers\", \"type\": \"scatter\", \"x\": [-0.11668520430699936, 0.28114985509455953, 2.141732302495992, 0.8050449418391316, 0.9660938331347882, -0.4680208113455857, -0.7702456058441128, -1.3055409365303867, 0.2267617631996307, 0.23142298799176483, 1.2553577457176095, 0.32659627316993406, -0.2723193590900558, 0.21861544879063502, 1.9854099849376692, 0.08058572822817651, -0.5613980988056358, 0.8604244050444544, 0.22068533443470822, -0.2008813920665665, 0.7139400787416235, 0.8636300108320514, -0.33846527796799386, 0.929826186537145, -0.1877505342827068, 0.34666749746176695, -1.559308020118623, 0.688696553509982, -0.4177635286869492, -0.04317290460357892, 0.9619454214912048, -1.240878647570688, 0.09856399757120457, -0.8777799095970757, 0.081158399177324, 1.1169218210408534, -0.6587901238806898, 1.7290420670976276, -0.007258433629643221, 1.6837670830284195, 0.38613668955572245, -0.49237681966488195, -0.587681554554024, -1.3636041614080086, -1.132215995144143, -0.5437291759819399, -0.952653387436774, -1.1645569052468776, -0.722406014715672, 0.20779680946126605, 0.249601463402177, -0.5104390898164957, 1.4707883593229036, -0.8491651302531048, 0.2997309894900759, 0.7574703658978843, -0.4280534844787833, 0.9251445737329083, 1.0498736098639276, 0.04263083367725875, 0.4150128257408184, -2.190163848841193, 1.0574257634662245, -0.61195260975283, 1.1553419181063305, -0.5659115073344826, -0.06880483318792095, -1.411719790430665, 0.843061762893499, 0.43250002671130644, 0.48420892128757276, -1.882591811773587, 1.2800697063657598, -0.697462188550717, -0.981079729467515, -0.401050011791041, -0.6194648177391373, -0.5096605694989095, -1.2907096621097145, 0.9317247979448758, 1.0331713188626008, 0.48019522756213606, 0.19275782504456893, 0.2951611720273816, -0.6201992086015465, -1.4919652362323166, -1.5290607648267147, 0.6597599896177384, -1.5200128166407105, -0.9722864287062042, 0.34574309333416037, 0.6061376044481455, -0.9072854241495643, 0.7301927469510929, 0.1359323447395817, -1.0958890655584934, 0.3369163348934946, -1.396629006631378, -0.1382341217783965, -0.1331078256605258, -0.39466720551919243, -0.7996135019134316, -0.030444875914156247, -0.07147694122348883, 1.94075302964663, 0.13664365027155362, 0.18591388978447737, 0.7222805471022237, -1.0280235680299394, -0.625023036159365, 1.803984553000245, -1.5173040166503435, 2.762590171178497, 0.7314743403470914, -0.372116168327445, 1.5639795257807991, -0.6241193649210319, -0.736156569489761, -0.15601328044953272, 0.09812092305772288, -0.09842739384832772, 0.1414304184249993, 0.9270765946544521, 1.7452155993161733, 1.979308075566231, -0.9996201967116604, 1.8249542524940356, -0.8487517355332825, -0.737479417314618, 0.23546216739226, 0.3159309088857444, -1.37354576192921, 0.29721703062635096, -0.04508797709493305, 3.2487991437514765, -0.22014266830379833, -0.38238002102028146, -0.3150519151315587, -1.6076585445122888, -1.5001558567091686, -0.7043828750849094, -1.8149745233841574, 1.090235919100353, -0.46356053417628346, 0.6295376788130583, 3.4223495613587116, -0.03083766032262226, -0.7903320648753264, -0.6749652170258721, -0.9003306579695641, 0.08319275694200622, -0.5937234091498991, -0.04957471573487277, 0.09626655642945633, 1.3042932844743829, 1.9641913239712456, -0.2655456310819451, -0.7387569575628072, -0.37718246180868115, 0.089131241310899, 0.24456621171427928, 0.40849030294799826, -0.745701969022886, 1.3794996098873096, 1.031311517282731, -0.16914055235219164, -1.3373707806483366, 1.3777486715151857, 0.07361344876382855, -0.33706001881188075, -0.6896577528234585, -0.3096777809606802, -1.0093509310042077, 1.5006256291611433, -0.7286183641842195, 0.8052331076387605, -1.30564646882133, 0.8320709246283388, -0.34829653136619004, -0.25827375581882095, -2.551528327029098, 0.7003510559352545, 0.06785880196689524, -0.15072393043470106, -0.4105559859705106, -0.878926638783265, 1.1113889842896096, -1.0178983000315387, -1.0079532723042632, -0.4807458464944863, -1.2841334253761127, 0.4389465099432875, -1.2150877034664402, 0.3078620420772772, 0.09222814313844273, 0.4766119378751059, -0.17765941197421536, 2.0690051375042047, 0.3654906048618975, -0.0049465167413011634, 0.7451835360491064, -0.0847318111396537, 0.14390059987645917, -0.15104002495520139, 0.32707824969384375, 0.8417544456038785, 0.9861848067661712, -1.5392940646652458, -1.3991170729833373, 1.1096710055527357, -0.02881108785362069, 1.3451971625291719, -0.7940760014409664, 0.29248579030615757, -1.0214778530389623, -0.6420617910890868, -1.1850310721402324, -1.8330095453718396, 0.6108982489975459, 0.9396452086576239, -1.637887113627679, 0.8415424044484622, -0.6576859772267573, -1.2540869744894223, -1.4787034990531553, -0.21388009250781845, -0.5192371715105271, 1.5279957956299697, -0.3558653667906838, 0.2918596930904747, -0.9460573151145908, -0.9568732819871831, -0.396838329749804, 0.7365086181848505, 0.00906020634848801, -0.29126020519766804, 1.395089851510806, -0.33327089860570597, 1.0181958434836078, -1.140218700997623, 0.4600646439993672, 0.012872748942528246, -1.1777410967681257, -0.3519693191133683, -1.697183799502976, -1.7514264882462902, 0.12520906821464026, 0.2414888570337322, 0.4405327691023473, -1.115608227672228, 0.6409437825785709, -0.3196514066361583, 0.2725241127886879, 0.37525467623633924, 0.7371701949943457, 1.2697321520487816, 0.586540805650319, -0.7262183485283399, 0.11649559329242373, 0.9448979488864304, 1.0637774461560325, -0.5998012146814825, -0.5672495737148827, -1.3726884403340027, -0.876181466110087, -0.8504963557566758, 0.3275942692552157, 0.7685608598178317, 0.59744602998601, -0.1398015377603036, -0.34506739788082225, -0.5594619353119906, -2.570599486124083, -1.436845421579838, -0.812751909548878, 0.7809797928685179, -0.1970098246551254, -1.3858438126716228, 0.09627659501170069, -0.1618810915739761, -0.2235609003775461, 0.2740602335256188, 0.1355841554611881, 0.24767091843885064, 1.0942216271348184, 1.3125027554022741, -0.5389599030763319, -0.7747619787689394, -0.2595188612571572, 0.3541356594984613, -0.792924488826532, -2.021142455293396, -2.0857081416020042, 2.4486597928522826, -1.109393630237955, 1.851300058962788, 0.26396613423674214, 0.5931020155373363, 0.19952571913457806, 0.7389845133587702, -0.3875194824219592, 2.090937612651161, -1.814416787399861, -0.32814500668620816, -0.5270124767921621, -0.40751023035509915, 1.0362829966205476, -0.02486141904389148, 0.5601484425722517, 0.26304422839817243, 0.47670784204792993, 0.4292732100854563, 0.43233069227345994, -0.4458690582188791, 0.8133393555509485, 0.9429732260413101, 1.3219461892700781, -0.7869670107696634, 0.2850209650441062, -0.9548468336778192, -0.8906610814552076, 1.2555395531246378, 0.7714623047685681, 1.5746361959293538, -0.40318804874714886, 1.734744491289949, -0.060778572545505, -0.13896026487763452, 0.5587209844394798, -0.9075174851006623, 0.6021895509314733, -1.3691228366598618, 0.6612478025565057, -0.22674661607062005, 0.9536766893203557, -0.16572098642280675, -1.8086859323180222, 0.7190476718365459, -1.0537960096646812, 0.22436504161901621, 0.06215193474774546, 0.7031370321973202, 1.6766012793683944, 0.9502855065298056, -0.21173922071996623, -0.14273435520020095, 0.21013264114220828, -0.005995678779994012, 0.14518483574813748, -0.8046897028205046, 0.7262621777235763, -0.14992858799677464, -0.08491366292118399, -1.670428771320828, 0.6297334057506572, 0.9617320784979811, -0.6127383193129412, 0.9013022670769121, -0.9916345508520819, 0.12031065380151591, 1.201839454548871, -0.1172239444685763, -0.5379486400209363, 1.2993894671352626, -0.5973636904103533, -1.3687211658909388, 0.27207528670714903, 1.0714816539942096, 0.8729008845609447, -0.2647411485761244, -0.22190873144298667, 1.0350397978782018, 0.6366439215179596, 0.17168984380864827, -0.9498345978052216, 0.46513342514282263, -0.9581212592502721, -0.45565652442260113, -1.2101982294880758, -1.0913930091324537, -1.9140455604767534, 0.9076217424038896, 1.8927431317431558, -0.36050776532332274, 0.4138441859986633, -0.9803818283611893, 0.07300123644660446, 0.7560982213962767, -0.5167255130126871, 0.1641380873275745, 0.500327262306746, 0.9748364065393317, 0.09941410543826552, 0.21353467956354846, 1.2217089223640634, -0.5403506439473517, -0.49868870565902507, 0.6614186429414618, 1.2818179433052628, -1.3202949464607692, 1.692338832947553, -1.7259269240996753, -1.3846591018729093, 0.5387914520794658, -0.38984186980902075, 0.8391628522377155, -0.33400488145401036, -1.0307151684384055, -0.5991653633676436, 1.0033262383597006, 1.705239657241401, 0.9893643886723051, -0.5569018568433549, -1.4300114423987522, -1.026414356375179, -0.799441215968688, -1.9944244951526673, -0.24198517879887146, -2.4413885117405463, -1.046433336250817, 0.7052134407832157, 1.065766235853285, -0.29648519318851585, -1.3174349995028718, 0.49293925632428043, -1.0392679628092722, 1.8312919121286837, 0.9001110491468105, 0.238179430956681, 0.8678003269116039, -0.34707960886121203, 0.42439490435256755, 0.10484301379316999, -1.7122157079681153, 0.1313436999281192, -1.0148572038454013, -0.16924929661578367, 1.5239654585037405, -0.33137445489111356, -0.08473521764847428, -0.5751818373643364, -1.1029977346578077, -0.4132539763230744, 1.2724090990163663, 0.14513397597735472, 0.29559530339689566, 0.04442181646281691, 0.7449162798476467, -0.4049687704962119, -0.40074769601393695, -3.5361958087829604, 1.6680448816940368, 1.2488349890123904, -1.3400041360050974, -1.183822897834661, 0.44237188693726726, -0.5072485684061995, 1.7637478309396575, -0.6460084048567577, -0.4502929568540483, -0.6295146915816806, -0.5448728702490712, 0.6907632990680224, 0.486962941370256, -1.8565156665156364, -1.7243187267617373, 0.7231898953608323, 1.1234802816353382, 0.2822637111275641, 2.0541455929190344, 0.9434577222577512, -0.08231170564137777, -0.23631695052528925, -0.9937031564751978, -0.4382788073192429, 1.0676582815247715, 0.058200930963931696, -1.0016956833517479, -0.9765053079900905, -1.2224259816193306, -0.2115046846387346, 0.0743836989047711, 2.0182097513230333, 0.72640683962873, -0.7671721561009133, -0.9699490072575289, 1.6099031117510363, 0.553720219436343, 0.7600455622463729, 0.334694704521409, 0.3559519015791648, 1.5245753268985471, 1.5793515972852004, -0.9671253049544245, 0.6815838285036903, 0.9683911861402504, -1.2819400425569552, -0.47136303218690134, 1.6129410934620743, 1.3483937616363717, 0.831672305391452, -0.424014892884299, 1.418160375504967, -0.8296672757795027, 0.981053246144314, -0.6851918899761245, -1.6664837965236308, 2.535121635603761, 1.9419523401777408, 0.6459334481117409, -0.29804266317901645, -0.0915166236227492, 1.2470669657128142, 0.6524516910991167, -1.0702732289068166, -0.3632255011155572, -0.08089853033482237, 0.18762692546000972, 1.8148142543166783, 0.8920964508282802, 1.421461773141373, -1.5975599196313868, -0.4723154758157159, 1.4112498015643697, 0.8325811912270725, 0.06612438392403149, 0.8216243287486039, 1.1425787245538053, 1.552225057465114, 0.2711516595689923, -0.42882864824938727, 0.31989548894842645, 0.7606250178401229, -0.1476661887824189, -0.23710852751867523, 0.03910435005697789, 1.3527297771248765, 1.4463109534116732, -0.21806607168037692, 0.795011570567343, -0.11525420631456675, 0.39836998328467654, -0.17562489062444636, 1.5948299688466332, 0.9793824094536226, -0.06491202374173906, -0.6225385248501484, 1.682632143879958, -0.2830835997741711, 1.2654773308692306, 0.2829003260165046, -0.05287380259696991, 1.790504266746392, 0.5756248369463336, 0.3038484276300826, 1.5067766511871608, 0.004484831818133069, 0.00895096614528765, 0.07967287027884633, 0.7440605830371138, 1.0709216740069765, -0.902069402344169, -0.8402853991828139, 0.482310429473891, 1.7090132990688278, 0.35103490143623683, -0.674061960649398, -1.891700416720724, 0.14769507344678562, 1.85924166204926, -0.0005832260324343469, -0.3775377801040655, 0.553399584440753, 0.11350409223110373, -0.45239696280841424, 0.166446156394466, 1.5574954029021366, -0.11019457577826777, 0.23829367509885946, 0.4660183413210094, 1.2972949327913779, -0.9300260714954957, -0.10711608587467569, -0.5630888769070788, -1.371633580703867, 0.7616476831713052, -0.29965787333332733, 0.40693150493009295, -1.5540192722499642, 1.0634254696509473, 0.8789527157772656, 0.49415781448751966, -0.1502285595064293, -2.0631273057686346, 0.33083129628633995, 0.4274555975464478, 0.45005544263272235, 1.2184640299549943, -1.2861144691501134, -0.45535320825548736, 0.9003669657089275, -1.065087481196316, 0.7305266027813424, 2.1933582712765336, -0.2474656310110763, -0.35386583701338975, -0.5773801315230962, 1.6215423740150008, -0.3647027581747204, 0.19689641200388633, -0.7960072233212832, -0.258340336116605, -0.9353240035737125, 0.4186374980536922, -2.146502442547401, -0.8167525151972188, -0.4648327812248712, -1.5026962910636543, -0.43412640554086873, 0.17231235115676133, 1.5160147668171433, -0.7283338464642796, 1.715363109613839, -0.2086251895642528, 1.2890824022364713, -1.3544391370991846, -0.020982575576404542, 0.5342701222621767, 0.6187459191248742, -0.5241358241377374, -0.585025800478734, 0.33644721383563614, 0.39448891452058654, 0.08530038561443101, 0.7328735861368472, 0.40774284274701145, -1.265183427484207, -0.8840512034628839, 0.24297482888024421, -0.17100546553365278, -1.2117714158133936, -1.146944267793555, 1.4853867487525927, -0.021939133298247124, 2.4533780052658423, 0.05874347008175995, -0.22642834478928722, -1.0701421107311502, -0.579327317742555, 0.5750655610955878, -1.2349354368159096, 0.9382941330565411, -1.8375200500888929, -0.028151910678517075, -0.6194906825474203, -1.4380880086534686, 0.565622281493338, -1.3311210657350327, 0.9940459266843688, 3.66360200064417, 0.39831707132593297, 1.1151009183378948, 0.32570897704704693, -1.0294254759650177, 0.3164155915208115, -0.5037459275434002, 2.386109508019851, 0.944988941238188, 0.7879751522654214, 2.5148944404890465, -1.4963160117942158, 0.5701246328261691, 0.5028978882567858, 0.4409298630547711, 1.1498872459019205, -0.15226305990131975, -0.9840182761041488, 0.9411684593113986, 0.10893792966656686, 0.22701337923508108, -0.18142298163283876, -0.05504846756039171, 1.4062903653598935, 0.1388012887411676, -1.1203863848700417, 0.465121234292209, -0.0492257693965807, -0.7900606397030334, 0.10348223676902991, -1.0881764042890334, -1.1079840341827971, -0.47848259023736994, -1.4289553825664394, 0.5221673769184573, 0.09753413309496774, -1.2538112060522584, 2.4123095062025364, 0.6594487563179732, -0.10984079335054572, 1.4807548528626795, 0.20216987363809802, -0.12244695874206116, -0.37380139472692303, 0.12323053404076299, 0.708750071976844, -1.8023854802960018, -0.396746684132692, 0.14827708099627407, -0.9861032153810264, -1.0339967723642944, -0.4293864274806201, -0.7603527364640924, 0.6598638589269958, 1.334181365917539, 0.12266424180354092, -0.35106408517321336, -0.8675627429052688, 0.4248633918327947, -1.7567746098637271, -0.8874265220728691, 1.8815325002365755, 0.220834436305704, -0.1355786629231636, -1.374785038912805, 0.9472236987640485, -1.0906692595783243, -0.8823590348571503, -1.7489266381580524, 0.763547767541532, 0.45988137163941606, -2.7996139058402805, 0.25027782122963976, -1.7013149119519093, 0.19472231337983886, 2.1555254527227374, -0.7311739122555901, 0.04827419081539815, 0.7986737453702419, -1.8526365144151162, -0.6552944296847696, 0.4370034894423061, 0.5640396793441018, 0.7467257293275213, -0.1710628031248373, 1.1942540015219991, 1.4169308665791969, 0.5837345771969021, -0.5942195894696252, 0.9126217056621083, -0.705764483835352, 0.7317257247217114, -0.3896180184858183, -0.6551111699738736, 0.5995038394420485, 0.29084769407115996, 1.6804380005245136, 0.11347141537036237, -0.8675884490864589, -0.552557563237089, 0.6562836203981349, 1.205877874908196, -1.0698987121615413, 1.1363992804495282, -1.5790617916604617, -0.47327558285570814, -0.40493708730677036, 0.9277069570302336, -0.9643921421525802, 0.548860314892592, -0.4243309090706366, 2.8274343734039697, -0.48423814648170144, -0.12465634543791364, 0.5123314984647801, 0.20069555378382867, 2.508448195430211, -2.002981877441224, -0.8387872103308986, -1.0743157117150175, -0.38268824611143815, 0.5057801057968291, -0.6581055427802358, 1.2063775086373023, -0.7042873240752022, 0.6893913002608208, -1.2227809558283875, 0.009086912268148936, -0.407116528132199, -0.19112439308353968, -0.49921052970070634, -0.5156869951993842, 0.7362143824322088, 0.3897472786779365, -0.34090261582909165, 0.5430417176212705, -1.2715961089335204, 0.42539015201719205, -0.8798949940425618, 1.3674642246297541, -0.18762405661313875, 1.4675345863771374, -0.8347805428982532, -0.2559610264305403, -1.7224915786940134, 0.9486911699232493, 0.9026765800351099, 0.2256059619802006, 0.4480872047054149, 0.5412587813044488, -0.5812295070439331, 0.8205241274950196, 1.5108374316156639, -0.4475143689550021, -0.5599610762730679, 0.6203993277117753, -0.0017002482579848734, -0.17762640864685192, 0.22272896210079302, 0.39906028319336634, -1.813430058666348, -1.90366785816003, -2.0693427702271343, -0.08321448930569407, -0.7268478119558653, -0.7023431401073686, -2.280231629983465, 0.030662400293899158, -0.5801434030252101, -1.0406727828348727, -0.5324095926294071, -0.6198280006992355, 0.5384713882805351, -1.0462887893144117, 0.5803358672011143, 1.1489423398796363, 0.09397275179314828, 1.1034809815650723, -0.9983016048659727, -0.16905451031915766, 0.5169444629983146, 0.3416063772751026, -1.0872008073995592, -0.38230341288729813, -0.5648689280859346, 0.37358446231260645, 0.7953419939123189, 2.007098215800671, -0.004355721561586568, 0.5072866522320667, 1.5724402203578496, 0.148541310936092, 0.21871384400446858, -0.7551080053056219, -0.39999784858676524, -0.6203977084737211, 1.018583948508279, 0.9760081293458195, -0.8889524980237767, 0.6701910906569942, 0.01120303251209464, -0.33517054903182925, -0.5886769888512826, 0.30241775759170936, -0.3373026956626312, -0.2520571085688495, 0.05286565040929801, -1.2531542540189542, 0.6732050709726776, 1.1444838214072317, -2.3329329117234567, 1.161696269832579, 0.3501414149806822, 0.5318117488705053, -0.626670198823699, -1.0095845102504444, 0.5795679603686379, 0.17109642102546824, 1.9212297323833036, 0.37247847270011747, -1.8970092240358454, 0.07938649320959514, -0.6976679290219396, -0.06427789197093235, -0.3843515181836626, -2.0113418240353957, 0.16686684354063988, 0.33164945184958083, 0.9367742255914339, 1.7258413229857552, -1.1770301725802668, -0.0983255594221568, 2.1613390507971193, 1.3959245338520538, -0.43227042505895047, -2.024332075087768, -0.13736560435153264, 0.413750680712762, -1.29692811763146, -0.85986771905673, 0.4070371044286524, 1.1975635212201303, 0.1571303595301896, -0.9334540185678497, -0.12575172950020483, -0.19114800598553847, 0.2536271813006398, -2.4778724797551663, -0.14284216426692087, 0.13355472722049563, 0.7174984191911999, 0.44453258393696343, -1.2684243354561873, -0.002045839114443977, 0.44489397247457885, -1.4499128301831605, 0.5138565130698112, 0.8324449068390118, -0.10929010697864597, -0.8726192594593005, -0.806007166933895, 0.4329499042981496, -2.278178667955701, 0.3131496670947501, -0.7445096795093082, 0.1758720342446279, 0.4231011267399792, 0.43781465964205973, 0.6300682858806217, -0.1703788351375178, 1.3603011221514836, 2.2760804004357187, -0.23958805090449994, 0.27727275958510755, 1.9293552707253872, -1.6115772699049757, 2.1017276549329704, 0.15715508726484012, 0.375030262875074, 0.5441274414841794, -0.39420842955158253, -0.7704392556572857, -0.342022607142693, -0.545762794365014, 1.3455016411058414, -0.6530640341793255, 0.4313203427436296, 0.15839738392118977, 0.2566290316149601, 0.5631722765720691, -0.14724537772975796, -0.8648249717446108, -0.9051675421370899, -0.5527079778798494, 0.23778411799565416, -1.2543787867633711, 0.9755885223451328, -1.1575303008540947, -0.013652365924108642, 0.3511346305173505, -0.7684172227316828, -1.1685642581155364, -0.027386436239639926, 0.4222550565683599, 2.19069101822863, -2.2044992524290725, -0.13989612400472096, 0.53289623099847, -0.0912727181871496, -0.14071789203291415, 0.5900625440192369, 0.807105640124297, 1.2318409750109554, 0.5327629991022799, 0.29836826652768217, -0.037896756964896805, 0.6852884556515522, 1.278163243334691, -0.20935954006054908, 1.3668327740334576, 1.3041004149352369, -0.850442450922042, 0.5342148039204228, -0.23666264780250293, 0.4205783666165666, -0.8189227416013201, 1.4538121029081874, 1.2561236946005607, 1.5436227174696784, -0.39876481827264504, 1.3743822979270897, -1.4491315082322551, 0.1847682701551123, 0.8734768944019181, 0.2960394152723732, 0.29470522063457427, 0.27531322801756164, 0.38729634619851777, -0.7360214292163821, 0.1146253983323468, 0.2495177449764698], \"y\": [0.9416701395333092, 0.25481839416271873, 1.2016145338226043, -0.3965511477262813, 0.03172586636060631, 1.9753543306129435, -0.6804253185718554, 1.4297457574781414, 0.3607108809867478, -0.539692169068928, -0.3848490228578757, -0.344944027317487, 0.6413475783009948, 1.028031103385608, -0.7878385223879287, 1.3863847481907445, -0.6106559538296585, 0.7364996872691038, 0.43390268893629014, -1.5459227896537786, -0.2152182636014294, -1.1230398777623507, 0.1555776768570577, 0.3588775412451898, 1.213629483527062, 0.5052793076695912, -2.368118734633076, 1.508829258986283, 1.0584093638888543, 0.43130448237903435, -0.7344075905837176, 1.4153978968882965, -1.1335307357474875, -1.9392757510435334, -1.0750540715317163, 0.1372516995681399, -0.15652256183329138, -0.099605994560867, 0.28437491563729667, -0.17908026628871115, -1.3499868708161593, -0.07685298375778646, 0.2858344420290553, -0.48745216429173854, 0.769515932995723, 1.2589099550388831, 0.5909470950305323, -1.263764848328055, 1.0008397232290334, -1.8740664033845587, -1.0410662694201314, 0.45829805009833346, -0.24863973355232952, -1.0976923446632123, -0.15149391823491393, -0.223026119014377, 2.0605729166816893, 0.9509944762180547, -2.4797166429667907, -0.7199556810089706, -0.9740578711434468, 0.6802283333097933, -0.7021041558210791, -0.2993355823523955, 0.3115736863342703, -0.6621480259965042, -0.43753566040194003, 0.354396526730995, 1.2756289537732377, -0.5888902085392853, 0.35953865121392176, -0.208247224847608, -0.14488117314083424, 0.9266248384785298, -0.49033502081126945, 0.9741162116662925, -1.1365180973047613, -0.12262667596820453, -0.6593577908102155, -0.20548608152425704, -1.5058787000578138, -0.2379596808717213, -0.32478713509157736, 0.9432235496336899, -1.158241599516545, -0.9165231340892387, 1.1942604936117542, -1.599977791816254, -0.8097771512461485, 0.7831410578481027, -0.26853560868124043, -0.19611613085057997, -0.7919667024109325, 0.34480655378733843, 0.939769266793073, 0.026843791973540605, 1.0023565390655276, 1.366680103056884, 0.7391813147644739, 0.3045905744918038, -1.501786140695299, -0.5482930022611773, -0.40424137741762495, -0.975984453064751, 0.2438155496288491, -0.710518889546459, -1.1596534350203225, -0.34194291936920357, 2.053401954885552, 0.18799225873624434, -0.43279247155575745, 1.450002674446353, 0.8664001986346352, -0.5570488630482928, -0.6401689596270821, 0.4484414019846191, -0.9047338657779386, 0.7138251876405546, 0.40428877572165817, -0.5277852517413633, 1.239137044603948, -0.3238563671353456, 1.9980191455512557, 1.6054719084042823, 1.6095056320570573, 0.6959025439544206, -0.27980934658958984, -0.2872861196349527, -0.9587984609264631, 0.7912138173232409, -0.5580216304945463, 0.32195341377436, -0.9992835653006351, 1.1387833513441046, -0.06314159761309644, 2.3841083992334333, -0.42250647797954255, 0.14770050948380153, -0.7873975916357433, 1.5972703354522664, 0.185698127260309, -0.05470971692641601, -0.9446911212554233, -0.12509111276131984, 0.8069279638611442, 1.0316265967171117, -1.5783867980335284, 0.5162521306228575, 0.5767763859122111, -1.0090121198718884, -1.8090914243425467, -1.7319927815026113, -0.6107096017931413, 0.5337471978336304, 0.15837754170176352, -0.5858094339204347, -1.218082457820898, -1.0092843092007937, -0.26199954235565587, 0.32352293272866234, 0.6197437080337299, 1.167933932718143, -0.9442911677626381, 1.395707855389854, 0.12461649186264635, 0.8289518029931594, -1.6738752209017846, 0.3720159489587936, 0.30510247923305006, 1.6103996873171296, 1.1461329784313876, -0.7260645419452902, -0.10653326122999522, -0.080369064994449, 0.8491904640401002, -1.0631368641138828, -0.7736988838734121, -1.18166061024318, 1.484937251848446, 0.7357660702231058, -1.5046465667367643, -0.7380413661939903, 0.8166006521460468, 1.804311805954184, 0.833762903685364, -0.259850807308014, -0.6920205457779725, -0.3368212926398146, -0.9419386982217046, 0.7134582244131947, -0.011412790151132432, -0.4039987977880747, -1.4629393082183464, -0.5426832091595646, -0.29771527229723516, -2.1278172111114704, -0.370151547371728, -1.3991292913882387, 2.4346593166552046, 1.05084104408288, 0.4593917315361887, -0.5620332153263892, -1.0301333610820955, -1.7755513952491688, 0.38563841742101795, -0.7130190792711135, -1.6409234083222415, 0.6685044717087423, -0.42317362380192874, -0.5627481168186866, 0.8195759068912118, -0.47434333530193795, -0.011517167585940598, -0.9072762996968067, -0.5797539927525106, 1.692551685373254, 0.5577741696765529, 0.07709125794995206, -0.9817004289911282, 1.0247274256695083, -0.9152641587798693, -0.4287197773505538, -0.7192212157304241, 1.0694867702239723, 1.1642640420319783, -1.1218497335786266, 0.37882831424618235, 0.8927433257163007, -1.1230929425761629, 0.38407455616775377, 0.4546307695627062, -0.5165450076108444, 0.8611600289081878, 0.9174024205195054, 0.3116367712868987, 1.6494024617346583, -0.33178023877379864, -1.2237601542321201, -0.6495265722407517, 0.597511482379678, 0.7859156305060707, -0.6896785648264845, -1.1161212982253088, 0.054614356563215664, -0.11032153583048544, 1.2728841583542698, -0.36802838210389227, -1.621710808543876, 0.11085277570162662, -1.1998738110383602, 0.6608788303882835, 1.1547907589610422, -0.3766417409093853, 0.5168509243233578, -1.542528300539458, -0.2844584054060617, -1.2734091879658036, -0.9259892791158436, 0.9818850033364812, 0.6678974445638954, 1.7154939647327523, -1.5106739274627285, -1.2903217838569965, 1.082718311884849, 0.12515218475816994, 0.3889530910636787, -0.7267096440854884, 0.2669023926147978, 0.4051651580430089, 1.168239307009589, 0.9676521072137485, 1.4123696507689754, -0.18205298305649337, -0.09588935223893622, -0.2900978387678494, 0.9233632092756625, -1.0279278063877781, -0.5946726291409917, -2.883574748447354, -2.105637162042591, 0.6024836488373336, -1.4337355703280092, 0.8036107198918181, -0.07696095043790152, 0.4988146466360324, -1.5201141702516872, -0.891303225129036, 1.0649365705688048, -0.06921688015741585, -0.2812278017124063, -0.21012882238883282, 1.7386337594155532, -0.7526264086554435, -1.4499088672248086, -0.6056424557740673, 0.8058040168666835, -1.2513666019959542, 0.42290264671627564, -0.6024739008617828, 1.1197249593754903, -2.020782900595662, -0.1588083462389053, -1.0037518922260693, 0.11493809308042298, 0.40135903787118576, -0.9921453863556821, 1.4640389214611953, 1.6156803054771742, -0.721325532865226, 1.9627786105942826, 0.1272043262438452, 0.3974498403716787, 1.1355823806375476, 0.31926323198780204, -0.5127532310000789, -0.36348567143448646, 0.6169949688486361, 1.2014378299274078, -1.7125183673630326, 0.1395322214361833, 0.29428677704799777, 1.9376485035821651, 0.3657766837663906, -0.7860662562244378, -0.9077422186295884, 0.8361817202111009, -0.5442740149888521, -1.3066306797637885, 0.06963494359802691, -1.0847865460849182, 0.7077494351074797, -0.18505626622598398, 0.43535501327722254, 1.6104449396548313, -0.08353846569463963, 0.7421492256739755, 0.7622100870410594, -0.08933365833833311, 0.115306077999254, 1.1224261918495557, 0.9955269618555447, 0.7078128264754405, -0.9471317367069567, 2.2868795815178773, -0.02078430234831131, -0.18280951374952248, 0.5075150990350562, -0.757192814177122, 0.7292854211431691, 0.9049355234305725, -0.35316441784029806, -0.2923407838032063, -0.6547410009239037, -0.3873695257722573, -1.5293060786906174, 2.7203355127864013, 0.8542830631465272, 0.35572117415413734, 0.09426812818715712, -0.09176114528314001, -0.6139925204493933, -0.6312294251920264, -0.45647061250015325, 0.20395834375463964, 0.41069859378441603, -0.47186582886732265, -1.255244088981936, -0.7408439417896328, -1.3377969795594, -0.8087790607892944, 1.8430465616293241, -0.7655120464746025, 0.7500930431538172, -0.2558135511729199, 0.31194729500025836, -0.34131352789638575, 0.6996537510794797, -0.9530922068450789, 0.1551822832923707, -0.7545721554131718, -0.6322998144097909, 0.7740661036445835, -0.18639767251704403, 1.0325383774526016, 0.19106167846498207, -0.05437611803546914, -0.8060588531197811, 1.0727893621047586, 0.5025504510528145, 1.887251505647972, 0.8994597040847586, 0.18902891923153084, 0.42821548151062927, 0.24587526325527134, -0.6555697758841276, 0.3000002768902538, -0.5242643598948603, -1.2488251433588038, -1.5110227857156295, -1.0398484921646434, 0.836378997365093, 1.1506365157309233, -0.26931037954281056, 1.1467647731873378, 2.002080587551678, 0.0993551860154977, -0.18776106653803495, -1.0087089263935975, 2.2944732535428307, -0.797500385652564, 0.10763143657669948, -0.3309059155014833, 0.7139289379504363, -0.28035333197701506, 0.5716463707939358, -1.0018851080159, 0.5293641425305048, 1.7021950083098567, 0.4359726972209864, -0.11040696170416289, -0.02345807686911581, 0.315377859815216, -0.060106964366097, -0.8114836360559892, -1.1324196539815463, 0.2449445934323018, -1.8142035115413868, -0.12256928695449648, -1.1370569031179885, 0.2390245490369186, -0.20320155747818122, 0.15773729451985447, -1.5850217005279428, 0.3261612779040463, 0.96080291825265, -0.6815520951623311, -0.3814737429529414, 1.333156091757825, 0.4168089202658698, 0.2504436972808289, 0.06322262046862277, 0.4792966045545307, 0.5447855168561391, -0.06634926225041107, -0.6218664126322919, 0.39542066339468473, -1.6384949257997081, 1.9157195385512078, -0.5460997676179155, -0.1622474370006545, -0.9384940779454756, -0.7682769555342422, -0.738041216662198, 0.6730259711442794, -0.18396760480144891, 2.1701173595000562, -0.23992239979543917, -0.43095690001114373, 0.09324756381837908, -0.9890863150139427, -0.04272591704679785, 1.731441116841631, 1.3991779119914447, -0.033188901081244525, 0.22755569855409488, -0.247585746108814, -1.1991726138896137, 0.13584151943282416, 0.3020493648149599, 0.7010492539051535, 0.11973165252612994, -1.3110772912348438, -0.02307056192116317, 0.9237401737456831, -0.4141240760080366, -1.2521059688322222, -1.4223774278153307, 0.6367062204628546, -0.5495836741248664, -1.0088911607281879, 1.2976397765760077, 0.8631155356724716, -1.0988396463667631, -0.5851442689681232, 2.014687063109378, 2.353137359325043, -0.2084397266215228, -0.48111886136410753, -1.375614969479533, -0.7087651308900134, -0.19510111893182983, 0.3792424091648791, 0.26397124324624194, -0.7096081102905442, 0.9478294423180826, -0.8268399147068426, 0.12675614217443598, 0.40081596233707245, -0.20651258952837, -0.44224325633631695, 1.832741383986212, 0.572588820060079, 0.38772160795916305, 0.8094279112041677, -0.3939661984823117, -0.9573374242603546, 0.19911221159937031, -0.31259289426688597, -0.13968326830102762, 0.3564559173602333, -0.7999809974779184, -0.2875807043341351, 0.01618111200490782, -0.882737714190921, 0.3481493097934065, -1.381038013555844, -1.172868915083091, -0.7392064023669447, 0.3938256220721093, 0.3799791080993848, -0.27918159286351535, 1.004164586803789, -0.4595387470597796, 1.0448812765382947, 0.4458870712323783, -1.4016743121717177, -0.14863160688611302, 1.6528880195916278, 0.7157499752157848, 1.8775158335902584, 1.1761188633174233, 0.11219419412900644, 0.9073729782860096, -1.1037671298010339, 0.20368614754381223, 1.6095811056803793, 0.4523023830023268, -0.19007525379977216, -0.6578849133345114, -0.02129410175550539, -1.0033740262630915, 1.140582716065902, 1.5307984973641915, -1.288736201522626, 0.05051879121747112, 0.12995329697916522, -0.2739201717987337, -0.18122117798583373, 0.9546599960839158, -1.5673334294902528, -1.107748589364366, -0.6416868435964369, -1.139460566813619, 0.12503975397652187, 0.517224236175245, 1.24891123162023, 0.7269025441096856, 0.5919805363221298, -0.6382864048346313, 0.4170502748241066, -0.33357882076644535, 1.6505967878215584, -0.48311993150710114, -0.8422518131211909, 0.2582872467426903, 0.20789852191077146, -0.07876474234695521, -1.553187813131691, -0.2743603513509873, -1.71897803923405, 0.9446453831269058, 0.38585583303297155, 0.9769957084988989, 0.9515482851820466, -0.38929743843731046, -0.7432838938960691, 0.6272941769199596, -0.552317721101495, 0.08159848166347168, -1.1192009204740758, -0.20605883109936254, -0.6076809682436309, 0.7948937530993299, -1.8817165968585703, 0.9062479145137378, -0.18951201711720975, 1.0367080605447065, 0.671177536608169, -1.193428956374479, 0.6472468419582856, 1.0377765995966082, -0.4996489618894568, 0.651549576404251, 0.3543578945864442, -0.5048492750629622, 0.6005760500170365, 1.5146072571464007, -0.8258380661338903, 0.032496530447753455, -0.5265666020474102, -0.31230254581802813, 0.7719082526566041, 0.3055346008073545, 1.4386046883573564, -1.4169714716261794, 1.2730843044659752, -0.19439591041883378, -1.099360223098193, 0.10114134843553417, -0.42954975782745675, 0.3187772878204168, -0.015050282404552733, 2.681495476913773, -0.10280276333757578, 1.109082791396831, 0.05594351260300496, -0.15874004522829027, -0.11948520406676309, -0.01937729923132056, 0.16990328297911347, -1.2800800502093972, -0.06130380269540682, 1.3479829310485671, -1.2673874444332975, 0.5488278042202875, 0.30792973570288606, -0.10668611366691244, 0.3623948131764618, -1.6716046152297142, 0.530021593075841, 0.02796604192680557, -0.645490378270059, -0.659507791460163, -0.9567484738898718, -1.9413322925799776, 0.20560529064430486, -1.506809807985206, -0.12464834279419953, -1.2799892057626914, -0.2738985469869768, 0.23834416461247127, 1.447819546155554, 0.5496876623793484, 1.1219663747280655, -0.33690813214822535, -0.8909574120538839, -1.7946896675212243, -1.0338840618718161, 0.4061131292667254, -0.8787695404589564, -0.7820709663347236, -1.9191193829497726, 1.1375066807732428, 0.4913149581566959, -0.40894180285249443, 0.16746588277325242, 1.0615480309659415, -1.0435860548017115, -0.8958826059041486, 0.7854526394067898, 0.8124382574831569, 0.7537325355926606, -2.657920765662952, 0.6276324084151526, -0.3751313909072097, -0.323652890447722, 1.4502778824130298, 0.9660185102417563, -0.31375275079481924, 1.824425357969168, 1.3000311659804002, 1.5339114956699442, 0.9731066920633521, -2.874570485371906, 0.9071332761086148, -0.9960028905063409, -0.6784269631457273, 0.2712269099139735, 0.9328213947737823, -0.0307108927314428, 0.5376751162827658, 0.038476298522188264, 0.25003065925178136, -1.3808055886404924, 0.08356820446310721, 1.1974400869131536, -0.8566591919615201, -1.3708921562156506, -0.4837187919792182, -0.17812041404813936, -2.781398736935358, 2.0429046159139608, -0.03416840133695081, 0.24873580361367423, 0.24802582712211652, 0.9252418593279085, 0.4241760517895068, -0.05019164868030176, -0.6221095334892675, 0.9231452612031007, -0.6981444287072847, -0.06651374721156758, -0.7095885686940683, -0.9424681619467868, 0.3094306899676078, 0.6538669300558224, -1.9299286952352313, 2.3784995960304216, 0.47533621664928716, -0.7508659372538027, 1.0090421672128538, -0.8607608581820627, -0.5032221846761846, 0.16522075819334128, -0.9651437851622042, 1.3154618939949752, -1.7435777400757886, 0.17539385338704327, 1.9693108863957638, 0.23618979184213965, 1.4133797349865571, 0.6156768639326088, -0.10738976044954013, 2.2598730331811323, 0.8936716636331052, -0.6304298225231789, 1.6249188021590657, -0.47433955940380707, -0.6887402707158294, 0.5297313136013105, -1.0274091345770069, -0.34254717204317964, -0.536697914984539, -1.8945013598210194, -0.5862308392180068, -1.5862435620926834, 0.4945713649399729, -0.6875308753032977, -1.4758908721917545, -0.5716494769392988, 0.22062679640523686, 0.8094219773315704, -1.455542609435611, -0.47862831029028513, 1.2613905842628512, 0.1579601131054833, 0.33936783762498307, 0.28368952820351623, -0.5592720901450222, 1.8618422856348906, 0.05960493092268313, 1.110499337850546, -2.3857330095372533, -0.1992307625513192, 0.10443054141424069, 0.49439462774032217, 0.9150839791417574, -1.5182518924122443, 0.6271492396508315, 0.9355820165534013, 0.5937809749016131, 0.906138393245295, -1.389435014752605, 0.20430248678079937, -0.9622960707054629, -2.067909090172198, 0.12453787644390635, -0.5180513122836454, -1.7376345771101227, 0.686251988636021, 0.2907096885672146, -0.9622348637723266, -1.0820507035418887, -0.2849098465914708, 1.3516531904483469, -1.5654807410304468, 0.8593291686503374, 1.4617942623910807, -0.47999497758125054, 0.34858575181018475, 1.1550391570912146, 2.0609407620361067, 0.9382123902612401, -0.17364370418800834, -0.14371717732156514, 0.14487673158136455, 0.4495359102132007, 0.3331193643626678, -0.6188564910174513, 0.5514726502499936, 0.6960924792205069, -1.6618303680158575, -0.16376621517101117, 0.035838697349271614, 1.1312787938930609, 0.3840176088199881, -0.25870853193638516, 2.2415515781916526, 1.1694187525039899, -0.9075107299273539, 1.245405603437443, 1.13942807353434, 1.7360510732813836, -1.3554249805220808, 1.1467574470400372, -1.9308270832104093, -1.1008388874171269, 1.3636268799512155, -1.0967435297964514, -1.7836287134894313, 0.09500114492292974, -1.609275974645386, 0.17462704821453714, -0.00946620509388734, -0.8035326260458645, 1.2796628252361377, -0.932001754349904, -0.09708876793222129, -1.49644558166856, -0.3330982347353059, 1.0202180523491924, -0.8259328605898836, 0.35282484929340796, 2.773626991097478, 0.07695524069804946, -0.38620412206684884, 1.1009075877229666, -0.4267589580851824, -0.10821697403613384, 1.53106890547672, -0.0027156426671863265, 0.0010177008232344531, 0.03169599101428718, -0.557432494881207, -1.8815388705457932, 1.0930081960076719, 0.7427284530421617, -1.8746096229866342, 0.9304100224522892, -0.13191537051218, -0.1073863256113016, -0.34997191619369994, -0.014193475337840052, -1.7246454276045253, -0.26984505709432577, 0.7660157645435461, 1.7693250015961635, -0.29969050007468767, 0.9249375084988598, 1.2111211151841879, 0.09266352397912973, -0.04664355409862571, 0.30394099751365405, 0.1348168881733953, 0.35296342290895183, -0.9925821338651197, -0.9085402289258756, -1.1655744026504808, 0.9791860111598724, 1.5731887235645283, 1.632414326726557, 1.4778601698531575, -0.4253967767793883, 2.5945416096953, -0.2735138079162598, 1.2310817075566278, -0.3395155350329443, -1.0793875783840365, -0.7429106374865981, 0.6194614083417759, 0.3343802594838144, 1.6312434354254706, 1.1857580550427378, -0.5966702517641688, -0.9506727669153705, 0.2914085343623325, -0.13644769039123855, 0.09431052099543376, 0.7272318135968159, 0.6736721270365426, 0.35498715581263945, -0.9185899459255912, -0.3859599933407991, -0.3229869880322121, -2.21578733593836, -0.953980496382955, 0.2528053044852109, 0.19623489875324102, 0.17552999639311737, 0.5039022762448856, -0.06123974613278959, 1.4989579660858312, 0.5597023230220055, -3.0529550684607645, 0.819442249396889, -0.3014677990432477, -0.056214635726838755, 0.7855334130983506, 2.1935036566425437, -0.10781812406111287, 0.5023987084429602, 0.5891063125180473, -0.008010593444513655, -0.036509643401714184, 1.1435929052290787, -2.1844337854884714, -0.07374303552411877, 0.028832618842737655, -1.5464352812382682, -1.2775592884826001, -1.1408603786005527, -1.4167536583422504, 1.161503565275328, -0.6196037320906193, 0.469342472692461, 1.4882922973812, -0.6289922737593048, -0.3840238138790586, 1.4671955874865652, 1.2931768722623243, 0.5736836530390391, 1.0801328849427072, -0.8076819621171434, 1.8261962391423758, 0.9144630910282748, -1.6517238136865329, -1.638791905612053, 0.8050367640604343, -0.0948817117662748, -0.547791435428239, 0.1958632799005144, 0.7165637860759578, 1.8865824691191135, 0.7886728402290162, 0.6976263709369349, 1.421972928211508, 0.1486691027590734, -1.8211161755524357, -1.0768964485366996, -1.319937606433745, -0.6345366627833999, 0.49948879493927784, -0.574133737548193, -0.7409177645865171, 0.2818966333749436, -0.933885487900577, 0.5039870652333114, -2.0561973385002092, -0.747675249884788, 0.8426045023799287, -1.5699171983382827, -0.43150835704141893, -0.630572651922521, 1.744711927002348, -1.4764398187669117, 0.7530285266672888, 1.0515525730319026, 0.5438322270271088, -0.15799329623971012, -0.5851397507782756, -0.8300090427624947, 0.3896758548069034, 0.5625312479240293, 0.05122813107411288, 0.2793928598091479, 1.0376243822490727, 0.3325915442074277, -1.7106200482195362, -0.7031638517221144, -1.6320758764449834, -0.44522755101857564, -1.3836095264229873, -1.2425440102959955, 1.3723990985617054, 0.5095564203533781, 0.8971446543943802, 0.4384224274366139, 1.2899727372620808, 0.3449909477602538, -0.5313658757204991, 0.6634003510995117, 0.26262433518593, -1.5468632024674862, 1.0020415243117873, 0.22488382358098968, 0.049307235939333255, -0.9507027020824096, -0.16577062908708246, 0.5517449329547393, -0.21842987603337297, -0.0020521203098424244, -0.15686553503560835, 0.7279580868647356, -0.6207466720279533, -0.9600373478267323, -1.4315431119471693, -0.9955166677743429, 0.9419974409338231, -0.44198696260683507, -0.9649797973928667]}],\n",
       "                        {\"template\": {\"data\": {\"bar\": [{\"error_x\": {\"color\": \"#2a3f5f\"}, \"error_y\": {\"color\": \"#2a3f5f\"}, \"marker\": {\"line\": {\"color\": \"#E5ECF6\", \"width\": 0.5}}, \"type\": \"bar\"}], \"barpolar\": [{\"marker\": {\"line\": {\"color\": \"#E5ECF6\", \"width\": 0.5}}, \"type\": \"barpolar\"}], \"carpet\": [{\"aaxis\": {\"endlinecolor\": \"#2a3f5f\", \"gridcolor\": \"white\", \"linecolor\": \"white\", \"minorgridcolor\": \"white\", \"startlinecolor\": \"#2a3f5f\"}, \"baxis\": {\"endlinecolor\": \"#2a3f5f\", \"gridcolor\": \"white\", \"linecolor\": \"white\", \"minorgridcolor\": \"white\", \"startlinecolor\": \"#2a3f5f\"}, \"type\": \"carpet\"}], \"choropleth\": [{\"colorbar\": {\"outlinewidth\": 0, \"ticks\": \"\"}, \"type\": \"choropleth\"}], \"contour\": [{\"colorbar\": {\"outlinewidth\": 0, \"ticks\": \"\"}, \"colorscale\": [[0.0, \"#0d0887\"], [0.1111111111111111, \"#46039f\"], [0.2222222222222222, \"#7201a8\"], [0.3333333333333333, \"#9c179e\"], [0.4444444444444444, \"#bd3786\"], [0.5555555555555556, \"#d8576b\"], [0.6666666666666666, \"#ed7953\"], [0.7777777777777778, \"#fb9f3a\"], [0.8888888888888888, \"#fdca26\"], [1.0, \"#f0f921\"]], \"type\": \"contour\"}], \"contourcarpet\": [{\"colorbar\": {\"outlinewidth\": 0, \"ticks\": \"\"}, \"type\": \"contourcarpet\"}], \"heatmap\": [{\"colorbar\": {\"outlinewidth\": 0, \"ticks\": \"\"}, \"colorscale\": [[0.0, \"#0d0887\"], [0.1111111111111111, \"#46039f\"], [0.2222222222222222, \"#7201a8\"], [0.3333333333333333, \"#9c179e\"], [0.4444444444444444, \"#bd3786\"], [0.5555555555555556, \"#d8576b\"], [0.6666666666666666, \"#ed7953\"], [0.7777777777777778, \"#fb9f3a\"], [0.8888888888888888, \"#fdca26\"], [1.0, \"#f0f921\"]], \"type\": \"heatmap\"}], \"heatmapgl\": [{\"colorbar\": {\"outlinewidth\": 0, \"ticks\": \"\"}, \"colorscale\": [[0.0, \"#0d0887\"], [0.1111111111111111, \"#46039f\"], [0.2222222222222222, \"#7201a8\"], [0.3333333333333333, \"#9c179e\"], [0.4444444444444444, \"#bd3786\"], [0.5555555555555556, \"#d8576b\"], [0.6666666666666666, \"#ed7953\"], [0.7777777777777778, \"#fb9f3a\"], [0.8888888888888888, \"#fdca26\"], [1.0, \"#f0f921\"]], \"type\": \"heatmapgl\"}], \"histogram\": [{\"marker\": {\"colorbar\": {\"outlinewidth\": 0, \"ticks\": \"\"}}, \"type\": \"histogram\"}], \"histogram2d\": [{\"colorbar\": {\"outlinewidth\": 0, \"ticks\": \"\"}, \"colorscale\": [[0.0, \"#0d0887\"], [0.1111111111111111, \"#46039f\"], [0.2222222222222222, \"#7201a8\"], [0.3333333333333333, \"#9c179e\"], [0.4444444444444444, \"#bd3786\"], [0.5555555555555556, \"#d8576b\"], [0.6666666666666666, \"#ed7953\"], [0.7777777777777778, \"#fb9f3a\"], [0.8888888888888888, \"#fdca26\"], [1.0, \"#f0f921\"]], \"type\": \"histogram2d\"}], \"histogram2dcontour\": [{\"colorbar\": {\"outlinewidth\": 0, \"ticks\": \"\"}, \"colorscale\": [[0.0, \"#0d0887\"], [0.1111111111111111, \"#46039f\"], [0.2222222222222222, \"#7201a8\"], [0.3333333333333333, \"#9c179e\"], [0.4444444444444444, \"#bd3786\"], [0.5555555555555556, \"#d8576b\"], [0.6666666666666666, \"#ed7953\"], [0.7777777777777778, \"#fb9f3a\"], [0.8888888888888888, \"#fdca26\"], [1.0, \"#f0f921\"]], \"type\": \"histogram2dcontour\"}], \"mesh3d\": [{\"colorbar\": {\"outlinewidth\": 0, \"ticks\": \"\"}, \"type\": \"mesh3d\"}], \"parcoords\": [{\"line\": {\"colorbar\": {\"outlinewidth\": 0, \"ticks\": \"\"}}, \"type\": \"parcoords\"}], \"pie\": [{\"automargin\": true, \"type\": \"pie\"}], \"scatter\": [{\"marker\": {\"colorbar\": {\"outlinewidth\": 0, \"ticks\": \"\"}}, \"type\": \"scatter\"}], \"scatter3d\": [{\"line\": {\"colorbar\": {\"outlinewidth\": 0, \"ticks\": \"\"}}, \"marker\": {\"colorbar\": {\"outlinewidth\": 0, \"ticks\": \"\"}}, \"type\": \"scatter3d\"}], \"scattercarpet\": [{\"marker\": {\"colorbar\": {\"outlinewidth\": 0, \"ticks\": \"\"}}, \"type\": \"scattercarpet\"}], \"scattergeo\": [{\"marker\": {\"colorbar\": {\"outlinewidth\": 0, \"ticks\": \"\"}}, \"type\": \"scattergeo\"}], \"scattergl\": [{\"marker\": {\"colorbar\": {\"outlinewidth\": 0, \"ticks\": \"\"}}, \"type\": \"scattergl\"}], \"scattermapbox\": [{\"marker\": {\"colorbar\": {\"outlinewidth\": 0, \"ticks\": \"\"}}, \"type\": \"scattermapbox\"}], \"scatterpolar\": [{\"marker\": {\"colorbar\": {\"outlinewidth\": 0, \"ticks\": \"\"}}, \"type\": \"scatterpolar\"}], \"scatterpolargl\": [{\"marker\": {\"colorbar\": {\"outlinewidth\": 0, \"ticks\": \"\"}}, \"type\": \"scatterpolargl\"}], \"scatterternary\": [{\"marker\": {\"colorbar\": {\"outlinewidth\": 0, \"ticks\": \"\"}}, \"type\": \"scatterternary\"}], \"surface\": [{\"colorbar\": {\"outlinewidth\": 0, \"ticks\": \"\"}, \"colorscale\": [[0.0, \"#0d0887\"], [0.1111111111111111, \"#46039f\"], [0.2222222222222222, \"#7201a8\"], [0.3333333333333333, \"#9c179e\"], [0.4444444444444444, \"#bd3786\"], [0.5555555555555556, \"#d8576b\"], [0.6666666666666666, \"#ed7953\"], [0.7777777777777778, \"#fb9f3a\"], [0.8888888888888888, \"#fdca26\"], [1.0, \"#f0f921\"]], \"type\": \"surface\"}], \"table\": [{\"cells\": {\"fill\": {\"color\": \"#EBF0F8\"}, \"line\": {\"color\": \"white\"}}, \"header\": {\"fill\": {\"color\": \"#C8D4E3\"}, \"line\": {\"color\": \"white\"}}, \"type\": \"table\"}]}, \"layout\": {\"annotationdefaults\": {\"arrowcolor\": \"#2a3f5f\", \"arrowhead\": 0, \"arrowwidth\": 1}, \"coloraxis\": {\"colorbar\": {\"outlinewidth\": 0, \"ticks\": \"\"}}, \"colorscale\": {\"diverging\": [[0, \"#8e0152\"], [0.1, \"#c51b7d\"], [0.2, \"#de77ae\"], [0.3, \"#f1b6da\"], [0.4, \"#fde0ef\"], [0.5, \"#f7f7f7\"], [0.6, \"#e6f5d0\"], [0.7, \"#b8e186\"], [0.8, \"#7fbc41\"], [0.9, \"#4d9221\"], [1, \"#276419\"]], \"sequential\": [[0.0, \"#0d0887\"], [0.1111111111111111, \"#46039f\"], [0.2222222222222222, \"#7201a8\"], [0.3333333333333333, \"#9c179e\"], [0.4444444444444444, \"#bd3786\"], [0.5555555555555556, \"#d8576b\"], [0.6666666666666666, \"#ed7953\"], [0.7777777777777778, \"#fb9f3a\"], [0.8888888888888888, \"#fdca26\"], [1.0, \"#f0f921\"]], \"sequentialminus\": [[0.0, \"#0d0887\"], [0.1111111111111111, \"#46039f\"], [0.2222222222222222, \"#7201a8\"], [0.3333333333333333, \"#9c179e\"], [0.4444444444444444, \"#bd3786\"], [0.5555555555555556, \"#d8576b\"], [0.6666666666666666, \"#ed7953\"], [0.7777777777777778, \"#fb9f3a\"], [0.8888888888888888, \"#fdca26\"], [1.0, \"#f0f921\"]]}, \"colorway\": [\"#636efa\", \"#EF553B\", \"#00cc96\", \"#ab63fa\", \"#FFA15A\", \"#19d3f3\", \"#FF6692\", \"#B6E880\", \"#FF97FF\", \"#FECB52\"], \"font\": {\"color\": \"#2a3f5f\"}, \"geo\": {\"bgcolor\": \"white\", \"lakecolor\": \"white\", \"landcolor\": \"#E5ECF6\", \"showlakes\": true, \"showland\": true, \"subunitcolor\": \"white\"}, \"hoverlabel\": {\"align\": \"left\"}, \"hovermode\": \"closest\", \"mapbox\": {\"style\": \"light\"}, \"paper_bgcolor\": \"white\", \"plot_bgcolor\": \"#E5ECF6\", \"polar\": {\"angularaxis\": {\"gridcolor\": \"white\", \"linecolor\": \"white\", \"ticks\": \"\"}, \"bgcolor\": \"#E5ECF6\", \"radialaxis\": {\"gridcolor\": \"white\", \"linecolor\": \"white\", \"ticks\": \"\"}}, \"scene\": {\"xaxis\": {\"backgroundcolor\": \"#E5ECF6\", \"gridcolor\": \"white\", \"gridwidth\": 2, \"linecolor\": \"white\", \"showbackground\": true, \"ticks\": \"\", \"zerolinecolor\": \"white\"}, \"yaxis\": {\"backgroundcolor\": \"#E5ECF6\", \"gridcolor\": \"white\", \"gridwidth\": 2, \"linecolor\": \"white\", \"showbackground\": true, \"ticks\": \"\", \"zerolinecolor\": \"white\"}, \"zaxis\": {\"backgroundcolor\": \"#E5ECF6\", \"gridcolor\": \"white\", \"gridwidth\": 2, \"linecolor\": \"white\", \"showbackground\": true, \"ticks\": \"\", \"zerolinecolor\": \"white\"}}, \"shapedefaults\": {\"line\": {\"color\": \"#2a3f5f\"}}, \"ternary\": {\"aaxis\": {\"gridcolor\": \"white\", \"linecolor\": \"white\", \"ticks\": \"\"}, \"baxis\": {\"gridcolor\": \"white\", \"linecolor\": \"white\", \"ticks\": \"\"}, \"bgcolor\": \"#E5ECF6\", \"caxis\": {\"gridcolor\": \"white\", \"linecolor\": \"white\", \"ticks\": \"\"}}, \"title\": {\"x\": 0.05}, \"xaxis\": {\"automargin\": true, \"gridcolor\": \"white\", \"linecolor\": \"white\", \"ticks\": \"\", \"title\": {\"standoff\": 15}, \"zerolinecolor\": \"white\", \"zerolinewidth\": 2}, \"yaxis\": {\"automargin\": true, \"gridcolor\": \"white\", \"linecolor\": \"white\", \"ticks\": \"\", \"title\": {\"standoff\": 15}, \"zerolinecolor\": \"white\", \"zerolinewidth\": 2}}}},\n",
       "                        {\"responsive\": true}\n",
       "                    ).then(function(){\n",
       "                            \n",
       "var gd = document.getElementById('5e3a83d9-a419-4e81-8337-3d3d7394ea6f');\n",
       "var x = new MutationObserver(function (mutations, observer) {{\n",
       "        var display = window.getComputedStyle(gd).display;\n",
       "        if (!display || display === 'none') {{\n",
       "            console.log([gd, 'removed!']);\n",
       "            Plotly.purge(gd);\n",
       "            observer.disconnect();\n",
       "        }}\n",
       "}});\n",
       "\n",
       "// Listen for the removal of the full notebook cells\n",
       "var notebookContainer = gd.closest('#notebook-container');\n",
       "if (notebookContainer) {{\n",
       "    x.observe(notebookContainer, {childList: true});\n",
       "}}\n",
       "\n",
       "// Listen for the clearing of the current output cell\n",
       "var outputEl = gd.closest('.output');\n",
       "if (outputEl) {{\n",
       "    x.observe(outputEl, {childList: true});\n",
       "}}\n",
       "\n",
       "                        })\n",
       "                };\n",
       "                });\n",
       "            </script>\n",
       "        </div>"
      ]
     },
     "metadata": {},
     "output_type": "display_data"
    }
   ],
   "source": [
    "import plotly.graph_objs as go\n",
    "import numpy as np\n",
    "\n",
    "x = np.random.randn(1000)\n",
    "y = np.random.randn(1000)\n",
    "iplot([go.Histogram2dContour(x=x, y=y, contours=dict(coloring='heatmap')),\n",
    "       go.Scatter(x=x, y=y, mode='markers', marker=dict(color='white', size=3, opacity=0.3))], show_link=False)"
   ]
  },
  {
   "cell_type": "markdown",
   "metadata": {},
   "source": [
    "## SCATTERPLOT"
   ]
  },
  {
   "cell_type": "code",
   "execution_count": 14,
   "metadata": {},
   "outputs": [],
   "source": [
    "import plotly.offline as py\n",
    "import plotly.graph_objs as go\n",
    "import numpy as np"
   ]
  },
  {
   "cell_type": "code",
   "execution_count": 17,
   "metadata": {},
   "outputs": [],
   "source": [
    "N = 100\n",
    "example_x = np.random.rand(N)\n",
    "example_y = np.random.rand(N)"
   ]
  },
  {
   "cell_type": "code",
   "execution_count": 18,
   "metadata": {},
   "outputs": [],
   "source": [
    "trace = go.Scatter(\n",
    "    x = example_x,\n",
    "    y = example_y,\n",
    "    mode = 'markers')"
   ]
  },
  {
   "cell_type": "code",
   "execution_count": 19,
   "metadata": {},
   "outputs": [
    {
     "data": {
      "application/vnd.plotly.v1+json": {
       "config": {
        "linkText": "Export to plot.ly",
        "plotlyServerURL": "https://plot.ly",
        "showLink": false
       },
       "data": [
        {
         "mode": "markers",
         "type": "scatter",
         "x": [
          0.9361342707654005,
          0.39188648296176054,
          0.39688087993138355,
          0.49426091230272984,
          0.47132485732797136,
          0.29485826312103347,
          0.2748930333626718,
          0.2971694517244736,
          0.08514328804407079,
          0.9497465637863998,
          0.026771238764786265,
          0.7163907951338616,
          0.12493556078481394,
          0.4906408642806557,
          0.09222612991808887,
          0.8950923718320764,
          0.12315528208362414,
          0.9771556142553715,
          0.9579818054250403,
          0.6965484442626221,
          0.18548235519974077,
          0.8292530483299637,
          0.6029062689901774,
          0.1724268387906781,
          0.006332121001940916,
          0.3889344993865971,
          0.3387922580500149,
          0.9754514908029693,
          0.9524115451017551,
          0.6123747054793314,
          0.5322147997469738,
          0.25611477889233025,
          0.24218334051269985,
          0.74765400783558,
          0.7081341957243498,
          0.48045699504551376,
          0.7643463430790195,
          0.5656173272186237,
          0.3330789735796811,
          0.5442288283928637,
          0.6554659770303218,
          0.6868476761412722,
          0.33054960105540343,
          0.9570987913978851,
          0.8102797232824356,
          0.3535996058507149,
          0.5028819253061314,
          0.23115422862758217,
          0.3556070487286537,
          0.6065147418324647,
          0.17433021465856113,
          0.06453160775640499,
          0.6181838949690321,
          0.868648540108681,
          0.663252973858589,
          0.7439524627748406,
          0.2158478516086073,
          0.1437046353254111,
          0.618057878463785,
          0.5119093256237801,
          0.7528380617346985,
          0.45382715825032305,
          0.9568840500572171,
          0.30543051831321766,
          0.7987663561087641,
          0.5302516115599617,
          0.765445775986766,
          0.7480914777613433,
          0.21372712203653388,
          0.3301436768958468,
          0.579157413615233,
          0.3349352629491903,
          0.8123966763315876,
          0.07939910774327219,
          0.3281600927592865,
          0.6916996983000036,
          0.14071312006591696,
          0.1915978223715752,
          0.06184283409318969,
          0.4072521302235722,
          0.14906663849633095,
          0.2319288679267444,
          0.19680530391636364,
          0.06133358604052863,
          0.1095975349875753,
          0.7600558189602775,
          0.7671698864771148,
          0.08753117639083863,
          0.7671012265188994,
          0.7671266425946021,
          0.5402640522458986,
          0.8971674607386839,
          0.8017167183656061,
          0.7247797997073603,
          0.70545298793094,
          0.2797700739480413,
          0.7663953469098115,
          0.33797691134122454,
          0.8141791651383239,
          0.6426353545957965
         ],
         "y": [
          0.5233710482215883,
          0.8871313149772598,
          0.28940004011706355,
          0.013808621951574174,
          0.9801696404348781,
          0.5331550453208026,
          0.014498101663044105,
          0.2076550957113138,
          0.38703259917963917,
          0.9646700999473322,
          0.8885265173399203,
          0.6531841233787539,
          0.8243322211209472,
          0.3520247510274168,
          0.8432995065484962,
          0.3575752938510164,
          0.5354244062664267,
          0.30137112317392234,
          0.6206915832897509,
          0.45690996753962243,
          0.06414173353631247,
          0.512889126115348,
          0.8989604479176029,
          0.5303173831538651,
          0.7044504469914773,
          0.5731950031643748,
          0.28345525222911505,
          0.8259150473155145,
          0.08486170173132146,
          0.16157137019843693,
          0.5725560784111935,
          0.91836520348283,
          0.8830798220480742,
          0.24342036083757013,
          0.8203625833129161,
          0.8849074665854656,
          0.4618187278347541,
          0.770477879995671,
          0.9944967327878798,
          0.46920664929156464,
          0.3285254897687998,
          0.1098448700871052,
          0.23038484465343012,
          0.19429771290456466,
          0.8284113538303696,
          0.34248326339829827,
          0.2002100988444634,
          0.5539880525648881,
          0.24187917724394026,
          0.6699472224521223,
          0.7620873241952206,
          0.9157959538780651,
          0.973186713495643,
          0.9783110947794692,
          0.8820283735540528,
          0.221030311230335,
          0.6336698583477481,
          0.29103570165373427,
          0.3061215753628048,
          0.10864547117182011,
          0.6099701730241947,
          0.5883380244654104,
          0.19480803892680643,
          0.9209806057150569,
          0.7370686301277385,
          0.10799655833173494,
          0.27130162587400275,
          0.7862150519674512,
          0.25088530815294097,
          0.9977743704786014,
          0.9613183099684249,
          0.4773163785055001,
          0.8721947862784389,
          0.4051718713220104,
          0.9053640114025909,
          0.5650893404986098,
          0.1429702191878306,
          0.23822646319034602,
          0.6601181286703169,
          0.6339089431269537,
          0.5591416011355539,
          0.1035594951304123,
          0.2672538200414125,
          0.4951695005219755,
          0.6532252434227382,
          0.2883443890430465,
          0.8786950017174482,
          0.9195629959124831,
          0.8145367354495217,
          0.030884770946566498,
          0.5644165338792384,
          0.5915841145281373,
          0.7169481298193244,
          0.19550849245752444,
          0.14168147561677158,
          0.7444144370060716,
          0.11229165148917508,
          0.6022201754238093,
          0.06179574359546269,
          0.548865967398267
         ]
        }
       ],
       "layout": {
        "template": {
         "data": {
          "bar": [
           {
            "error_x": {
             "color": "#2a3f5f"
            },
            "error_y": {
             "color": "#2a3f5f"
            },
            "marker": {
             "line": {
              "color": "#E5ECF6",
              "width": 0.5
             }
            },
            "type": "bar"
           }
          ],
          "barpolar": [
           {
            "marker": {
             "line": {
              "color": "#E5ECF6",
              "width": 0.5
             }
            },
            "type": "barpolar"
           }
          ],
          "carpet": [
           {
            "aaxis": {
             "endlinecolor": "#2a3f5f",
             "gridcolor": "white",
             "linecolor": "white",
             "minorgridcolor": "white",
             "startlinecolor": "#2a3f5f"
            },
            "baxis": {
             "endlinecolor": "#2a3f5f",
             "gridcolor": "white",
             "linecolor": "white",
             "minorgridcolor": "white",
             "startlinecolor": "#2a3f5f"
            },
            "type": "carpet"
           }
          ],
          "choropleth": [
           {
            "colorbar": {
             "outlinewidth": 0,
             "ticks": ""
            },
            "type": "choropleth"
           }
          ],
          "contour": [
           {
            "colorbar": {
             "outlinewidth": 0,
             "ticks": ""
            },
            "colorscale": [
             [
              0,
              "#0d0887"
             ],
             [
              0.1111111111111111,
              "#46039f"
             ],
             [
              0.2222222222222222,
              "#7201a8"
             ],
             [
              0.3333333333333333,
              "#9c179e"
             ],
             [
              0.4444444444444444,
              "#bd3786"
             ],
             [
              0.5555555555555556,
              "#d8576b"
             ],
             [
              0.6666666666666666,
              "#ed7953"
             ],
             [
              0.7777777777777778,
              "#fb9f3a"
             ],
             [
              0.8888888888888888,
              "#fdca26"
             ],
             [
              1,
              "#f0f921"
             ]
            ],
            "type": "contour"
           }
          ],
          "contourcarpet": [
           {
            "colorbar": {
             "outlinewidth": 0,
             "ticks": ""
            },
            "type": "contourcarpet"
           }
          ],
          "heatmap": [
           {
            "colorbar": {
             "outlinewidth": 0,
             "ticks": ""
            },
            "colorscale": [
             [
              0,
              "#0d0887"
             ],
             [
              0.1111111111111111,
              "#46039f"
             ],
             [
              0.2222222222222222,
              "#7201a8"
             ],
             [
              0.3333333333333333,
              "#9c179e"
             ],
             [
              0.4444444444444444,
              "#bd3786"
             ],
             [
              0.5555555555555556,
              "#d8576b"
             ],
             [
              0.6666666666666666,
              "#ed7953"
             ],
             [
              0.7777777777777778,
              "#fb9f3a"
             ],
             [
              0.8888888888888888,
              "#fdca26"
             ],
             [
              1,
              "#f0f921"
             ]
            ],
            "type": "heatmap"
           }
          ],
          "heatmapgl": [
           {
            "colorbar": {
             "outlinewidth": 0,
             "ticks": ""
            },
            "colorscale": [
             [
              0,
              "#0d0887"
             ],
             [
              0.1111111111111111,
              "#46039f"
             ],
             [
              0.2222222222222222,
              "#7201a8"
             ],
             [
              0.3333333333333333,
              "#9c179e"
             ],
             [
              0.4444444444444444,
              "#bd3786"
             ],
             [
              0.5555555555555556,
              "#d8576b"
             ],
             [
              0.6666666666666666,
              "#ed7953"
             ],
             [
              0.7777777777777778,
              "#fb9f3a"
             ],
             [
              0.8888888888888888,
              "#fdca26"
             ],
             [
              1,
              "#f0f921"
             ]
            ],
            "type": "heatmapgl"
           }
          ],
          "histogram": [
           {
            "marker": {
             "colorbar": {
              "outlinewidth": 0,
              "ticks": ""
             }
            },
            "type": "histogram"
           }
          ],
          "histogram2d": [
           {
            "colorbar": {
             "outlinewidth": 0,
             "ticks": ""
            },
            "colorscale": [
             [
              0,
              "#0d0887"
             ],
             [
              0.1111111111111111,
              "#46039f"
             ],
             [
              0.2222222222222222,
              "#7201a8"
             ],
             [
              0.3333333333333333,
              "#9c179e"
             ],
             [
              0.4444444444444444,
              "#bd3786"
             ],
             [
              0.5555555555555556,
              "#d8576b"
             ],
             [
              0.6666666666666666,
              "#ed7953"
             ],
             [
              0.7777777777777778,
              "#fb9f3a"
             ],
             [
              0.8888888888888888,
              "#fdca26"
             ],
             [
              1,
              "#f0f921"
             ]
            ],
            "type": "histogram2d"
           }
          ],
          "histogram2dcontour": [
           {
            "colorbar": {
             "outlinewidth": 0,
             "ticks": ""
            },
            "colorscale": [
             [
              0,
              "#0d0887"
             ],
             [
              0.1111111111111111,
              "#46039f"
             ],
             [
              0.2222222222222222,
              "#7201a8"
             ],
             [
              0.3333333333333333,
              "#9c179e"
             ],
             [
              0.4444444444444444,
              "#bd3786"
             ],
             [
              0.5555555555555556,
              "#d8576b"
             ],
             [
              0.6666666666666666,
              "#ed7953"
             ],
             [
              0.7777777777777778,
              "#fb9f3a"
             ],
             [
              0.8888888888888888,
              "#fdca26"
             ],
             [
              1,
              "#f0f921"
             ]
            ],
            "type": "histogram2dcontour"
           }
          ],
          "mesh3d": [
           {
            "colorbar": {
             "outlinewidth": 0,
             "ticks": ""
            },
            "type": "mesh3d"
           }
          ],
          "parcoords": [
           {
            "line": {
             "colorbar": {
              "outlinewidth": 0,
              "ticks": ""
             }
            },
            "type": "parcoords"
           }
          ],
          "pie": [
           {
            "automargin": true,
            "type": "pie"
           }
          ],
          "scatter": [
           {
            "marker": {
             "colorbar": {
              "outlinewidth": 0,
              "ticks": ""
             }
            },
            "type": "scatter"
           }
          ],
          "scatter3d": [
           {
            "line": {
             "colorbar": {
              "outlinewidth": 0,
              "ticks": ""
             }
            },
            "marker": {
             "colorbar": {
              "outlinewidth": 0,
              "ticks": ""
             }
            },
            "type": "scatter3d"
           }
          ],
          "scattercarpet": [
           {
            "marker": {
             "colorbar": {
              "outlinewidth": 0,
              "ticks": ""
             }
            },
            "type": "scattercarpet"
           }
          ],
          "scattergeo": [
           {
            "marker": {
             "colorbar": {
              "outlinewidth": 0,
              "ticks": ""
             }
            },
            "type": "scattergeo"
           }
          ],
          "scattergl": [
           {
            "marker": {
             "colorbar": {
              "outlinewidth": 0,
              "ticks": ""
             }
            },
            "type": "scattergl"
           }
          ],
          "scattermapbox": [
           {
            "marker": {
             "colorbar": {
              "outlinewidth": 0,
              "ticks": ""
             }
            },
            "type": "scattermapbox"
           }
          ],
          "scatterpolar": [
           {
            "marker": {
             "colorbar": {
              "outlinewidth": 0,
              "ticks": ""
             }
            },
            "type": "scatterpolar"
           }
          ],
          "scatterpolargl": [
           {
            "marker": {
             "colorbar": {
              "outlinewidth": 0,
              "ticks": ""
             }
            },
            "type": "scatterpolargl"
           }
          ],
          "scatterternary": [
           {
            "marker": {
             "colorbar": {
              "outlinewidth": 0,
              "ticks": ""
             }
            },
            "type": "scatterternary"
           }
          ],
          "surface": [
           {
            "colorbar": {
             "outlinewidth": 0,
             "ticks": ""
            },
            "colorscale": [
             [
              0,
              "#0d0887"
             ],
             [
              0.1111111111111111,
              "#46039f"
             ],
             [
              0.2222222222222222,
              "#7201a8"
             ],
             [
              0.3333333333333333,
              "#9c179e"
             ],
             [
              0.4444444444444444,
              "#bd3786"
             ],
             [
              0.5555555555555556,
              "#d8576b"
             ],
             [
              0.6666666666666666,
              "#ed7953"
             ],
             [
              0.7777777777777778,
              "#fb9f3a"
             ],
             [
              0.8888888888888888,
              "#fdca26"
             ],
             [
              1,
              "#f0f921"
             ]
            ],
            "type": "surface"
           }
          ],
          "table": [
           {
            "cells": {
             "fill": {
              "color": "#EBF0F8"
             },
             "line": {
              "color": "white"
             }
            },
            "header": {
             "fill": {
              "color": "#C8D4E3"
             },
             "line": {
              "color": "white"
             }
            },
            "type": "table"
           }
          ]
         },
         "layout": {
          "annotationdefaults": {
           "arrowcolor": "#2a3f5f",
           "arrowhead": 0,
           "arrowwidth": 1
          },
          "coloraxis": {
           "colorbar": {
            "outlinewidth": 0,
            "ticks": ""
           }
          },
          "colorscale": {
           "diverging": [
            [
             0,
             "#8e0152"
            ],
            [
             0.1,
             "#c51b7d"
            ],
            [
             0.2,
             "#de77ae"
            ],
            [
             0.3,
             "#f1b6da"
            ],
            [
             0.4,
             "#fde0ef"
            ],
            [
             0.5,
             "#f7f7f7"
            ],
            [
             0.6,
             "#e6f5d0"
            ],
            [
             0.7,
             "#b8e186"
            ],
            [
             0.8,
             "#7fbc41"
            ],
            [
             0.9,
             "#4d9221"
            ],
            [
             1,
             "#276419"
            ]
           ],
           "sequential": [
            [
             0,
             "#0d0887"
            ],
            [
             0.1111111111111111,
             "#46039f"
            ],
            [
             0.2222222222222222,
             "#7201a8"
            ],
            [
             0.3333333333333333,
             "#9c179e"
            ],
            [
             0.4444444444444444,
             "#bd3786"
            ],
            [
             0.5555555555555556,
             "#d8576b"
            ],
            [
             0.6666666666666666,
             "#ed7953"
            ],
            [
             0.7777777777777778,
             "#fb9f3a"
            ],
            [
             0.8888888888888888,
             "#fdca26"
            ],
            [
             1,
             "#f0f921"
            ]
           ],
           "sequentialminus": [
            [
             0,
             "#0d0887"
            ],
            [
             0.1111111111111111,
             "#46039f"
            ],
            [
             0.2222222222222222,
             "#7201a8"
            ],
            [
             0.3333333333333333,
             "#9c179e"
            ],
            [
             0.4444444444444444,
             "#bd3786"
            ],
            [
             0.5555555555555556,
             "#d8576b"
            ],
            [
             0.6666666666666666,
             "#ed7953"
            ],
            [
             0.7777777777777778,
             "#fb9f3a"
            ],
            [
             0.8888888888888888,
             "#fdca26"
            ],
            [
             1,
             "#f0f921"
            ]
           ]
          },
          "colorway": [
           "#636efa",
           "#EF553B",
           "#00cc96",
           "#ab63fa",
           "#FFA15A",
           "#19d3f3",
           "#FF6692",
           "#B6E880",
           "#FF97FF",
           "#FECB52"
          ],
          "font": {
           "color": "#2a3f5f"
          },
          "geo": {
           "bgcolor": "white",
           "lakecolor": "white",
           "landcolor": "#E5ECF6",
           "showlakes": true,
           "showland": true,
           "subunitcolor": "white"
          },
          "hoverlabel": {
           "align": "left"
          },
          "hovermode": "closest",
          "mapbox": {
           "style": "light"
          },
          "paper_bgcolor": "white",
          "plot_bgcolor": "#E5ECF6",
          "polar": {
           "angularaxis": {
            "gridcolor": "white",
            "linecolor": "white",
            "ticks": ""
           },
           "bgcolor": "#E5ECF6",
           "radialaxis": {
            "gridcolor": "white",
            "linecolor": "white",
            "ticks": ""
           }
          },
          "scene": {
           "xaxis": {
            "backgroundcolor": "#E5ECF6",
            "gridcolor": "white",
            "gridwidth": 2,
            "linecolor": "white",
            "showbackground": true,
            "ticks": "",
            "zerolinecolor": "white"
           },
           "yaxis": {
            "backgroundcolor": "#E5ECF6",
            "gridcolor": "white",
            "gridwidth": 2,
            "linecolor": "white",
            "showbackground": true,
            "ticks": "",
            "zerolinecolor": "white"
           },
           "zaxis": {
            "backgroundcolor": "#E5ECF6",
            "gridcolor": "white",
            "gridwidth": 2,
            "linecolor": "white",
            "showbackground": true,
            "ticks": "",
            "zerolinecolor": "white"
           }
          },
          "shapedefaults": {
           "line": {
            "color": "#2a3f5f"
           }
          },
          "ternary": {
           "aaxis": {
            "gridcolor": "white",
            "linecolor": "white",
            "ticks": ""
           },
           "baxis": {
            "gridcolor": "white",
            "linecolor": "white",
            "ticks": ""
           },
           "bgcolor": "#E5ECF6",
           "caxis": {
            "gridcolor": "white",
            "linecolor": "white",
            "ticks": ""
           }
          },
          "title": {
           "x": 0.05
          },
          "xaxis": {
           "automargin": true,
           "gridcolor": "white",
           "linecolor": "white",
           "ticks": "",
           "title": {
            "standoff": 15
           },
           "zerolinecolor": "white",
           "zerolinewidth": 2
          },
          "yaxis": {
           "automargin": true,
           "gridcolor": "white",
           "linecolor": "white",
           "ticks": "",
           "title": {
            "standoff": 15
           },
           "zerolinecolor": "white",
           "zerolinewidth": 2
          }
         }
        }
       }
      },
      "text/html": [
       "<div>\n",
       "        \n",
       "        \n",
       "            <div id=\"9960b0d6-ae8e-42e7-bff6-871b4004a137\" class=\"plotly-graph-div\" style=\"height:525px; width:100%;\"></div>\n",
       "            <script type=\"text/javascript\">\n",
       "                require([\"plotly\"], function(Plotly) {\n",
       "                    window.PLOTLYENV=window.PLOTLYENV || {};\n",
       "                    \n",
       "                if (document.getElementById(\"9960b0d6-ae8e-42e7-bff6-871b4004a137\")) {\n",
       "                    Plotly.newPlot(\n",
       "                        '9960b0d6-ae8e-42e7-bff6-871b4004a137',\n",
       "                        [{\"mode\": \"markers\", \"type\": \"scatter\", \"x\": [0.9361342707654005, 0.39188648296176054, 0.39688087993138355, 0.49426091230272984, 0.47132485732797136, 0.29485826312103347, 0.2748930333626718, 0.2971694517244736, 0.08514328804407079, 0.9497465637863998, 0.026771238764786265, 0.7163907951338616, 0.12493556078481394, 0.4906408642806557, 0.09222612991808887, 0.8950923718320764, 0.12315528208362414, 0.9771556142553715, 0.9579818054250403, 0.6965484442626221, 0.18548235519974077, 0.8292530483299637, 0.6029062689901774, 0.1724268387906781, 0.006332121001940916, 0.3889344993865971, 0.3387922580500149, 0.9754514908029693, 0.9524115451017551, 0.6123747054793314, 0.5322147997469738, 0.25611477889233025, 0.24218334051269985, 0.74765400783558, 0.7081341957243498, 0.48045699504551376, 0.7643463430790195, 0.5656173272186237, 0.3330789735796811, 0.5442288283928637, 0.6554659770303218, 0.6868476761412722, 0.33054960105540343, 0.9570987913978851, 0.8102797232824356, 0.3535996058507149, 0.5028819253061314, 0.23115422862758217, 0.3556070487286537, 0.6065147418324647, 0.17433021465856113, 0.06453160775640499, 0.6181838949690321, 0.868648540108681, 0.663252973858589, 0.7439524627748406, 0.2158478516086073, 0.1437046353254111, 0.618057878463785, 0.5119093256237801, 0.7528380617346985, 0.45382715825032305, 0.9568840500572171, 0.30543051831321766, 0.7987663561087641, 0.5302516115599617, 0.765445775986766, 0.7480914777613433, 0.21372712203653388, 0.3301436768958468, 0.579157413615233, 0.3349352629491903, 0.8123966763315876, 0.07939910774327219, 0.3281600927592865, 0.6916996983000036, 0.14071312006591696, 0.1915978223715752, 0.06184283409318969, 0.4072521302235722, 0.14906663849633095, 0.2319288679267444, 0.19680530391636364, 0.06133358604052863, 0.1095975349875753, 0.7600558189602775, 0.7671698864771148, 0.08753117639083863, 0.7671012265188994, 0.7671266425946021, 0.5402640522458986, 0.8971674607386839, 0.8017167183656061, 0.7247797997073603, 0.70545298793094, 0.2797700739480413, 0.7663953469098115, 0.33797691134122454, 0.8141791651383239, 0.6426353545957965], \"y\": [0.5233710482215883, 0.8871313149772598, 0.28940004011706355, 0.013808621951574174, 0.9801696404348781, 0.5331550453208026, 0.014498101663044105, 0.2076550957113138, 0.38703259917963917, 0.9646700999473322, 0.8885265173399203, 0.6531841233787539, 0.8243322211209472, 0.3520247510274168, 0.8432995065484962, 0.3575752938510164, 0.5354244062664267, 0.30137112317392234, 0.6206915832897509, 0.45690996753962243, 0.06414173353631247, 0.512889126115348, 0.8989604479176029, 0.5303173831538651, 0.7044504469914773, 0.5731950031643748, 0.28345525222911505, 0.8259150473155145, 0.08486170173132146, 0.16157137019843693, 0.5725560784111935, 0.91836520348283, 0.8830798220480742, 0.24342036083757013, 0.8203625833129161, 0.8849074665854656, 0.4618187278347541, 0.770477879995671, 0.9944967327878798, 0.46920664929156464, 0.3285254897687998, 0.1098448700871052, 0.23038484465343012, 0.19429771290456466, 0.8284113538303696, 0.34248326339829827, 0.2002100988444634, 0.5539880525648881, 0.24187917724394026, 0.6699472224521223, 0.7620873241952206, 0.9157959538780651, 0.973186713495643, 0.9783110947794692, 0.8820283735540528, 0.221030311230335, 0.6336698583477481, 0.29103570165373427, 0.3061215753628048, 0.10864547117182011, 0.6099701730241947, 0.5883380244654104, 0.19480803892680643, 0.9209806057150569, 0.7370686301277385, 0.10799655833173494, 0.27130162587400275, 0.7862150519674512, 0.25088530815294097, 0.9977743704786014, 0.9613183099684249, 0.4773163785055001, 0.8721947862784389, 0.4051718713220104, 0.9053640114025909, 0.5650893404986098, 0.1429702191878306, 0.23822646319034602, 0.6601181286703169, 0.6339089431269537, 0.5591416011355539, 0.1035594951304123, 0.2672538200414125, 0.4951695005219755, 0.6532252434227382, 0.2883443890430465, 0.8786950017174482, 0.9195629959124831, 0.8145367354495217, 0.030884770946566498, 0.5644165338792384, 0.5915841145281373, 0.7169481298193244, 0.19550849245752444, 0.14168147561677158, 0.7444144370060716, 0.11229165148917508, 0.6022201754238093, 0.06179574359546269, 0.548865967398267]}],\n",
       "                        {\"template\": {\"data\": {\"bar\": [{\"error_x\": {\"color\": \"#2a3f5f\"}, \"error_y\": {\"color\": \"#2a3f5f\"}, \"marker\": {\"line\": {\"color\": \"#E5ECF6\", \"width\": 0.5}}, \"type\": \"bar\"}], \"barpolar\": [{\"marker\": {\"line\": {\"color\": \"#E5ECF6\", \"width\": 0.5}}, \"type\": \"barpolar\"}], \"carpet\": [{\"aaxis\": {\"endlinecolor\": \"#2a3f5f\", \"gridcolor\": \"white\", \"linecolor\": \"white\", \"minorgridcolor\": \"white\", \"startlinecolor\": \"#2a3f5f\"}, \"baxis\": {\"endlinecolor\": \"#2a3f5f\", \"gridcolor\": \"white\", \"linecolor\": \"white\", \"minorgridcolor\": \"white\", \"startlinecolor\": \"#2a3f5f\"}, \"type\": \"carpet\"}], \"choropleth\": [{\"colorbar\": {\"outlinewidth\": 0, \"ticks\": \"\"}, \"type\": \"choropleth\"}], \"contour\": [{\"colorbar\": {\"outlinewidth\": 0, \"ticks\": \"\"}, \"colorscale\": [[0.0, \"#0d0887\"], [0.1111111111111111, \"#46039f\"], [0.2222222222222222, \"#7201a8\"], [0.3333333333333333, \"#9c179e\"], [0.4444444444444444, \"#bd3786\"], [0.5555555555555556, \"#d8576b\"], [0.6666666666666666, \"#ed7953\"], [0.7777777777777778, \"#fb9f3a\"], [0.8888888888888888, \"#fdca26\"], [1.0, \"#f0f921\"]], \"type\": \"contour\"}], \"contourcarpet\": [{\"colorbar\": {\"outlinewidth\": 0, \"ticks\": \"\"}, \"type\": \"contourcarpet\"}], \"heatmap\": [{\"colorbar\": {\"outlinewidth\": 0, \"ticks\": \"\"}, \"colorscale\": [[0.0, \"#0d0887\"], [0.1111111111111111, \"#46039f\"], [0.2222222222222222, \"#7201a8\"], [0.3333333333333333, \"#9c179e\"], [0.4444444444444444, \"#bd3786\"], [0.5555555555555556, \"#d8576b\"], [0.6666666666666666, \"#ed7953\"], [0.7777777777777778, \"#fb9f3a\"], [0.8888888888888888, \"#fdca26\"], [1.0, \"#f0f921\"]], \"type\": \"heatmap\"}], \"heatmapgl\": [{\"colorbar\": {\"outlinewidth\": 0, \"ticks\": \"\"}, \"colorscale\": [[0.0, \"#0d0887\"], [0.1111111111111111, \"#46039f\"], [0.2222222222222222, \"#7201a8\"], [0.3333333333333333, \"#9c179e\"], [0.4444444444444444, \"#bd3786\"], [0.5555555555555556, \"#d8576b\"], [0.6666666666666666, \"#ed7953\"], [0.7777777777777778, \"#fb9f3a\"], [0.8888888888888888, \"#fdca26\"], [1.0, \"#f0f921\"]], \"type\": \"heatmapgl\"}], \"histogram\": [{\"marker\": {\"colorbar\": {\"outlinewidth\": 0, \"ticks\": \"\"}}, \"type\": \"histogram\"}], \"histogram2d\": [{\"colorbar\": {\"outlinewidth\": 0, \"ticks\": \"\"}, \"colorscale\": [[0.0, \"#0d0887\"], [0.1111111111111111, \"#46039f\"], [0.2222222222222222, \"#7201a8\"], [0.3333333333333333, \"#9c179e\"], [0.4444444444444444, \"#bd3786\"], [0.5555555555555556, \"#d8576b\"], [0.6666666666666666, \"#ed7953\"], [0.7777777777777778, \"#fb9f3a\"], [0.8888888888888888, \"#fdca26\"], [1.0, \"#f0f921\"]], \"type\": \"histogram2d\"}], \"histogram2dcontour\": [{\"colorbar\": {\"outlinewidth\": 0, \"ticks\": \"\"}, \"colorscale\": [[0.0, \"#0d0887\"], [0.1111111111111111, \"#46039f\"], [0.2222222222222222, \"#7201a8\"], [0.3333333333333333, \"#9c179e\"], [0.4444444444444444, \"#bd3786\"], [0.5555555555555556, \"#d8576b\"], [0.6666666666666666, \"#ed7953\"], [0.7777777777777778, \"#fb9f3a\"], [0.8888888888888888, \"#fdca26\"], [1.0, \"#f0f921\"]], \"type\": \"histogram2dcontour\"}], \"mesh3d\": [{\"colorbar\": {\"outlinewidth\": 0, \"ticks\": \"\"}, \"type\": \"mesh3d\"}], \"parcoords\": [{\"line\": {\"colorbar\": {\"outlinewidth\": 0, \"ticks\": \"\"}}, \"type\": \"parcoords\"}], \"pie\": [{\"automargin\": true, \"type\": \"pie\"}], \"scatter\": [{\"marker\": {\"colorbar\": {\"outlinewidth\": 0, \"ticks\": \"\"}}, \"type\": \"scatter\"}], \"scatter3d\": [{\"line\": {\"colorbar\": {\"outlinewidth\": 0, \"ticks\": \"\"}}, \"marker\": {\"colorbar\": {\"outlinewidth\": 0, \"ticks\": \"\"}}, \"type\": \"scatter3d\"}], \"scattercarpet\": [{\"marker\": {\"colorbar\": {\"outlinewidth\": 0, \"ticks\": \"\"}}, \"type\": \"scattercarpet\"}], \"scattergeo\": [{\"marker\": {\"colorbar\": {\"outlinewidth\": 0, \"ticks\": \"\"}}, \"type\": \"scattergeo\"}], \"scattergl\": [{\"marker\": {\"colorbar\": {\"outlinewidth\": 0, \"ticks\": \"\"}}, \"type\": \"scattergl\"}], \"scattermapbox\": [{\"marker\": {\"colorbar\": {\"outlinewidth\": 0, \"ticks\": \"\"}}, \"type\": \"scattermapbox\"}], \"scatterpolar\": [{\"marker\": {\"colorbar\": {\"outlinewidth\": 0, \"ticks\": \"\"}}, \"type\": \"scatterpolar\"}], \"scatterpolargl\": [{\"marker\": {\"colorbar\": {\"outlinewidth\": 0, \"ticks\": \"\"}}, \"type\": \"scatterpolargl\"}], \"scatterternary\": [{\"marker\": {\"colorbar\": {\"outlinewidth\": 0, \"ticks\": \"\"}}, \"type\": \"scatterternary\"}], \"surface\": [{\"colorbar\": {\"outlinewidth\": 0, \"ticks\": \"\"}, \"colorscale\": [[0.0, \"#0d0887\"], [0.1111111111111111, \"#46039f\"], [0.2222222222222222, \"#7201a8\"], [0.3333333333333333, \"#9c179e\"], [0.4444444444444444, \"#bd3786\"], [0.5555555555555556, \"#d8576b\"], [0.6666666666666666, \"#ed7953\"], [0.7777777777777778, \"#fb9f3a\"], [0.8888888888888888, \"#fdca26\"], [1.0, \"#f0f921\"]], \"type\": \"surface\"}], \"table\": [{\"cells\": {\"fill\": {\"color\": \"#EBF0F8\"}, \"line\": {\"color\": \"white\"}}, \"header\": {\"fill\": {\"color\": \"#C8D4E3\"}, \"line\": {\"color\": \"white\"}}, \"type\": \"table\"}]}, \"layout\": {\"annotationdefaults\": {\"arrowcolor\": \"#2a3f5f\", \"arrowhead\": 0, \"arrowwidth\": 1}, \"coloraxis\": {\"colorbar\": {\"outlinewidth\": 0, \"ticks\": \"\"}}, \"colorscale\": {\"diverging\": [[0, \"#8e0152\"], [0.1, \"#c51b7d\"], [0.2, \"#de77ae\"], [0.3, \"#f1b6da\"], [0.4, \"#fde0ef\"], [0.5, \"#f7f7f7\"], [0.6, \"#e6f5d0\"], [0.7, \"#b8e186\"], [0.8, \"#7fbc41\"], [0.9, \"#4d9221\"], [1, \"#276419\"]], \"sequential\": [[0.0, \"#0d0887\"], [0.1111111111111111, \"#46039f\"], [0.2222222222222222, \"#7201a8\"], [0.3333333333333333, \"#9c179e\"], [0.4444444444444444, \"#bd3786\"], [0.5555555555555556, \"#d8576b\"], [0.6666666666666666, \"#ed7953\"], [0.7777777777777778, \"#fb9f3a\"], [0.8888888888888888, \"#fdca26\"], [1.0, \"#f0f921\"]], \"sequentialminus\": [[0.0, \"#0d0887\"], [0.1111111111111111, \"#46039f\"], [0.2222222222222222, \"#7201a8\"], [0.3333333333333333, \"#9c179e\"], [0.4444444444444444, \"#bd3786\"], [0.5555555555555556, \"#d8576b\"], [0.6666666666666666, \"#ed7953\"], [0.7777777777777778, \"#fb9f3a\"], [0.8888888888888888, \"#fdca26\"], [1.0, \"#f0f921\"]]}, \"colorway\": [\"#636efa\", \"#EF553B\", \"#00cc96\", \"#ab63fa\", \"#FFA15A\", \"#19d3f3\", \"#FF6692\", \"#B6E880\", \"#FF97FF\", \"#FECB52\"], \"font\": {\"color\": \"#2a3f5f\"}, \"geo\": {\"bgcolor\": \"white\", \"lakecolor\": \"white\", \"landcolor\": \"#E5ECF6\", \"showlakes\": true, \"showland\": true, \"subunitcolor\": \"white\"}, \"hoverlabel\": {\"align\": \"left\"}, \"hovermode\": \"closest\", \"mapbox\": {\"style\": \"light\"}, \"paper_bgcolor\": \"white\", \"plot_bgcolor\": \"#E5ECF6\", \"polar\": {\"angularaxis\": {\"gridcolor\": \"white\", \"linecolor\": \"white\", \"ticks\": \"\"}, \"bgcolor\": \"#E5ECF6\", \"radialaxis\": {\"gridcolor\": \"white\", \"linecolor\": \"white\", \"ticks\": \"\"}}, \"scene\": {\"xaxis\": {\"backgroundcolor\": \"#E5ECF6\", \"gridcolor\": \"white\", \"gridwidth\": 2, \"linecolor\": \"white\", \"showbackground\": true, \"ticks\": \"\", \"zerolinecolor\": \"white\"}, \"yaxis\": {\"backgroundcolor\": \"#E5ECF6\", \"gridcolor\": \"white\", \"gridwidth\": 2, \"linecolor\": \"white\", \"showbackground\": true, \"ticks\": \"\", \"zerolinecolor\": \"white\"}, \"zaxis\": {\"backgroundcolor\": \"#E5ECF6\", \"gridcolor\": \"white\", \"gridwidth\": 2, \"linecolor\": \"white\", \"showbackground\": true, \"ticks\": \"\", \"zerolinecolor\": \"white\"}}, \"shapedefaults\": {\"line\": {\"color\": \"#2a3f5f\"}}, \"ternary\": {\"aaxis\": {\"gridcolor\": \"white\", \"linecolor\": \"white\", \"ticks\": \"\"}, \"baxis\": {\"gridcolor\": \"white\", \"linecolor\": \"white\", \"ticks\": \"\"}, \"bgcolor\": \"#E5ECF6\", \"caxis\": {\"gridcolor\": \"white\", \"linecolor\": \"white\", \"ticks\": \"\"}}, \"title\": {\"x\": 0.05}, \"xaxis\": {\"automargin\": true, \"gridcolor\": \"white\", \"linecolor\": \"white\", \"ticks\": \"\", \"title\": {\"standoff\": 15}, \"zerolinecolor\": \"white\", \"zerolinewidth\": 2}, \"yaxis\": {\"automargin\": true, \"gridcolor\": \"white\", \"linecolor\": \"white\", \"ticks\": \"\", \"title\": {\"standoff\": 15}, \"zerolinecolor\": \"white\", \"zerolinewidth\": 2}}}},\n",
       "                        {\"responsive\": true}\n",
       "                    ).then(function(){\n",
       "                            \n",
       "var gd = document.getElementById('9960b0d6-ae8e-42e7-bff6-871b4004a137');\n",
       "var x = new MutationObserver(function (mutations, observer) {{\n",
       "        var display = window.getComputedStyle(gd).display;\n",
       "        if (!display || display === 'none') {{\n",
       "            console.log([gd, 'removed!']);\n",
       "            Plotly.purge(gd);\n",
       "            observer.disconnect();\n",
       "        }}\n",
       "}});\n",
       "\n",
       "// Listen for the removal of the full notebook cells\n",
       "var notebookContainer = gd.closest('#notebook-container');\n",
       "if (notebookContainer) {{\n",
       "    x.observe(notebookContainer, {childList: true});\n",
       "}}\n",
       "\n",
       "// Listen for the clearing of the current output cell\n",
       "var outputEl = gd.closest('.output');\n",
       "if (outputEl) {{\n",
       "    x.observe(outputEl, {childList: true});\n",
       "}}\n",
       "\n",
       "                        })\n",
       "                };\n",
       "                });\n",
       "            </script>\n",
       "        </div>"
      ]
     },
     "metadata": {},
     "output_type": "display_data"
    }
   ],
   "source": [
    "data = [trace]\n",
    "iplot(data)"
   ]
  },
  {
   "cell_type": "markdown",
   "metadata": {},
   "source": [
    "## PIE CHART"
   ]
  },
  {
   "cell_type": "code",
   "execution_count": 23,
   "metadata": {},
   "outputs": [
    {
     "data": {
      "application/vnd.plotly.v1+json": {
       "config": {
        "linkText": "Export to plot.ly",
        "plotlyServerURL": "https://plot.ly",
        "showLink": false
       },
       "data": [
        {
         "hoverinfo": "label+percent",
         "labels": [
          "Rent",
          "Food",
          "Bills",
          "Utilities"
         ],
         "marker": {
          "colors": [
           "BLUE",
           "GREEN",
           "RED",
           "YELLOW"
          ],
          "line": {
           "color": "#000000",
           "width": 3
          }
         },
         "textfont": {
          "size": 25
         },
         "textinfo": "value",
         "type": "pie",
         "values": [
          1000,
          518,
          331,
          277
         ]
        }
       ],
       "layout": {
        "template": {
         "data": {
          "bar": [
           {
            "error_x": {
             "color": "#2a3f5f"
            },
            "error_y": {
             "color": "#2a3f5f"
            },
            "marker": {
             "line": {
              "color": "#E5ECF6",
              "width": 0.5
             }
            },
            "type": "bar"
           }
          ],
          "barpolar": [
           {
            "marker": {
             "line": {
              "color": "#E5ECF6",
              "width": 0.5
             }
            },
            "type": "barpolar"
           }
          ],
          "carpet": [
           {
            "aaxis": {
             "endlinecolor": "#2a3f5f",
             "gridcolor": "white",
             "linecolor": "white",
             "minorgridcolor": "white",
             "startlinecolor": "#2a3f5f"
            },
            "baxis": {
             "endlinecolor": "#2a3f5f",
             "gridcolor": "white",
             "linecolor": "white",
             "minorgridcolor": "white",
             "startlinecolor": "#2a3f5f"
            },
            "type": "carpet"
           }
          ],
          "choropleth": [
           {
            "colorbar": {
             "outlinewidth": 0,
             "ticks": ""
            },
            "type": "choropleth"
           }
          ],
          "contour": [
           {
            "colorbar": {
             "outlinewidth": 0,
             "ticks": ""
            },
            "colorscale": [
             [
              0,
              "#0d0887"
             ],
             [
              0.1111111111111111,
              "#46039f"
             ],
             [
              0.2222222222222222,
              "#7201a8"
             ],
             [
              0.3333333333333333,
              "#9c179e"
             ],
             [
              0.4444444444444444,
              "#bd3786"
             ],
             [
              0.5555555555555556,
              "#d8576b"
             ],
             [
              0.6666666666666666,
              "#ed7953"
             ],
             [
              0.7777777777777778,
              "#fb9f3a"
             ],
             [
              0.8888888888888888,
              "#fdca26"
             ],
             [
              1,
              "#f0f921"
             ]
            ],
            "type": "contour"
           }
          ],
          "contourcarpet": [
           {
            "colorbar": {
             "outlinewidth": 0,
             "ticks": ""
            },
            "type": "contourcarpet"
           }
          ],
          "heatmap": [
           {
            "colorbar": {
             "outlinewidth": 0,
             "ticks": ""
            },
            "colorscale": [
             [
              0,
              "#0d0887"
             ],
             [
              0.1111111111111111,
              "#46039f"
             ],
             [
              0.2222222222222222,
              "#7201a8"
             ],
             [
              0.3333333333333333,
              "#9c179e"
             ],
             [
              0.4444444444444444,
              "#bd3786"
             ],
             [
              0.5555555555555556,
              "#d8576b"
             ],
             [
              0.6666666666666666,
              "#ed7953"
             ],
             [
              0.7777777777777778,
              "#fb9f3a"
             ],
             [
              0.8888888888888888,
              "#fdca26"
             ],
             [
              1,
              "#f0f921"
             ]
            ],
            "type": "heatmap"
           }
          ],
          "heatmapgl": [
           {
            "colorbar": {
             "outlinewidth": 0,
             "ticks": ""
            },
            "colorscale": [
             [
              0,
              "#0d0887"
             ],
             [
              0.1111111111111111,
              "#46039f"
             ],
             [
              0.2222222222222222,
              "#7201a8"
             ],
             [
              0.3333333333333333,
              "#9c179e"
             ],
             [
              0.4444444444444444,
              "#bd3786"
             ],
             [
              0.5555555555555556,
              "#d8576b"
             ],
             [
              0.6666666666666666,
              "#ed7953"
             ],
             [
              0.7777777777777778,
              "#fb9f3a"
             ],
             [
              0.8888888888888888,
              "#fdca26"
             ],
             [
              1,
              "#f0f921"
             ]
            ],
            "type": "heatmapgl"
           }
          ],
          "histogram": [
           {
            "marker": {
             "colorbar": {
              "outlinewidth": 0,
              "ticks": ""
             }
            },
            "type": "histogram"
           }
          ],
          "histogram2d": [
           {
            "colorbar": {
             "outlinewidth": 0,
             "ticks": ""
            },
            "colorscale": [
             [
              0,
              "#0d0887"
             ],
             [
              0.1111111111111111,
              "#46039f"
             ],
             [
              0.2222222222222222,
              "#7201a8"
             ],
             [
              0.3333333333333333,
              "#9c179e"
             ],
             [
              0.4444444444444444,
              "#bd3786"
             ],
             [
              0.5555555555555556,
              "#d8576b"
             ],
             [
              0.6666666666666666,
              "#ed7953"
             ],
             [
              0.7777777777777778,
              "#fb9f3a"
             ],
             [
              0.8888888888888888,
              "#fdca26"
             ],
             [
              1,
              "#f0f921"
             ]
            ],
            "type": "histogram2d"
           }
          ],
          "histogram2dcontour": [
           {
            "colorbar": {
             "outlinewidth": 0,
             "ticks": ""
            },
            "colorscale": [
             [
              0,
              "#0d0887"
             ],
             [
              0.1111111111111111,
              "#46039f"
             ],
             [
              0.2222222222222222,
              "#7201a8"
             ],
             [
              0.3333333333333333,
              "#9c179e"
             ],
             [
              0.4444444444444444,
              "#bd3786"
             ],
             [
              0.5555555555555556,
              "#d8576b"
             ],
             [
              0.6666666666666666,
              "#ed7953"
             ],
             [
              0.7777777777777778,
              "#fb9f3a"
             ],
             [
              0.8888888888888888,
              "#fdca26"
             ],
             [
              1,
              "#f0f921"
             ]
            ],
            "type": "histogram2dcontour"
           }
          ],
          "mesh3d": [
           {
            "colorbar": {
             "outlinewidth": 0,
             "ticks": ""
            },
            "type": "mesh3d"
           }
          ],
          "parcoords": [
           {
            "line": {
             "colorbar": {
              "outlinewidth": 0,
              "ticks": ""
             }
            },
            "type": "parcoords"
           }
          ],
          "pie": [
           {
            "automargin": true,
            "type": "pie"
           }
          ],
          "scatter": [
           {
            "marker": {
             "colorbar": {
              "outlinewidth": 0,
              "ticks": ""
             }
            },
            "type": "scatter"
           }
          ],
          "scatter3d": [
           {
            "line": {
             "colorbar": {
              "outlinewidth": 0,
              "ticks": ""
             }
            },
            "marker": {
             "colorbar": {
              "outlinewidth": 0,
              "ticks": ""
             }
            },
            "type": "scatter3d"
           }
          ],
          "scattercarpet": [
           {
            "marker": {
             "colorbar": {
              "outlinewidth": 0,
              "ticks": ""
             }
            },
            "type": "scattercarpet"
           }
          ],
          "scattergeo": [
           {
            "marker": {
             "colorbar": {
              "outlinewidth": 0,
              "ticks": ""
             }
            },
            "type": "scattergeo"
           }
          ],
          "scattergl": [
           {
            "marker": {
             "colorbar": {
              "outlinewidth": 0,
              "ticks": ""
             }
            },
            "type": "scattergl"
           }
          ],
          "scattermapbox": [
           {
            "marker": {
             "colorbar": {
              "outlinewidth": 0,
              "ticks": ""
             }
            },
            "type": "scattermapbox"
           }
          ],
          "scatterpolar": [
           {
            "marker": {
             "colorbar": {
              "outlinewidth": 0,
              "ticks": ""
             }
            },
            "type": "scatterpolar"
           }
          ],
          "scatterpolargl": [
           {
            "marker": {
             "colorbar": {
              "outlinewidth": 0,
              "ticks": ""
             }
            },
            "type": "scatterpolargl"
           }
          ],
          "scatterternary": [
           {
            "marker": {
             "colorbar": {
              "outlinewidth": 0,
              "ticks": ""
             }
            },
            "type": "scatterternary"
           }
          ],
          "surface": [
           {
            "colorbar": {
             "outlinewidth": 0,
             "ticks": ""
            },
            "colorscale": [
             [
              0,
              "#0d0887"
             ],
             [
              0.1111111111111111,
              "#46039f"
             ],
             [
              0.2222222222222222,
              "#7201a8"
             ],
             [
              0.3333333333333333,
              "#9c179e"
             ],
             [
              0.4444444444444444,
              "#bd3786"
             ],
             [
              0.5555555555555556,
              "#d8576b"
             ],
             [
              0.6666666666666666,
              "#ed7953"
             ],
             [
              0.7777777777777778,
              "#fb9f3a"
             ],
             [
              0.8888888888888888,
              "#fdca26"
             ],
             [
              1,
              "#f0f921"
             ]
            ],
            "type": "surface"
           }
          ],
          "table": [
           {
            "cells": {
             "fill": {
              "color": "#EBF0F8"
             },
             "line": {
              "color": "white"
             }
            },
            "header": {
             "fill": {
              "color": "#C8D4E3"
             },
             "line": {
              "color": "white"
             }
            },
            "type": "table"
           }
          ]
         },
         "layout": {
          "annotationdefaults": {
           "arrowcolor": "#2a3f5f",
           "arrowhead": 0,
           "arrowwidth": 1
          },
          "coloraxis": {
           "colorbar": {
            "outlinewidth": 0,
            "ticks": ""
           }
          },
          "colorscale": {
           "diverging": [
            [
             0,
             "#8e0152"
            ],
            [
             0.1,
             "#c51b7d"
            ],
            [
             0.2,
             "#de77ae"
            ],
            [
             0.3,
             "#f1b6da"
            ],
            [
             0.4,
             "#fde0ef"
            ],
            [
             0.5,
             "#f7f7f7"
            ],
            [
             0.6,
             "#e6f5d0"
            ],
            [
             0.7,
             "#b8e186"
            ],
            [
             0.8,
             "#7fbc41"
            ],
            [
             0.9,
             "#4d9221"
            ],
            [
             1,
             "#276419"
            ]
           ],
           "sequential": [
            [
             0,
             "#0d0887"
            ],
            [
             0.1111111111111111,
             "#46039f"
            ],
            [
             0.2222222222222222,
             "#7201a8"
            ],
            [
             0.3333333333333333,
             "#9c179e"
            ],
            [
             0.4444444444444444,
             "#bd3786"
            ],
            [
             0.5555555555555556,
             "#d8576b"
            ],
            [
             0.6666666666666666,
             "#ed7953"
            ],
            [
             0.7777777777777778,
             "#fb9f3a"
            ],
            [
             0.8888888888888888,
             "#fdca26"
            ],
            [
             1,
             "#f0f921"
            ]
           ],
           "sequentialminus": [
            [
             0,
             "#0d0887"
            ],
            [
             0.1111111111111111,
             "#46039f"
            ],
            [
             0.2222222222222222,
             "#7201a8"
            ],
            [
             0.3333333333333333,
             "#9c179e"
            ],
            [
             0.4444444444444444,
             "#bd3786"
            ],
            [
             0.5555555555555556,
             "#d8576b"
            ],
            [
             0.6666666666666666,
             "#ed7953"
            ],
            [
             0.7777777777777778,
             "#fb9f3a"
            ],
            [
             0.8888888888888888,
             "#fdca26"
            ],
            [
             1,
             "#f0f921"
            ]
           ]
          },
          "colorway": [
           "#636efa",
           "#EF553B",
           "#00cc96",
           "#ab63fa",
           "#FFA15A",
           "#19d3f3",
           "#FF6692",
           "#B6E880",
           "#FF97FF",
           "#FECB52"
          ],
          "font": {
           "color": "#2a3f5f"
          },
          "geo": {
           "bgcolor": "white",
           "lakecolor": "white",
           "landcolor": "#E5ECF6",
           "showlakes": true,
           "showland": true,
           "subunitcolor": "white"
          },
          "hoverlabel": {
           "align": "left"
          },
          "hovermode": "closest",
          "mapbox": {
           "style": "light"
          },
          "paper_bgcolor": "white",
          "plot_bgcolor": "#E5ECF6",
          "polar": {
           "angularaxis": {
            "gridcolor": "white",
            "linecolor": "white",
            "ticks": ""
           },
           "bgcolor": "#E5ECF6",
           "radialaxis": {
            "gridcolor": "white",
            "linecolor": "white",
            "ticks": ""
           }
          },
          "scene": {
           "xaxis": {
            "backgroundcolor": "#E5ECF6",
            "gridcolor": "white",
            "gridwidth": 2,
            "linecolor": "white",
            "showbackground": true,
            "ticks": "",
            "zerolinecolor": "white"
           },
           "yaxis": {
            "backgroundcolor": "#E5ECF6",
            "gridcolor": "white",
            "gridwidth": 2,
            "linecolor": "white",
            "showbackground": true,
            "ticks": "",
            "zerolinecolor": "white"
           },
           "zaxis": {
            "backgroundcolor": "#E5ECF6",
            "gridcolor": "white",
            "gridwidth": 2,
            "linecolor": "white",
            "showbackground": true,
            "ticks": "",
            "zerolinecolor": "white"
           }
          },
          "shapedefaults": {
           "line": {
            "color": "#2a3f5f"
           }
          },
          "ternary": {
           "aaxis": {
            "gridcolor": "white",
            "linecolor": "white",
            "ticks": ""
           },
           "baxis": {
            "gridcolor": "white",
            "linecolor": "white",
            "ticks": ""
           },
           "bgcolor": "#E5ECF6",
           "caxis": {
            "gridcolor": "white",
            "linecolor": "white",
            "ticks": ""
           }
          },
          "title": {
           "x": 0.05
          },
          "xaxis": {
           "automargin": true,
           "gridcolor": "white",
           "linecolor": "white",
           "ticks": "",
           "title": {
            "standoff": 15
           },
           "zerolinecolor": "white",
           "zerolinewidth": 2
          },
          "yaxis": {
           "automargin": true,
           "gridcolor": "white",
           "linecolor": "white",
           "ticks": "",
           "title": {
            "standoff": 15
           },
           "zerolinecolor": "white",
           "zerolinewidth": 2
          }
         }
        }
       }
      },
      "text/html": [
       "<div>\n",
       "        \n",
       "        \n",
       "            <div id=\"03fd9a67-0bcb-4d0d-b810-3bc8baa6bdcf\" class=\"plotly-graph-div\" style=\"height:525px; width:100%;\"></div>\n",
       "            <script type=\"text/javascript\">\n",
       "                require([\"plotly\"], function(Plotly) {\n",
       "                    window.PLOTLYENV=window.PLOTLYENV || {};\n",
       "                    \n",
       "                if (document.getElementById(\"03fd9a67-0bcb-4d0d-b810-3bc8baa6bdcf\")) {\n",
       "                    Plotly.newPlot(\n",
       "                        '03fd9a67-0bcb-4d0d-b810-3bc8baa6bdcf',\n",
       "                        [{\"hoverinfo\": \"label+percent\", \"labels\": [\"Rent\", \"Food\", \"Bills\", \"Utilities\"], \"marker\": {\"colors\": [\"BLUE\", \"GREEN\", \"RED\", \"YELLOW\"], \"line\": {\"color\": \"#000000\", \"width\": 3}}, \"textfont\": {\"size\": 25}, \"textinfo\": \"value\", \"type\": \"pie\", \"values\": [1000, 518, 331, 277]}],\n",
       "                        {\"template\": {\"data\": {\"bar\": [{\"error_x\": {\"color\": \"#2a3f5f\"}, \"error_y\": {\"color\": \"#2a3f5f\"}, \"marker\": {\"line\": {\"color\": \"#E5ECF6\", \"width\": 0.5}}, \"type\": \"bar\"}], \"barpolar\": [{\"marker\": {\"line\": {\"color\": \"#E5ECF6\", \"width\": 0.5}}, \"type\": \"barpolar\"}], \"carpet\": [{\"aaxis\": {\"endlinecolor\": \"#2a3f5f\", \"gridcolor\": \"white\", \"linecolor\": \"white\", \"minorgridcolor\": \"white\", \"startlinecolor\": \"#2a3f5f\"}, \"baxis\": {\"endlinecolor\": \"#2a3f5f\", \"gridcolor\": \"white\", \"linecolor\": \"white\", \"minorgridcolor\": \"white\", \"startlinecolor\": \"#2a3f5f\"}, \"type\": \"carpet\"}], \"choropleth\": [{\"colorbar\": {\"outlinewidth\": 0, \"ticks\": \"\"}, \"type\": \"choropleth\"}], \"contour\": [{\"colorbar\": {\"outlinewidth\": 0, \"ticks\": \"\"}, \"colorscale\": [[0.0, \"#0d0887\"], [0.1111111111111111, \"#46039f\"], [0.2222222222222222, \"#7201a8\"], [0.3333333333333333, \"#9c179e\"], [0.4444444444444444, \"#bd3786\"], [0.5555555555555556, \"#d8576b\"], [0.6666666666666666, \"#ed7953\"], [0.7777777777777778, \"#fb9f3a\"], [0.8888888888888888, \"#fdca26\"], [1.0, \"#f0f921\"]], \"type\": \"contour\"}], \"contourcarpet\": [{\"colorbar\": {\"outlinewidth\": 0, \"ticks\": \"\"}, \"type\": \"contourcarpet\"}], \"heatmap\": [{\"colorbar\": {\"outlinewidth\": 0, \"ticks\": \"\"}, \"colorscale\": [[0.0, \"#0d0887\"], [0.1111111111111111, \"#46039f\"], [0.2222222222222222, \"#7201a8\"], [0.3333333333333333, \"#9c179e\"], [0.4444444444444444, \"#bd3786\"], [0.5555555555555556, \"#d8576b\"], [0.6666666666666666, \"#ed7953\"], [0.7777777777777778, \"#fb9f3a\"], [0.8888888888888888, \"#fdca26\"], [1.0, \"#f0f921\"]], \"type\": \"heatmap\"}], \"heatmapgl\": [{\"colorbar\": {\"outlinewidth\": 0, \"ticks\": \"\"}, \"colorscale\": [[0.0, \"#0d0887\"], [0.1111111111111111, \"#46039f\"], [0.2222222222222222, \"#7201a8\"], [0.3333333333333333, \"#9c179e\"], [0.4444444444444444, \"#bd3786\"], [0.5555555555555556, \"#d8576b\"], [0.6666666666666666, \"#ed7953\"], [0.7777777777777778, \"#fb9f3a\"], [0.8888888888888888, \"#fdca26\"], [1.0, \"#f0f921\"]], \"type\": \"heatmapgl\"}], \"histogram\": [{\"marker\": {\"colorbar\": {\"outlinewidth\": 0, \"ticks\": \"\"}}, \"type\": \"histogram\"}], \"histogram2d\": [{\"colorbar\": {\"outlinewidth\": 0, \"ticks\": \"\"}, \"colorscale\": [[0.0, \"#0d0887\"], [0.1111111111111111, \"#46039f\"], [0.2222222222222222, \"#7201a8\"], [0.3333333333333333, \"#9c179e\"], [0.4444444444444444, \"#bd3786\"], [0.5555555555555556, \"#d8576b\"], [0.6666666666666666, \"#ed7953\"], [0.7777777777777778, \"#fb9f3a\"], [0.8888888888888888, \"#fdca26\"], [1.0, \"#f0f921\"]], \"type\": \"histogram2d\"}], \"histogram2dcontour\": [{\"colorbar\": {\"outlinewidth\": 0, \"ticks\": \"\"}, \"colorscale\": [[0.0, \"#0d0887\"], [0.1111111111111111, \"#46039f\"], [0.2222222222222222, \"#7201a8\"], [0.3333333333333333, \"#9c179e\"], [0.4444444444444444, \"#bd3786\"], [0.5555555555555556, \"#d8576b\"], [0.6666666666666666, \"#ed7953\"], [0.7777777777777778, \"#fb9f3a\"], [0.8888888888888888, \"#fdca26\"], [1.0, \"#f0f921\"]], \"type\": \"histogram2dcontour\"}], \"mesh3d\": [{\"colorbar\": {\"outlinewidth\": 0, \"ticks\": \"\"}, \"type\": \"mesh3d\"}], \"parcoords\": [{\"line\": {\"colorbar\": {\"outlinewidth\": 0, \"ticks\": \"\"}}, \"type\": \"parcoords\"}], \"pie\": [{\"automargin\": true, \"type\": \"pie\"}], \"scatter\": [{\"marker\": {\"colorbar\": {\"outlinewidth\": 0, \"ticks\": \"\"}}, \"type\": \"scatter\"}], \"scatter3d\": [{\"line\": {\"colorbar\": {\"outlinewidth\": 0, \"ticks\": \"\"}}, \"marker\": {\"colorbar\": {\"outlinewidth\": 0, \"ticks\": \"\"}}, \"type\": \"scatter3d\"}], \"scattercarpet\": [{\"marker\": {\"colorbar\": {\"outlinewidth\": 0, \"ticks\": \"\"}}, \"type\": \"scattercarpet\"}], \"scattergeo\": [{\"marker\": {\"colorbar\": {\"outlinewidth\": 0, \"ticks\": \"\"}}, \"type\": \"scattergeo\"}], \"scattergl\": [{\"marker\": {\"colorbar\": {\"outlinewidth\": 0, \"ticks\": \"\"}}, \"type\": \"scattergl\"}], \"scattermapbox\": [{\"marker\": {\"colorbar\": {\"outlinewidth\": 0, \"ticks\": \"\"}}, \"type\": \"scattermapbox\"}], \"scatterpolar\": [{\"marker\": {\"colorbar\": {\"outlinewidth\": 0, \"ticks\": \"\"}}, \"type\": \"scatterpolar\"}], \"scatterpolargl\": [{\"marker\": {\"colorbar\": {\"outlinewidth\": 0, \"ticks\": \"\"}}, \"type\": \"scatterpolargl\"}], \"scatterternary\": [{\"marker\": {\"colorbar\": {\"outlinewidth\": 0, \"ticks\": \"\"}}, \"type\": \"scatterternary\"}], \"surface\": [{\"colorbar\": {\"outlinewidth\": 0, \"ticks\": \"\"}, \"colorscale\": [[0.0, \"#0d0887\"], [0.1111111111111111, \"#46039f\"], [0.2222222222222222, \"#7201a8\"], [0.3333333333333333, \"#9c179e\"], [0.4444444444444444, \"#bd3786\"], [0.5555555555555556, \"#d8576b\"], [0.6666666666666666, \"#ed7953\"], [0.7777777777777778, \"#fb9f3a\"], [0.8888888888888888, \"#fdca26\"], [1.0, \"#f0f921\"]], \"type\": \"surface\"}], \"table\": [{\"cells\": {\"fill\": {\"color\": \"#EBF0F8\"}, \"line\": {\"color\": \"white\"}}, \"header\": {\"fill\": {\"color\": \"#C8D4E3\"}, \"line\": {\"color\": \"white\"}}, \"type\": \"table\"}]}, \"layout\": {\"annotationdefaults\": {\"arrowcolor\": \"#2a3f5f\", \"arrowhead\": 0, \"arrowwidth\": 1}, \"coloraxis\": {\"colorbar\": {\"outlinewidth\": 0, \"ticks\": \"\"}}, \"colorscale\": {\"diverging\": [[0, \"#8e0152\"], [0.1, \"#c51b7d\"], [0.2, \"#de77ae\"], [0.3, \"#f1b6da\"], [0.4, \"#fde0ef\"], [0.5, \"#f7f7f7\"], [0.6, \"#e6f5d0\"], [0.7, \"#b8e186\"], [0.8, \"#7fbc41\"], [0.9, \"#4d9221\"], [1, \"#276419\"]], \"sequential\": [[0.0, \"#0d0887\"], [0.1111111111111111, \"#46039f\"], [0.2222222222222222, \"#7201a8\"], [0.3333333333333333, \"#9c179e\"], [0.4444444444444444, \"#bd3786\"], [0.5555555555555556, \"#d8576b\"], [0.6666666666666666, \"#ed7953\"], [0.7777777777777778, \"#fb9f3a\"], [0.8888888888888888, \"#fdca26\"], [1.0, \"#f0f921\"]], \"sequentialminus\": [[0.0, \"#0d0887\"], [0.1111111111111111, \"#46039f\"], [0.2222222222222222, \"#7201a8\"], [0.3333333333333333, \"#9c179e\"], [0.4444444444444444, \"#bd3786\"], [0.5555555555555556, \"#d8576b\"], [0.6666666666666666, \"#ed7953\"], [0.7777777777777778, \"#fb9f3a\"], [0.8888888888888888, \"#fdca26\"], [1.0, \"#f0f921\"]]}, \"colorway\": [\"#636efa\", \"#EF553B\", \"#00cc96\", \"#ab63fa\", \"#FFA15A\", \"#19d3f3\", \"#FF6692\", \"#B6E880\", \"#FF97FF\", \"#FECB52\"], \"font\": {\"color\": \"#2a3f5f\"}, \"geo\": {\"bgcolor\": \"white\", \"lakecolor\": \"white\", \"landcolor\": \"#E5ECF6\", \"showlakes\": true, \"showland\": true, \"subunitcolor\": \"white\"}, \"hoverlabel\": {\"align\": \"left\"}, \"hovermode\": \"closest\", \"mapbox\": {\"style\": \"light\"}, \"paper_bgcolor\": \"white\", \"plot_bgcolor\": \"#E5ECF6\", \"polar\": {\"angularaxis\": {\"gridcolor\": \"white\", \"linecolor\": \"white\", \"ticks\": \"\"}, \"bgcolor\": \"#E5ECF6\", \"radialaxis\": {\"gridcolor\": \"white\", \"linecolor\": \"white\", \"ticks\": \"\"}}, \"scene\": {\"xaxis\": {\"backgroundcolor\": \"#E5ECF6\", \"gridcolor\": \"white\", \"gridwidth\": 2, \"linecolor\": \"white\", \"showbackground\": true, \"ticks\": \"\", \"zerolinecolor\": \"white\"}, \"yaxis\": {\"backgroundcolor\": \"#E5ECF6\", \"gridcolor\": \"white\", \"gridwidth\": 2, \"linecolor\": \"white\", \"showbackground\": true, \"ticks\": \"\", \"zerolinecolor\": \"white\"}, \"zaxis\": {\"backgroundcolor\": \"#E5ECF6\", \"gridcolor\": \"white\", \"gridwidth\": 2, \"linecolor\": \"white\", \"showbackground\": true, \"ticks\": \"\", \"zerolinecolor\": \"white\"}}, \"shapedefaults\": {\"line\": {\"color\": \"#2a3f5f\"}}, \"ternary\": {\"aaxis\": {\"gridcolor\": \"white\", \"linecolor\": \"white\", \"ticks\": \"\"}, \"baxis\": {\"gridcolor\": \"white\", \"linecolor\": \"white\", \"ticks\": \"\"}, \"bgcolor\": \"#E5ECF6\", \"caxis\": {\"gridcolor\": \"white\", \"linecolor\": \"white\", \"ticks\": \"\"}}, \"title\": {\"x\": 0.05}, \"xaxis\": {\"automargin\": true, \"gridcolor\": \"white\", \"linecolor\": \"white\", \"ticks\": \"\", \"title\": {\"standoff\": 15}, \"zerolinecolor\": \"white\", \"zerolinewidth\": 2}, \"yaxis\": {\"automargin\": true, \"gridcolor\": \"white\", \"linecolor\": \"white\", \"ticks\": \"\", \"title\": {\"standoff\": 15}, \"zerolinecolor\": \"white\", \"zerolinewidth\": 2}}}},\n",
       "                        {\"responsive\": true}\n",
       "                    ).then(function(){\n",
       "                            \n",
       "var gd = document.getElementById('03fd9a67-0bcb-4d0d-b810-3bc8baa6bdcf');\n",
       "var x = new MutationObserver(function (mutations, observer) {{\n",
       "        var display = window.getComputedStyle(gd).display;\n",
       "        if (!display || display === 'none') {{\n",
       "            console.log([gd, 'removed!']);\n",
       "            Plotly.purge(gd);\n",
       "            observer.disconnect();\n",
       "        }}\n",
       "}});\n",
       "\n",
       "// Listen for the removal of the full notebook cells\n",
       "var notebookContainer = gd.closest('#notebook-container');\n",
       "if (notebookContainer) {{\n",
       "    x.observe(notebookContainer, {childList: true});\n",
       "}}\n",
       "\n",
       "// Listen for the clearing of the current output cell\n",
       "var outputEl = gd.closest('.output');\n",
       "if (outputEl) {{\n",
       "    x.observe(outputEl, {childList: true});\n",
       "}}\n",
       "\n",
       "                        })\n",
       "                };\n",
       "                });\n",
       "            </script>\n",
       "        </div>"
      ]
     },
     "metadata": {},
     "output_type": "display_data"
    }
   ],
   "source": [
    "#Expenses\n",
    "\n",
    "#Category\n",
    "groups = ['Rent','Food','Bills','Utilities']\n",
    "\n",
    "#Amount\n",
    "amount = [1000,518,331,277]\n",
    "\n",
    "#Add style\n",
    "colors = ['BLUE', 'GREEN', 'RED', 'YELLOW']\n",
    "\n",
    "trace = go.Pie(labels=groups, values=amount,\n",
    "               hoverinfo='label+percent', textinfo='value', \n",
    "               textfont=dict(size=25),\n",
    "               marker=dict(colors=colors, \n",
    "                           line=dict(color='#000000', width=3)))\n",
    "\n",
    "#Plot\n",
    "iplot([trace])"
   ]
  },
  {
   "cell_type": "markdown",
   "metadata": {},
   "source": []
  }
 ],
 "metadata": {
  "kernelspec": {
   "display_name": "Python 3",
   "language": "python",
   "name": "python3"
  },
  "language_info": {
   "codemirror_mode": {
    "name": "ipython",
    "version": 3
   },
   "file_extension": ".py",
   "mimetype": "text/x-python",
   "name": "python",
   "nbconvert_exporter": "python",
   "pygments_lexer": "ipython3",
   "version": "3.7.4"
  }
 },
 "nbformat": 4,
 "nbformat_minor": 2
}
